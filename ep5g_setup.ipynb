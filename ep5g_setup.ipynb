{
  "cells": [
    {
      "cell_type": "markdown",
      "metadata": {
        "id": "view-in-github",
        "colab_type": "text"
      },
      "source": [
        "<a href=\"https://colab.research.google.com/github/5G-Latency-Prediction-Project/5G-Data-Measurements/blob/main/ep5g_setup.ipynb\" target=\"_parent\"><img src=\"https://colab.research.google.com/assets/colab-badge.svg\" alt=\"Open In Colab\"/></a>"
      ]
    },
    {
      "cell_type": "markdown",
      "metadata": {
        "id": "W9YICZf_mJBy"
      },
      "source": [
        "Login to Chameleon and download openrc.sh file from [here](https://testbed.expeca.proj.kth.se/project/api_access/openrc/). Upload it here next to this notebook and continue.\n",
        "\n",
        "In the next cell, we setup the authentication method to be able to use Openstack clients."
      ]
    },
    {
      "cell_type": "code",
      "execution_count": null,
      "metadata": {
        "id": "D9KpGVY8eTte"
      },
      "outputs": [],
      "source": [
        "import re\n",
        "import os\n",
        "from getpass import getpass"
      ]
    },
    {
      "cell_type": "code",
      "execution_count": null,
      "metadata": {
        "id": "YhhPvoT4lzAR",
        "outputId": "28b084d7-aa88-44d1-97d4-ec8ee340148b",
        "colab": {
          "base_uri": "https://localhost:8080/",
          "height": 245
        }
      },
      "outputs": [
        {
          "output_type": "error",
          "ename": "FileNotFoundError",
          "evalue": "ignored",
          "traceback": [
            "\u001b[0;31m---------------------------------------------------------------------------\u001b[0m",
            "\u001b[0;31mFileNotFoundError\u001b[0m                         Traceback (most recent call last)",
            "\u001b[0;32m<ipython-input-2-ea246c3d983f>\u001b[0m in \u001b[0;36m<cell line: 1>\u001b[0;34m()\u001b[0m\n\u001b[0;32m----> 1\u001b[0;31m \u001b[0;32mwith\u001b[0m \u001b[0mopen\u001b[0m\u001b[0;34m(\u001b[0m\u001b[0;34m'./sdr-test-project-openrc.sh'\u001b[0m\u001b[0;34m,\u001b[0m \u001b[0;34m'r'\u001b[0m\u001b[0;34m)\u001b[0m \u001b[0;32mas\u001b[0m \u001b[0mf\u001b[0m\u001b[0;34m:\u001b[0m\u001b[0;34m\u001b[0m\u001b[0;34m\u001b[0m\u001b[0m\n\u001b[0m\u001b[1;32m      2\u001b[0m     \u001b[0mscript_content\u001b[0m \u001b[0;34m=\u001b[0m \u001b[0mf\u001b[0m\u001b[0;34m.\u001b[0m\u001b[0mread\u001b[0m\u001b[0;34m(\u001b[0m\u001b[0;34m)\u001b[0m\u001b[0;34m\u001b[0m\u001b[0;34m\u001b[0m\u001b[0m\n\u001b[1;32m      3\u001b[0m     \u001b[0mpattern\u001b[0m \u001b[0;34m=\u001b[0m \u001b[0;34mr'export\\s+(\\w+)\\s*=\\s*(\"[^\"]+\"|[^\"\\n]+)'\u001b[0m\u001b[0;34m\u001b[0m\u001b[0;34m\u001b[0m\u001b[0m\n\u001b[1;32m      4\u001b[0m     \u001b[0mmatches\u001b[0m \u001b[0;34m=\u001b[0m \u001b[0mre\u001b[0m\u001b[0;34m.\u001b[0m\u001b[0mfindall\u001b[0m\u001b[0;34m(\u001b[0m\u001b[0mpattern\u001b[0m\u001b[0;34m,\u001b[0m \u001b[0mscript_content\u001b[0m\u001b[0;34m)\u001b[0m\u001b[0;34m\u001b[0m\u001b[0;34m\u001b[0m\u001b[0m\n\u001b[1;32m      5\u001b[0m \u001b[0;34m\u001b[0m\u001b[0m\n",
            "\u001b[0;31mFileNotFoundError\u001b[0m: [Errno 2] No such file or directory: './sdr-test-project-openrc.sh'"
          ]
        }
      ],
      "source": [
        "with open('./sdr-test-project-openrc.sh', 'r') as f:\n",
        "    script_content = f.read()\n",
        "    pattern = r'export\\s+(\\w+)\\s*=\\s*(\"[^\"]+\"|[^\"\\n]+)'\n",
        "    matches = re.findall(pattern, script_content)\n",
        "\n",
        "    for name, value in matches:\n",
        "        os.environ[name] = value.strip('\"')\n",
        "\n",
        "password = getpass('enter your expeca password:')\n",
        "os.environ['OS_PASSWORD'] = password"
      ]
    },
    {
      "cell_type": "markdown",
      "metadata": {
        "id": "5bXlipy4m1bs"
      },
      "source": [
        "Install required packages and dependencies. Ignore the warnings."
      ]
    },
    {
      "cell_type": "code",
      "source": [
        "!pip install loguru\n",
        "!pip uninstall -q -y moviepy\n",
        "!pip install -q jedi\n",
        "!pip install -q git+https://github.com/KTH-EXPECA/python-chi"
      ],
      "metadata": {
        "id": "o9vXzxhdl9Tx",
        "outputId": "505cd7ce-3f75-4564-a161-d281c44c3742",
        "colab": {
          "base_uri": "https://localhost:8080/"
        }
      },
      "execution_count": null,
      "outputs": [
        {
          "output_type": "stream",
          "name": "stdout",
          "text": [
            "Collecting loguru\n",
            "  Downloading loguru-0.7.2-py3-none-any.whl (62 kB)\n",
            "\u001b[?25l     \u001b[90m━━━━━━━━━━━━━━━━━━━━━━━━━━━━━━━━━━━━━━━━\u001b[0m \u001b[32m0.0/62.5 kB\u001b[0m \u001b[31m?\u001b[0m eta \u001b[36m-:--:--\u001b[0m\r\u001b[2K     \u001b[90m━━━━━━━━━━━━━━━━━━━━━━━━━━━━━━━━━━━━━━━━\u001b[0m \u001b[32m62.5/62.5 kB\u001b[0m \u001b[31m2.1 MB/s\u001b[0m eta \u001b[36m0:00:00\u001b[0m\n",
            "\u001b[?25hInstalling collected packages: loguru\n",
            "Successfully installed loguru-0.7.2\n",
            "\u001b[2K     \u001b[90m━━━━━━━━━━━━━━━━━━━━━━━━━━━━━━━━━━━━━━━━\u001b[0m \u001b[32m1.6/1.6 MB\u001b[0m \u001b[31m20.7 MB/s\u001b[0m eta \u001b[36m0:00:00\u001b[0m\n",
            "\u001b[?25h  Preparing metadata (setup.py) ... \u001b[?25l\u001b[?25hdone\n",
            "  Preparing metadata (setup.py) ... \u001b[?25l\u001b[?25hdone\n",
            "\u001b[2K     \u001b[90m━━━━━━━━━━━━━━━━━━━━━━━━━━━━━━━━━━━━━━━━\u001b[0m \u001b[32m59.4/59.4 kB\u001b[0m \u001b[31m2.1 MB/s\u001b[0m eta \u001b[36m0:00:00\u001b[0m\n",
            "\u001b[2K     \u001b[90m━━━━━━━━━━━━━━━━━━━━━━━━━━━━━━━━━━━━━━━━\u001b[0m \u001b[32m66.5/66.5 kB\u001b[0m \u001b[31m7.4 MB/s\u001b[0m eta \u001b[36m0:00:00\u001b[0m\n",
            "\u001b[2K     \u001b[90m━━━━━━━━━━━━━━━━━━━━━━━━━━━━━━━━━━━━━━━━\u001b[0m \u001b[32m323.1/323.1 kB\u001b[0m \u001b[31m20.1 MB/s\u001b[0m eta \u001b[36m0:00:00\u001b[0m\n",
            "\u001b[2K     \u001b[90m━━━━━━━━━━━━━━━━━━━━━━━━━━━━━━━━━━━━━━━━\u001b[0m \u001b[32m1.7/1.7 MB\u001b[0m \u001b[31m53.5 MB/s\u001b[0m eta \u001b[36m0:00:00\u001b[0m\n",
            "\u001b[2K     \u001b[90m━━━━━━━━━━━━━━━━━━━━━━━━━━━━━━━━━━━━━━━━\u001b[0m \u001b[32m224.8/224.8 kB\u001b[0m \u001b[31m25.9 MB/s\u001b[0m eta \u001b[36m0:00:00\u001b[0m\n",
            "\u001b[2K     \u001b[90m━━━━━━━━━━━━━━━━━━━━━━━━━━━━━━━━━━━━━━━━\u001b[0m \u001b[32m255.9/255.9 kB\u001b[0m \u001b[31m35.0 MB/s\u001b[0m eta \u001b[36m0:00:00\u001b[0m\n",
            "\u001b[2K     \u001b[90m━━━━━━━━━━━━━━━━━━━━━━━━━━━━━━━━━━━━━━━━\u001b[0m \u001b[32m205.4/205.4 kB\u001b[0m \u001b[31m26.3 MB/s\u001b[0m eta \u001b[36m0:00:00\u001b[0m\n",
            "\u001b[2K     \u001b[90m━━━━━━━━━━━━━━━━━━━━━━━━━━━━━━━━━━━━━━━━\u001b[0m \u001b[32m252.6/252.6 kB\u001b[0m \u001b[31m33.7 MB/s\u001b[0m eta \u001b[36m0:00:00\u001b[0m\n",
            "\u001b[2K     \u001b[90m━━━━━━━━━━━━━━━━━━━━━━━━━━━━━━━━━━━━━━━━\u001b[0m \u001b[32m512.5/512.5 kB\u001b[0m \u001b[31m49.9 MB/s\u001b[0m eta \u001b[36m0:00:00\u001b[0m\n",
            "\u001b[2K     \u001b[90m━━━━━━━━━━━━━━━━━━━━━━━━━━━━━━━━━━━━━━━━\u001b[0m \u001b[32m293.6/293.6 kB\u001b[0m \u001b[31m37.6 MB/s\u001b[0m eta \u001b[36m0:00:00\u001b[0m\n",
            "\u001b[2K     \u001b[90m━━━━━━━━━━━━━━━━━━━━━━━━━━━━━━━━━━━━━━━━\u001b[0m \u001b[32m335.9/335.9 kB\u001b[0m \u001b[31m38.1 MB/s\u001b[0m eta \u001b[36m0:00:00\u001b[0m\n",
            "\u001b[2K     \u001b[90m━━━━━━━━━━━━━━━━━━━━━━━━━━━━━━━━━━━━━━━━\u001b[0m \u001b[32m155.1/155.1 kB\u001b[0m \u001b[31m19.9 MB/s\u001b[0m eta \u001b[36m0:00:00\u001b[0m\n",
            "\u001b[2K     \u001b[90m━━━━━━━━━━━━━━━━━━━━━━━━━━━━━━━━━━━━━━━━\u001b[0m \u001b[32m160.3/160.3 kB\u001b[0m \u001b[31m21.5 MB/s\u001b[0m eta \u001b[36m0:00:00\u001b[0m\n",
            "\u001b[2K     \u001b[90m━━━━━━━━━━━━━━━━━━━━━━━━━━━━━━━━━━━━━━━━\u001b[0m \u001b[32m593.7/593.7 kB\u001b[0m \u001b[31m55.4 MB/s\u001b[0m eta \u001b[36m0:00:00\u001b[0m\n",
            "\u001b[2K     \u001b[90m━━━━━━━━━━━━━━━━━━━━━━━━━━━━━━━━━━━━━━━━\u001b[0m \u001b[32m856.7/856.7 kB\u001b[0m \u001b[31m75.7 MB/s\u001b[0m eta \u001b[36m0:00:00\u001b[0m\n",
            "\u001b[2K     \u001b[90m━━━━━━━━━━━━━━━━━━━━━━━━━━━━━━━━━━━━━━━━\u001b[0m \u001b[32m80.6/80.6 kB\u001b[0m \u001b[31m11.5 MB/s\u001b[0m eta \u001b[36m0:00:00\u001b[0m\n",
            "\u001b[2K     \u001b[90m━━━━━━━━━━━━━━━━━━━━━━━━━━━━━━━━━━━━━━━━\u001b[0m \u001b[32m53.9/53.9 kB\u001b[0m \u001b[31m6.1 MB/s\u001b[0m eta \u001b[36m0:00:00\u001b[0m\n",
            "\u001b[2K     \u001b[90m━━━━━━━━━━━━━━━━━━━━━━━━━━━━━━━━━━━━━━━━\u001b[0m \u001b[32m49.6/49.6 kB\u001b[0m \u001b[31m6.6 MB/s\u001b[0m eta \u001b[36m0:00:00\u001b[0m\n",
            "\u001b[2K     \u001b[90m━━━━━━━━━━━━━━━━━━━━━━━━━━━━━━━━━━━━━━━━\u001b[0m \u001b[32m52.2/52.2 kB\u001b[0m \u001b[31m6.9 MB/s\u001b[0m eta \u001b[36m0:00:00\u001b[0m\n",
            "\u001b[?25h  Preparing metadata (setup.py) ... \u001b[?25l\u001b[?25hdone\n",
            "\u001b[2K     \u001b[90m━━━━━━━━━━━━━━━━━━━━━━━━━━━━━━━━━━━━━━━━\u001b[0m \u001b[32m46.8/46.8 kB\u001b[0m \u001b[31m6.1 MB/s\u001b[0m eta \u001b[36m0:00:00\u001b[0m\n",
            "\u001b[2K     \u001b[90m━━━━━━━━━━━━━━━━━━━━━━━━━━━━━━━━━━━━━━━━\u001b[0m \u001b[32m76.3/76.3 kB\u001b[0m \u001b[31m9.8 MB/s\u001b[0m eta \u001b[36m0:00:00\u001b[0m\n",
            "\u001b[2K     \u001b[90m━━━━━━━━━━━━━━━━━━━━━━━━━━━━━━━━━━━━━━━━\u001b[0m \u001b[32m101.1/101.1 kB\u001b[0m \u001b[31m9.2 MB/s\u001b[0m eta \u001b[36m0:00:00\u001b[0m\n",
            "\u001b[2K     \u001b[90m━━━━━━━━━━━━━━━━━━━━━━━━━━━━━━━━━━━━━━━━\u001b[0m \u001b[32m89.2/89.2 kB\u001b[0m \u001b[31m8.5 MB/s\u001b[0m eta \u001b[36m0:00:00\u001b[0m\n",
            "\u001b[2K     \u001b[90m━━━━━━━━━━━━━━━━━━━━━━━━━━━━━━━━━━━━━━━━\u001b[0m \u001b[32m128.6/128.6 kB\u001b[0m \u001b[31m16.3 MB/s\u001b[0m eta \u001b[36m0:00:00\u001b[0m\n",
            "\u001b[2K     \u001b[90m━━━━━━━━━━━━━━━━━━━━━━━━━━━━━━━━━━━━━━━━\u001b[0m \u001b[32m397.9/397.9 kB\u001b[0m \u001b[31m28.8 MB/s\u001b[0m eta \u001b[36m0:00:00\u001b[0m\n",
            "\u001b[2K     \u001b[90m━━━━━━━━━━━━━━━━━━━━━━━━━━━━━━━━━━━━━━━━\u001b[0m \u001b[32m137.9/137.9 kB\u001b[0m \u001b[31m16.5 MB/s\u001b[0m eta \u001b[36m0:00:00\u001b[0m\n",
            "\u001b[2K     \u001b[90m━━━━━━━━━━━━━━━━━━━━━━━━━━━━━━━━━━━━━━━━\u001b[0m \u001b[32m2.2/2.2 MB\u001b[0m \u001b[31m104.5 MB/s\u001b[0m eta \u001b[36m0:00:00\u001b[0m\n",
            "\u001b[2K     \u001b[90m━━━━━━━━━━━━━━━━━━━━━━━━━━━━━━━━━━━━━━━━\u001b[0m \u001b[32m148.1/148.1 kB\u001b[0m \u001b[31m21.4 MB/s\u001b[0m eta \u001b[36m0:00:00\u001b[0m\n",
            "\u001b[2K     \u001b[90m━━━━━━━━━━━━━━━━━━━━━━━━━━━━━━━━━━━━━━━━\u001b[0m \u001b[32m1.1/1.1 MB\u001b[0m \u001b[31m79.3 MB/s\u001b[0m eta \u001b[36m0:00:00\u001b[0m\n",
            "\u001b[2K     \u001b[90m━━━━━━━━━━━━━━━━━━━━━━━━━━━━━━━━━━━━━━━━\u001b[0m \u001b[32m147.2/147.2 kB\u001b[0m \u001b[31m20.4 MB/s\u001b[0m eta \u001b[36m0:00:00\u001b[0m\n",
            "\u001b[2K     \u001b[90m━━━━━━━━━━━━━━━━━━━━━━━━━━━━━━━━━━━━━━━━\u001b[0m \u001b[32m61.0/61.0 kB\u001b[0m \u001b[31m8.1 MB/s\u001b[0m eta \u001b[36m0:00:00\u001b[0m\n",
            "\u001b[?25h  Preparing metadata (setup.py) ... \u001b[?25l\u001b[?25hdone\n",
            "\u001b[2K     \u001b[90m━━━━━━━━━━━━━━━━━━━━━━━━━━━━━━━━━━━━━━━━\u001b[0m \u001b[32m341.8/341.8 kB\u001b[0m \u001b[31m38.5 MB/s\u001b[0m eta \u001b[36m0:00:00\u001b[0m\n",
            "\u001b[?25h  Building wheel for python-chi (setup.py) ... \u001b[?25l\u001b[?25hdone\n",
            "  Building wheel for python-blazarclient (setup.py) ... \u001b[?25l\u001b[?25hdone\n",
            "  Building wheel for netifaces (setup.py) ... \u001b[?25l\u001b[?25hdone\n",
            "  Building wheel for pyinotify (setup.py) ... \u001b[?25l\u001b[?25hdone\n"
          ]
        }
      ]
    },
    {
      "cell_type": "markdown",
      "metadata": {
        "id": "VkDR3RsFpKSv"
      },
      "source": [
        "Import packages"
      ]
    },
    {
      "cell_type": "code",
      "execution_count": null,
      "metadata": {
        "id": "gWqW34Pc7YJp"
      },
      "outputs": [],
      "source": [
        "import json\n",
        "import time\n",
        "from loguru import logger\n",
        "import chi.network, chi.container, chi.network\n",
        "from chi.expeca import reserve, list_reservations, unreserve_byid, get_container_status, wait_until_container_removed"
      ]
    },
    {
      "cell_type": "code",
      "execution_count": null,
      "metadata": {
        "colab": {
          "base_uri": "https://localhost:8080/"
        },
        "id": "yUj2luPVdpY3",
        "outputId": "5ab83b3d-c005-4603-c9f6-e02c22f378f7"
      },
      "outputs": [
        {
          "name": "stdout",
          "output_type": "stream",
          "text": [
            "[\n",
            "    {\n",
            "        \"name\": \"adv-03-lease\",\n",
            "        \"id\": \"30522f6f-e811-4ca8-8429-8651d8f8cf23\",\n",
            "        \"reservation_id\": \"e94e4323-85ed-4605-a22f-8a6ccf660221\",\n",
            "        \"status\": \"ACTIVE\",\n",
            "        \"end_date\": \"2023-11-10T14:06:00.000000\"\n",
            "    },\n",
            "    {\n",
            "        \"name\": \"worker-07-lease\",\n",
            "        \"id\": \"38c4f00e-499f-4c97-8304-4662eebb57c9\",\n",
            "        \"reservation_id\": \"4dc0eba9-4e45-4cca-9aa0-88c97132ccde\",\n",
            "        \"status\": \"ACTIVE\",\n",
            "        \"end_date\": \"2023-11-10T14:07:00.000000\"\n",
            "    },\n",
            "    {\n",
            "        \"name\": \"worker-08-lease\",\n",
            "        \"id\": \"938f25b0-2a4b-4f42-a0aa-49bff426fd8f\",\n",
            "        \"reservation_id\": \"e1ea606e-b4af-47dc-8a69-8849fef9c8f5\",\n",
            "        \"status\": \"ACTIVE\",\n",
            "        \"end_date\": \"2023-11-10T14:08:00.000000\"\n",
            "    },\n",
            "    {\n",
            "        \"name\": \"ep5g-lease\",\n",
            "        \"id\": \"b9ff0cf3-bf7a-4de2-9e28-4a1be19af3c5\",\n",
            "        \"reservation_id\": \"1a60b6a3-8276-4ba0-9167-658e643139b5\",\n",
            "        \"status\": \"ACTIVE\",\n",
            "        \"end_date\": \"2023-11-10T14:05:00.000000\"\n",
            "    }\n",
            "]\n"
          ]
        }
      ],
      "source": [
        "leaseslist = list_reservations(brief=True)\n",
        "print(json.dumps(leaseslist,indent=4))"
      ]
    },
    {
      "cell_type": "markdown",
      "metadata": {
        "id": "Rd4EsDjdqRFU"
      },
      "source": [
        "In the next cell, we reserve the required equipment and resources to form an end to end experiment setup. We reserve EP5G network, one Advantech router and one worker to run the workloads."
      ]
    },
    {
      "cell_type": "code",
      "execution_count": null,
      "metadata": {
        "colab": {
          "base_uri": "https://localhost:8080/"
        },
        "id": "1pauMnGZ8KSP",
        "outputId": "438eab00-52e8-408d-be30-769c863818ed"
      },
      "outputs": [
        {
          "name": "stderr",
          "output_type": "stream",
          "text": [
            "\u001b[32m2023-11-03 15:05:25.023\u001b[0m | \u001b[1mINFO    \u001b[0m | \u001b[36mchi.expeca\u001b[0m:\u001b[36mreserve\u001b[0m:\u001b[36m167\u001b[0m - \u001b[1mreserving ep5g\u001b[0m\n",
            "\u001b[32m2023-11-03 15:05:27.561\u001b[0m | \u001b[1mINFO    \u001b[0m | \u001b[36mchi.expeca\u001b[0m:\u001b[36mwait_until_lease_status\u001b[0m:\u001b[36m62\u001b[0m - \u001b[1mwaiting 120 seconds for ep5g-lease with id b9ff0cf3-bf7a-4de2-9e28-4a1be19af3c5 to become \"ACTIVE\"\u001b[0m\n",
            "\u001b[32m2023-11-03 15:05:32.603\u001b[0m | \u001b[1mINFO    \u001b[0m | \u001b[36mchi.expeca\u001b[0m:\u001b[36mwait_until_lease_status\u001b[0m:\u001b[36m69\u001b[0m - \u001b[1mlease ep5g-lease with id b9ff0cf3-bf7a-4de2-9e28-4a1be19af3c5 is PENDING.\u001b[0m\n",
            "\u001b[32m2023-11-03 15:05:37.651\u001b[0m | \u001b[1mINFO    \u001b[0m | \u001b[36mchi.expeca\u001b[0m:\u001b[36mwait_until_lease_status\u001b[0m:\u001b[36m69\u001b[0m - \u001b[1mlease ep5g-lease with id b9ff0cf3-bf7a-4de2-9e28-4a1be19af3c5 is PENDING.\u001b[0m\n",
            "\u001b[32m2023-11-03 15:05:42.693\u001b[0m | \u001b[1mINFO    \u001b[0m | \u001b[36mchi.expeca\u001b[0m:\u001b[36mwait_until_lease_status\u001b[0m:\u001b[36m69\u001b[0m - \u001b[1mlease ep5g-lease with id b9ff0cf3-bf7a-4de2-9e28-4a1be19af3c5 is PENDING.\u001b[0m\n",
            "\u001b[32m2023-11-03 15:05:47.735\u001b[0m | \u001b[1mINFO    \u001b[0m | \u001b[36mchi.expeca\u001b[0m:\u001b[36mwait_until_lease_status\u001b[0m:\u001b[36m69\u001b[0m - \u001b[1mlease ep5g-lease with id b9ff0cf3-bf7a-4de2-9e28-4a1be19af3c5 is PENDING.\u001b[0m\n",
            "\u001b[32m2023-11-03 15:05:52.775\u001b[0m | \u001b[1mINFO    \u001b[0m | \u001b[36mchi.expeca\u001b[0m:\u001b[36mwait_until_lease_status\u001b[0m:\u001b[36m69\u001b[0m - \u001b[1mlease ep5g-lease with id b9ff0cf3-bf7a-4de2-9e28-4a1be19af3c5 is PENDING.\u001b[0m\n",
            "\u001b[32m2023-11-03 15:05:57.821\u001b[0m | \u001b[1mINFO    \u001b[0m | \u001b[36mchi.expeca\u001b[0m:\u001b[36mwait_until_lease_status\u001b[0m:\u001b[36m69\u001b[0m - \u001b[1mlease ep5g-lease with id b9ff0cf3-bf7a-4de2-9e28-4a1be19af3c5 is PENDING.\u001b[0m\n",
            "\u001b[32m2023-11-03 15:06:02.849\u001b[0m | \u001b[1mINFO    \u001b[0m | \u001b[36mchi.expeca\u001b[0m:\u001b[36mwait_until_lease_status\u001b[0m:\u001b[36m69\u001b[0m - \u001b[1mlease ep5g-lease with id b9ff0cf3-bf7a-4de2-9e28-4a1be19af3c5 is STARTING.\u001b[0m\n",
            "\u001b[32m2023-11-03 15:06:07.898\u001b[0m | \u001b[1mINFO    \u001b[0m | \u001b[36mchi.expeca\u001b[0m:\u001b[36mwait_until_lease_status\u001b[0m:\u001b[36m69\u001b[0m - \u001b[1mlease ep5g-lease with id b9ff0cf3-bf7a-4de2-9e28-4a1be19af3c5 is STARTING.\u001b[0m\n",
            "\u001b[32m2023-11-03 15:06:12.937\u001b[0m | \u001b[1mINFO    \u001b[0m | \u001b[36mchi.expeca\u001b[0m:\u001b[36mwait_until_lease_status\u001b[0m:\u001b[36m69\u001b[0m - \u001b[1mlease ep5g-lease with id b9ff0cf3-bf7a-4de2-9e28-4a1be19af3c5 is STARTING.\u001b[0m\n",
            "\u001b[32m2023-11-03 15:06:17.983\u001b[0m | \u001b[1mINFO    \u001b[0m | \u001b[36mchi.expeca\u001b[0m:\u001b[36mwait_until_lease_status\u001b[0m:\u001b[36m69\u001b[0m - \u001b[1mlease ep5g-lease with id b9ff0cf3-bf7a-4de2-9e28-4a1be19af3c5 is STARTING.\u001b[0m\n",
            "\u001b[32m2023-11-03 15:06:23.009\u001b[0m | \u001b[1mINFO    \u001b[0m | \u001b[36mchi.expeca\u001b[0m:\u001b[36mwait_until_lease_status\u001b[0m:\u001b[36m69\u001b[0m - \u001b[1mlease ep5g-lease with id b9ff0cf3-bf7a-4de2-9e28-4a1be19af3c5 is STARTING.\u001b[0m\n",
            "\u001b[32m2023-11-03 15:06:28.052\u001b[0m | \u001b[1mINFO    \u001b[0m | \u001b[36mchi.expeca\u001b[0m:\u001b[36mwait_until_lease_status\u001b[0m:\u001b[36m69\u001b[0m - \u001b[1mlease ep5g-lease with id b9ff0cf3-bf7a-4de2-9e28-4a1be19af3c5 is ACTIVE.\u001b[0m\n",
            "\u001b[32m2023-11-03 15:06:28.053\u001b[0m | \u001b[32m\u001b[1mSUCCESS \u001b[0m | \u001b[36mchi.expeca\u001b[0m:\u001b[36mtry_to_create_lease\u001b[0m:\u001b[36m209\u001b[0m - \u001b[32m\u001b[1mdone\u001b[0m\n",
            "\u001b[32m2023-11-03 15:06:28.054\u001b[0m | \u001b[1mINFO    \u001b[0m | \u001b[36mchi.expeca\u001b[0m:\u001b[36mreserve\u001b[0m:\u001b[36m167\u001b[0m - \u001b[1mreserving adv-03\u001b[0m\n",
            "\u001b[32m2023-11-03 15:06:30.461\u001b[0m | \u001b[1mINFO    \u001b[0m | \u001b[36mchi.expeca\u001b[0m:\u001b[36mwait_until_lease_status\u001b[0m:\u001b[36m62\u001b[0m - \u001b[1mwaiting 120 seconds for adv-03-lease with id 30522f6f-e811-4ca8-8429-8651d8f8cf23 to become \"ACTIVE\"\u001b[0m\n",
            "\u001b[32m2023-11-03 15:06:35.505\u001b[0m | \u001b[1mINFO    \u001b[0m | \u001b[36mchi.expeca\u001b[0m:\u001b[36mwait_until_lease_status\u001b[0m:\u001b[36m69\u001b[0m - \u001b[1mlease adv-03-lease with id 30522f6f-e811-4ca8-8429-8651d8f8cf23 is PENDING.\u001b[0m\n",
            "\u001b[32m2023-11-03 15:06:40.555\u001b[0m | \u001b[1mINFO    \u001b[0m | \u001b[36mchi.expeca\u001b[0m:\u001b[36mwait_until_lease_status\u001b[0m:\u001b[36m69\u001b[0m - \u001b[1mlease adv-03-lease with id 30522f6f-e811-4ca8-8429-8651d8f8cf23 is PENDING.\u001b[0m\n",
            "\u001b[32m2023-11-03 15:06:45.597\u001b[0m | \u001b[1mINFO    \u001b[0m | \u001b[36mchi.expeca\u001b[0m:\u001b[36mwait_until_lease_status\u001b[0m:\u001b[36m69\u001b[0m - \u001b[1mlease adv-03-lease with id 30522f6f-e811-4ca8-8429-8651d8f8cf23 is PENDING.\u001b[0m\n",
            "\u001b[32m2023-11-03 15:06:50.653\u001b[0m | \u001b[1mINFO    \u001b[0m | \u001b[36mchi.expeca\u001b[0m:\u001b[36mwait_until_lease_status\u001b[0m:\u001b[36m69\u001b[0m - \u001b[1mlease adv-03-lease with id 30522f6f-e811-4ca8-8429-8651d8f8cf23 is PENDING.\u001b[0m\n",
            "\u001b[32m2023-11-03 15:06:55.695\u001b[0m | \u001b[1mINFO    \u001b[0m | \u001b[36mchi.expeca\u001b[0m:\u001b[36mwait_until_lease_status\u001b[0m:\u001b[36m69\u001b[0m - \u001b[1mlease adv-03-lease with id 30522f6f-e811-4ca8-8429-8651d8f8cf23 is PENDING.\u001b[0m\n",
            "\u001b[32m2023-11-03 15:07:00.832\u001b[0m | \u001b[1mINFO    \u001b[0m | \u001b[36mchi.expeca\u001b[0m:\u001b[36mwait_until_lease_status\u001b[0m:\u001b[36m69\u001b[0m - \u001b[1mlease adv-03-lease with id 30522f6f-e811-4ca8-8429-8651d8f8cf23 is PENDING.\u001b[0m\n",
            "\u001b[32m2023-11-03 15:07:05.878\u001b[0m | \u001b[1mINFO    \u001b[0m | \u001b[36mchi.expeca\u001b[0m:\u001b[36mwait_until_lease_status\u001b[0m:\u001b[36m69\u001b[0m - \u001b[1mlease adv-03-lease with id 30522f6f-e811-4ca8-8429-8651d8f8cf23 is STARTING.\u001b[0m\n",
            "\u001b[32m2023-11-03 15:07:10.929\u001b[0m | \u001b[1mINFO    \u001b[0m | \u001b[36mchi.expeca\u001b[0m:\u001b[36mwait_until_lease_status\u001b[0m:\u001b[36m69\u001b[0m - \u001b[1mlease adv-03-lease with id 30522f6f-e811-4ca8-8429-8651d8f8cf23 is STARTING.\u001b[0m\n",
            "\u001b[32m2023-11-03 15:07:15.970\u001b[0m | \u001b[1mINFO    \u001b[0m | \u001b[36mchi.expeca\u001b[0m:\u001b[36mwait_until_lease_status\u001b[0m:\u001b[36m69\u001b[0m - \u001b[1mlease adv-03-lease with id 30522f6f-e811-4ca8-8429-8651d8f8cf23 is STARTING.\u001b[0m\n",
            "\u001b[32m2023-11-03 15:07:21.024\u001b[0m | \u001b[1mINFO    \u001b[0m | \u001b[36mchi.expeca\u001b[0m:\u001b[36mwait_until_lease_status\u001b[0m:\u001b[36m69\u001b[0m - \u001b[1mlease adv-03-lease with id 30522f6f-e811-4ca8-8429-8651d8f8cf23 is ACTIVE.\u001b[0m\n",
            "\u001b[32m2023-11-03 15:07:21.025\u001b[0m | \u001b[32m\u001b[1mSUCCESS \u001b[0m | \u001b[36mchi.expeca\u001b[0m:\u001b[36mtry_to_create_lease\u001b[0m:\u001b[36m209\u001b[0m - \u001b[32m\u001b[1mdone\u001b[0m\n",
            "\u001b[32m2023-11-03 15:07:21.025\u001b[0m | \u001b[1mINFO    \u001b[0m | \u001b[36mchi.expeca\u001b[0m:\u001b[36mreserve\u001b[0m:\u001b[36m167\u001b[0m - \u001b[1mreserving worker-07\u001b[0m\n",
            "\u001b[32m2023-11-03 15:07:23.278\u001b[0m | \u001b[1mINFO    \u001b[0m | \u001b[36mchi.expeca\u001b[0m:\u001b[36mwait_until_lease_status\u001b[0m:\u001b[36m62\u001b[0m - \u001b[1mwaiting 120 seconds for worker-07-lease with id 38c4f00e-499f-4c97-8304-4662eebb57c9 to become \"ACTIVE\"\u001b[0m\n",
            "\u001b[32m2023-11-03 15:07:28.308\u001b[0m | \u001b[1mINFO    \u001b[0m | \u001b[36mchi.expeca\u001b[0m:\u001b[36mwait_until_lease_status\u001b[0m:\u001b[36m69\u001b[0m - \u001b[1mlease worker-07-lease with id 38c4f00e-499f-4c97-8304-4662eebb57c9 is PENDING.\u001b[0m\n",
            "\u001b[32m2023-11-03 15:07:33.483\u001b[0m | \u001b[1mINFO    \u001b[0m | \u001b[36mchi.expeca\u001b[0m:\u001b[36mwait_until_lease_status\u001b[0m:\u001b[36m69\u001b[0m - \u001b[1mlease worker-07-lease with id 38c4f00e-499f-4c97-8304-4662eebb57c9 is PENDING.\u001b[0m\n",
            "\u001b[32m2023-11-03 15:07:38.532\u001b[0m | \u001b[1mINFO    \u001b[0m | \u001b[36mchi.expeca\u001b[0m:\u001b[36mwait_until_lease_status\u001b[0m:\u001b[36m69\u001b[0m - \u001b[1mlease worker-07-lease with id 38c4f00e-499f-4c97-8304-4662eebb57c9 is PENDING.\u001b[0m\n",
            "\u001b[32m2023-11-03 15:07:43.590\u001b[0m | \u001b[1mINFO    \u001b[0m | \u001b[36mchi.expeca\u001b[0m:\u001b[36mwait_until_lease_status\u001b[0m:\u001b[36m69\u001b[0m - \u001b[1mlease worker-07-lease with id 38c4f00e-499f-4c97-8304-4662eebb57c9 is PENDING.\u001b[0m\n",
            "\u001b[32m2023-11-03 15:07:48.636\u001b[0m | \u001b[1mINFO    \u001b[0m | \u001b[36mchi.expeca\u001b[0m:\u001b[36mwait_until_lease_status\u001b[0m:\u001b[36m69\u001b[0m - \u001b[1mlease worker-07-lease with id 38c4f00e-499f-4c97-8304-4662eebb57c9 is PENDING.\u001b[0m\n",
            "\u001b[32m2023-11-03 15:07:53.692\u001b[0m | \u001b[1mINFO    \u001b[0m | \u001b[36mchi.expeca\u001b[0m:\u001b[36mwait_until_lease_status\u001b[0m:\u001b[36m69\u001b[0m - \u001b[1mlease worker-07-lease with id 38c4f00e-499f-4c97-8304-4662eebb57c9 is PENDING.\u001b[0m\n",
            "\u001b[32m2023-11-03 15:07:58.733\u001b[0m | \u001b[1mINFO    \u001b[0m | \u001b[36mchi.expeca\u001b[0m:\u001b[36mwait_until_lease_status\u001b[0m:\u001b[36m69\u001b[0m - \u001b[1mlease worker-07-lease with id 38c4f00e-499f-4c97-8304-4662eebb57c9 is PENDING.\u001b[0m\n",
            "\u001b[32m2023-11-03 15:08:03.786\u001b[0m | \u001b[1mINFO    \u001b[0m | \u001b[36mchi.expeca\u001b[0m:\u001b[36mwait_until_lease_status\u001b[0m:\u001b[36m69\u001b[0m - \u001b[1mlease worker-07-lease with id 38c4f00e-499f-4c97-8304-4662eebb57c9 is PENDING.\u001b[0m\n",
            "\u001b[32m2023-11-03 15:08:08.832\u001b[0m | \u001b[1mINFO    \u001b[0m | \u001b[36mchi.expeca\u001b[0m:\u001b[36mwait_until_lease_status\u001b[0m:\u001b[36m69\u001b[0m - \u001b[1mlease worker-07-lease with id 38c4f00e-499f-4c97-8304-4662eebb57c9 is ACTIVE.\u001b[0m\n",
            "\u001b[32m2023-11-03 15:08:08.833\u001b[0m | \u001b[32m\u001b[1mSUCCESS \u001b[0m | \u001b[36mchi.expeca\u001b[0m:\u001b[36mtry_to_create_lease\u001b[0m:\u001b[36m209\u001b[0m - \u001b[32m\u001b[1mdone\u001b[0m\n",
            "\u001b[32m2023-11-03 15:08:08.833\u001b[0m | \u001b[1mINFO    \u001b[0m | \u001b[36mchi.expeca\u001b[0m:\u001b[36mreserve\u001b[0m:\u001b[36m167\u001b[0m - \u001b[1mreserving worker-08\u001b[0m\n",
            "\u001b[32m2023-11-03 15:08:11.147\u001b[0m | \u001b[1mINFO    \u001b[0m | \u001b[36mchi.expeca\u001b[0m:\u001b[36mwait_until_lease_status\u001b[0m:\u001b[36m62\u001b[0m - \u001b[1mwaiting 120 seconds for worker-08-lease with id 938f25b0-2a4b-4f42-a0aa-49bff426fd8f to become \"ACTIVE\"\u001b[0m\n",
            "\u001b[32m2023-11-03 15:08:16.194\u001b[0m | \u001b[1mINFO    \u001b[0m | \u001b[36mchi.expeca\u001b[0m:\u001b[36mwait_until_lease_status\u001b[0m:\u001b[36m69\u001b[0m - \u001b[1mlease worker-08-lease with id 938f25b0-2a4b-4f42-a0aa-49bff426fd8f is PENDING.\u001b[0m\n",
            "\u001b[32m2023-11-03 15:08:21.252\u001b[0m | \u001b[1mINFO    \u001b[0m | \u001b[36mchi.expeca\u001b[0m:\u001b[36mwait_until_lease_status\u001b[0m:\u001b[36m69\u001b[0m - \u001b[1mlease worker-08-lease with id 938f25b0-2a4b-4f42-a0aa-49bff426fd8f is PENDING.\u001b[0m\n",
            "\u001b[32m2023-11-03 15:08:26.305\u001b[0m | \u001b[1mINFO    \u001b[0m | \u001b[36mchi.expeca\u001b[0m:\u001b[36mwait_until_lease_status\u001b[0m:\u001b[36m69\u001b[0m - \u001b[1mlease worker-08-lease with id 938f25b0-2a4b-4f42-a0aa-49bff426fd8f is PENDING.\u001b[0m\n",
            "\u001b[32m2023-11-03 15:08:31.348\u001b[0m | \u001b[1mINFO    \u001b[0m | \u001b[36mchi.expeca\u001b[0m:\u001b[36mwait_until_lease_status\u001b[0m:\u001b[36m69\u001b[0m - \u001b[1mlease worker-08-lease with id 938f25b0-2a4b-4f42-a0aa-49bff426fd8f is PENDING.\u001b[0m\n",
            "\u001b[32m2023-11-03 15:08:36.401\u001b[0m | \u001b[1mINFO    \u001b[0m | \u001b[36mchi.expeca\u001b[0m:\u001b[36mwait_until_lease_status\u001b[0m:\u001b[36m69\u001b[0m - \u001b[1mlease worker-08-lease with id 938f25b0-2a4b-4f42-a0aa-49bff426fd8f is PENDING.\u001b[0m\n",
            "\u001b[32m2023-11-03 15:08:41.456\u001b[0m | \u001b[1mINFO    \u001b[0m | \u001b[36mchi.expeca\u001b[0m:\u001b[36mwait_until_lease_status\u001b[0m:\u001b[36m69\u001b[0m - \u001b[1mlease worker-08-lease with id 938f25b0-2a4b-4f42-a0aa-49bff426fd8f is PENDING.\u001b[0m\n",
            "\u001b[32m2023-11-03 15:08:46.510\u001b[0m | \u001b[1mINFO    \u001b[0m | \u001b[36mchi.expeca\u001b[0m:\u001b[36mwait_until_lease_status\u001b[0m:\u001b[36m69\u001b[0m - \u001b[1mlease worker-08-lease with id 938f25b0-2a4b-4f42-a0aa-49bff426fd8f is PENDING.\u001b[0m\n",
            "\u001b[32m2023-11-03 15:08:51.543\u001b[0m | \u001b[1mINFO    \u001b[0m | \u001b[36mchi.expeca\u001b[0m:\u001b[36mwait_until_lease_status\u001b[0m:\u001b[36m69\u001b[0m - \u001b[1mlease worker-08-lease with id 938f25b0-2a4b-4f42-a0aa-49bff426fd8f is PENDING.\u001b[0m\n",
            "\u001b[32m2023-11-03 15:08:56.601\u001b[0m | \u001b[1mINFO    \u001b[0m | \u001b[36mchi.expeca\u001b[0m:\u001b[36mwait_until_lease_status\u001b[0m:\u001b[36m69\u001b[0m - \u001b[1mlease worker-08-lease with id 938f25b0-2a4b-4f42-a0aa-49bff426fd8f is PENDING.\u001b[0m\n",
            "\u001b[32m2023-11-03 15:09:01.645\u001b[0m | \u001b[1mINFO    \u001b[0m | \u001b[36mchi.expeca\u001b[0m:\u001b[36mwait_until_lease_status\u001b[0m:\u001b[36m69\u001b[0m - \u001b[1mlease worker-08-lease with id 938f25b0-2a4b-4f42-a0aa-49bff426fd8f is PENDING.\u001b[0m\n",
            "\u001b[32m2023-11-03 15:09:07.139\u001b[0m | \u001b[1mINFO    \u001b[0m | \u001b[36mchi.expeca\u001b[0m:\u001b[36mwait_until_lease_status\u001b[0m:\u001b[36m69\u001b[0m - \u001b[1mlease worker-08-lease with id 938f25b0-2a4b-4f42-a0aa-49bff426fd8f is PENDING.\u001b[0m\n",
            "\u001b[32m2023-11-03 15:09:12.183\u001b[0m | \u001b[1mINFO    \u001b[0m | \u001b[36mchi.expeca\u001b[0m:\u001b[36mwait_until_lease_status\u001b[0m:\u001b[36m69\u001b[0m - \u001b[1mlease worker-08-lease with id 938f25b0-2a4b-4f42-a0aa-49bff426fd8f is ACTIVE.\u001b[0m\n",
            "\u001b[32m2023-11-03 15:09:12.184\u001b[0m | \u001b[32m\u001b[1mSUCCESS \u001b[0m | \u001b[36mchi.expeca\u001b[0m:\u001b[36mtry_to_create_lease\u001b[0m:\u001b[36m209\u001b[0m - \u001b[32m\u001b[1mdone\u001b[0m\n"
          ]
        },
        {
          "name": "stdout",
          "output_type": "stream",
          "text": [
            "[\n",
            "    {\n",
            "        \"name\": \"adv-03-lease\",\n",
            "        \"id\": \"30522f6f-e811-4ca8-8429-8651d8f8cf23\",\n",
            "        \"reservation_id\": \"e94e4323-85ed-4605-a22f-8a6ccf660221\",\n",
            "        \"status\": \"ACTIVE\",\n",
            "        \"end_date\": \"2023-11-10T14:06:00.000000\"\n",
            "    },\n",
            "    {\n",
            "        \"name\": \"worker-07-lease\",\n",
            "        \"id\": \"38c4f00e-499f-4c97-8304-4662eebb57c9\",\n",
            "        \"reservation_id\": \"4dc0eba9-4e45-4cca-9aa0-88c97132ccde\",\n",
            "        \"status\": \"ACTIVE\",\n",
            "        \"end_date\": \"2023-11-10T14:07:00.000000\"\n",
            "    },\n",
            "    {\n",
            "        \"name\": \"worker-08-lease\",\n",
            "        \"id\": \"938f25b0-2a4b-4f42-a0aa-49bff426fd8f\",\n",
            "        \"reservation_id\": \"e1ea606e-b4af-47dc-8a69-8849fef9c8f5\",\n",
            "        \"status\": \"ACTIVE\",\n",
            "        \"end_date\": \"2023-11-10T14:08:00.000000\"\n",
            "    },\n",
            "    {\n",
            "        \"name\": \"ep5g-lease\",\n",
            "        \"id\": \"b9ff0cf3-bf7a-4de2-9e28-4a1be19af3c5\",\n",
            "        \"reservation_id\": \"1a60b6a3-8276-4ba0-9167-658e643139b5\",\n",
            "        \"status\": \"ACTIVE\",\n",
            "        \"end_date\": \"2023-11-10T14:05:00.000000\"\n",
            "    }\n",
            "]\n"
          ]
        }
      ],
      "source": [
        "# ep5g reservation\n",
        "ep5g_lease = reserve(\n",
        "    { \"type\":\"network\", \"name\": \"ep5g\", \"net_name\": \"ep5g-vip\", \"segment_id\": \"100\", \"duration\": { \"days\":7, \"hours\":0 } }\n",
        ")\n",
        "\n",
        "# advantech router reservation\n",
        "adv3_lease = reserve(\n",
        "    { \"type\":\"network\", \"name\": \"adv-03\", \"net_name\": \"adv-03\", \"segment_id\": \"133\", \"duration\": { \"days\":7, \"hours\":0 } }\n",
        ")\n",
        "\n",
        "# worker reservation\n",
        "worker7_lease = reserve(\n",
        "    { \"type\":\"device\", \"name\":\"worker-07\", \"duration\": { \"days\":7, \"hours\":0 } }\n",
        ")\n",
        "\n",
        "# worker reservation\n",
        "worker8_lease = reserve(\n",
        "    { \"type\":\"device\", \"name\":\"worker-08\", \"duration\": { \"days\":7, \"hours\":0 } }\n",
        ")\n",
        "\n",
        "leaseslist = list_reservations(brief=True)\n",
        "print(json.dumps(leaseslist,indent=4))"
      ]
    },
    {
      "cell_type": "code",
      "execution_count": null,
      "metadata": {
        "colab": {
          "base_uri": "https://localhost:8080/"
        },
        "id": "-4FICd-CdpY6",
        "outputId": "6a68deef-6c8c-4e10-ff1c-f410a12725b7"
      },
      "outputs": [
        {
          "name": "stdout",
          "output_type": "stream",
          "text": [
            "{'name': 'adv-03-lease', 'id': '30522f6f-e811-4ca8-8429-8651d8f8cf23', 'reservation_id': 'e94e4323-85ed-4605-a22f-8a6ccf660221', 'status': 'ACTIVE', 'end_date': '2023-11-10T14:06:00.000000'} {'name': 'ep5g-lease', 'id': 'b9ff0cf3-bf7a-4de2-9e28-4a1be19af3c5', 'reservation_id': '1a60b6a3-8276-4ba0-9167-658e643139b5', 'status': 'ACTIVE', 'end_date': '2023-11-10T14:05:00.000000'} 4dc0eba9-4e45-4cca-9aa0-88c97132ccde e1ea606e-b4af-47dc-8a69-8849fef9c8f5\n"
          ]
        }
      ],
      "source": [
        "leaseslist = list_reservations(brief=True)\n",
        "\n",
        "adv3_lease = [lease for lease in leaseslist if lease[\"name\"]==\"adv-03-lease\"][0]\n",
        "worker7_lease = [lease for lease in leaseslist if lease[\"name\"]==\"worker-07-lease\"][0]\n",
        "worker8_lease = [lease for lease in leaseslist if lease[\"name\"]==\"worker-08-lease\"][0]\n",
        "\n",
        "ep5g_lease = [lease for lease in leaseslist if lease[\"name\"]==\"ep5g-lease\"][0]\n",
        "worker7_reservation_id = worker7_lease[\"reservation_id\"]\n",
        "worker8_reservation_id = worker8_lease[\"reservation_id\"]\n",
        "\n",
        "print(adv3_lease,ep5g_lease, worker7_reservation_id, worker8_reservation_id)"
      ]
    },
    {
      "cell_type": "markdown",
      "metadata": {
        "id": "tNYpBeUgpn15"
      },
      "source": [
        "In the following section we setup the networking equipment for ep5g (refer to [here](https://kth-expeca.gitbook.io/testbedconfig/enroll/enroll-network-segments/ep5g) for more info).\n",
        "It contains creation of an edge-net, a router, and some interfaces on the router and routes."
      ]
    },
    {
      "cell_type": "code",
      "execution_count": null,
      "metadata": {
        "colab": {
          "base_uri": "https://localhost:8080/"
        },
        "id": "QV7oHbSu7g5F",
        "outputId": "423ecf98-9313-4c53-d84d-823b76e50fcc"
      },
      "outputs": [
        {
          "name": "stderr",
          "output_type": "stream",
          "text": [
            "\u001b[32m2023-11-03 15:11:53.260\u001b[0m | \u001b[32m\u001b[1mSUCCESS \u001b[0m | \u001b[36m__main__\u001b[0m:\u001b[36m<module>\u001b[0m:\u001b[36m4\u001b[0m - \u001b[32m\u001b[1medge-net is created.\u001b[0m\n",
            "\u001b[32m2023-11-03 15:11:55.335\u001b[0m | \u001b[32m\u001b[1mSUCCESS \u001b[0m | \u001b[36m__main__\u001b[0m:\u001b[36m<module>\u001b[0m:\u001b[36m8\u001b[0m - \u001b[32m\u001b[1mep5g-vip-router router is created.\u001b[0m\n",
            "\u001b[32m2023-11-03 15:11:55.336\u001b[0m | \u001b[1mINFO    \u001b[0m | \u001b[36m__main__\u001b[0m:\u001b[36m<module>\u001b[0m:\u001b[36m9\u001b[0m - \u001b[1m{\n",
            "    \"id\": \"40fd7322-eaa9-4d96-af51-039ba9b2daa0\",\n",
            "    \"name\": \"ep5g-vip-router\",\n",
            "    \"tenant_id\": \"f2831b1828814f5db878f45a61d1043c\",\n",
            "    \"admin_state_up\": true,\n",
            "    \"status\": \"ACTIVE\",\n",
            "    \"external_gateway_info\": {\n",
            "        \"network_id\": \"717b5f2b-069e-4868-a24d-91a4ae3ad002\",\n",
            "        \"external_fixed_ips\": [\n",
            "            {\n",
            "                \"subnet_id\": \"53d03ffd-0d49-4f9a-88a3-a30d69fe4827\",\n",
            "                \"ip_address\": \"130.237.11.115\"\n",
            "            }\n",
            "        ],\n",
            "        \"enable_snat\": true\n",
            "    },\n",
            "    \"description\": \"\",\n",
            "    \"availability_zones\": [],\n",
            "    \"availability_zone_hints\": [],\n",
            "    \"routes\": [],\n",
            "    \"flavor_id\": null,\n",
            "    \"tags\": [],\n",
            "    \"created_at\": \"2023-11-03T14:11:53Z\",\n",
            "    \"updated_at\": \"2023-11-03T14:11:55Z\",\n",
            "    \"revision_number\": 3,\n",
            "    \"project_id\": \"f2831b1828814f5db878f45a61d1043c\"\n",
            "}\u001b[0m\n",
            "\u001b[32m2023-11-03 15:11:58.454\u001b[0m | \u001b[32m\u001b[1mSUCCESS \u001b[0m | \u001b[36m__main__\u001b[0m:\u001b[36m<module>\u001b[0m:\u001b[36m14\u001b[0m - \u001b[32m\u001b[1mAn interface on ep5g-vip-net is added to the router\u001b[0m\n",
            "\u001b[32m2023-11-03 15:12:01.151\u001b[0m | \u001b[32m\u001b[1mSUCCESS \u001b[0m | \u001b[36m__main__\u001b[0m:\u001b[36m<module>\u001b[0m:\u001b[36m19\u001b[0m - \u001b[32m\u001b[1mAn interface on edge-net is added to the router\u001b[0m\n",
            "\u001b[32m2023-11-03 15:12:02.617\u001b[0m | \u001b[32m\u001b[1mSUCCESS \u001b[0m | \u001b[36m__main__\u001b[0m:\u001b[36m<module>\u001b[0m:\u001b[36m23\u001b[0m - \u001b[32m\u001b[1mthe route added to the router\u001b[0m\n"
          ]
        }
      ],
      "source": [
        "# create edge-net\n",
        "edgenet = chi.network.create_network(\"edge-net\")\n",
        "chi.network.create_subnet(\"edge-net-subnet\",edgenet[\"id\"],\"10.70.70.0/24\",gateway_ip=\"10.70.70.1\",enable_dhcp=False)\n",
        "logger.success(\"edge-net is created.\")\n",
        "\n",
        "# create ep5g-vip-router\n",
        "router = chi.network.create_router(\"ep5g-vip-router\",\"public\")\n",
        "logger.success(\"ep5g-vip-router router is created.\")\n",
        "logger.info(f\"{json.dumps(router,indent=4)}\")\n",
        "\n",
        "# connect ep5g-vip-net to ep5g-vip-router\n",
        "ep5gnet = chi.network.get_network(\"ep5g-vip-net\")\n",
        "portadd = chi.network.add_subnet_to_router(router[\"id\"],ep5gnet[\"subnets\"][0])\n",
        "logger.success(\"An interface on ep5g-vip-net is added to the router\")\n",
        "\n",
        "# create edge-net to ep5g-vip-router\n",
        "edgenet = chi.network.get_network(\"edge-net\")\n",
        "portadd = chi.network.add_subnet_to_router(router[\"id\"],edgenet[\"subnets\"][0])\n",
        "logger.success(\"An interface on edge-net is added to the router\")\n",
        "\n",
        "# add ep5g route to ep5g-vip-router\n",
        "routeadd = chi.network.add_route_to_router(router[\"id\"],\"172.16.0.0/16\",\"10.30.111.10\")\n",
        "logger.success(\"the route added to the router\")"
      ]
    },
    {
      "cell_type": "markdown",
      "metadata": {
        "id": "qlEedPyQpdZp"
      },
      "source": [
        "Now the network is ready to run the workloads. We start by running the edge-node perf-meas container."
      ]
    },
    {
      "cell_type": "code",
      "execution_count": null,
      "metadata": {
        "colab": {
          "base_uri": "https://localhost:8080/",
          "height": 403
        },
        "id": "KNPWOgj97oDZ",
        "outputId": "0ef5dbd8-9772-4794-9782-a73f352e495e"
      },
      "outputs": [
        {
          "name": "stderr",
          "output_type": "stream",
          "text": [
            "\u001b[32m2023-11-03 15:14:09.581\u001b[0m | \u001b[32m\u001b[1mSUCCESS \u001b[0m | \u001b[36m__main__\u001b[0m:\u001b[36m<module>\u001b[0m:\u001b[36m20\u001b[0m - \u001b[32m\u001b[1mcreated edge-node container.\u001b[0m\n"
          ]
        }
      ],
      "source": [
        "edgenet = chi.network.get_network(\"edge-net\")\n",
        "chi.container.create_container(\n",
        "    name = \"edge-node\",\n",
        "    image = \"gourav4871/perf-meas-full\",\n",
        "    reservation_id = worker8_reservation_id,\n",
        "    environment = {\"SERVER_DIR\":\"/mnt/volume/\"},\n",
        "    mounts = [\n",
        "        {'source': 'edge-volume', 'destination': '/mnt/volume/'}\n",
        "    ],\n",
        "    nets = [\n",
        "        { \"network\" : edgenet['id'] },\n",
        "    ],\n",
        "    labels = {\n",
        "        \"networks.1.interface\":\"ens1\",\n",
        "        \"networks.1.ip\":\"10.70.70.3/24\",\n",
        "        \"networks.1.routes\":\"172.16.0.0/16-10.70.70.1\",\n",
        "    },\n",
        ")\n",
        "chi.container.wait_for_active(\"edge-node\")\n",
        "logger.success(\"created edge-node container.\")"
      ]
    },
    {
      "cell_type": "markdown",
      "metadata": {
        "id": "0yXjoiAApZ9m"
      },
      "source": [
        "Next, we run the end-node perf-meas container."
      ]
    },
    {
      "cell_type": "code",
      "execution_count": null,
      "metadata": {
        "colab": {
          "base_uri": "https://localhost:8080/"
        },
        "id": "SiwwlTuX8xUg",
        "outputId": "749f9ef0-0eb9-462a-ca21-adb461b57fac"
      },
      "outputs": [
        {
          "name": "stderr",
          "output_type": "stream",
          "text": [
            "\u001b[32m2023-11-03 15:16:32.661\u001b[0m | \u001b[32m\u001b[1mSUCCESS \u001b[0m | \u001b[36m__main__\u001b[0m:\u001b[36m<module>\u001b[0m:\u001b[36m17\u001b[0m - \u001b[32m\u001b[1mcreated end-node container.\u001b[0m\n"
          ]
        }
      ],
      "source": [
        "advnet = chi.network.get_network(\"adv-03-net\")\n",
        "chi.container.create_container(\n",
        "    name = \"end-node\",\n",
        "    image = \"gourav4871/perf-meas-full\",\n",
        "    reservation_id = worker7_reservation_id,\n",
        "    environment = {\"SERVER_DIR\":\"/tmp/\"},\n",
        "    nets = [\n",
        "        { \"network\" : advnet['id'] },\n",
        "    ],\n",
        "    labels = {\n",
        "        \"networks.1.interface\":\"ens1\",\n",
        "        \"networks.1.ip\":\"10.42.3.2/24\",\n",
        "        \"networks.1.routes\":\"10.70.70.0/24-10.42.3.1\",\n",
        "    },\n",
        ")\n",
        "chi.container.wait_for_active(\"end-node\")\n",
        "logger.success(\"created end-node container.\")"
      ]
    },
    {
      "cell_type": "markdown",
      "metadata": {
        "id": "hg8GIvvApWgh"
      },
      "source": [
        "Run uplink bandwidth test"
      ]
    },
    {
      "cell_type": "code",
      "execution_count": null,
      "metadata": {
        "colab": {
          "base_uri": "https://localhost:8080/"
        },
        "id": "h1uyVgDuMvbY",
        "outputId": "00e54241-c688-48c5-dcde-91608cf72a88"
      },
      "outputs": [
        {
          "name": "stderr",
          "output_type": "stream",
          "text": [
            "\u001b[32m2023-11-03 15:23:00.056\u001b[0m | \u001b[1mINFO    \u001b[0m | \u001b[36m__main__\u001b[0m:\u001b[36m<module>\u001b[0m:\u001b[36m6\u001b[0m - \u001b[1m{'output': 'Command received and started in the background.\\n', 'exit_code': 0, 'exec_id': None, 'proxy_url': None}\u001b[0m\n"
          ]
        }
      ],
      "source": [
        "command = \"iperf3 -c 10.70.70.3 -u -b 1G --get-server-output > /proc/1/fd/1 2>&1\"\n",
        "result = chi.container.execute(\n",
        "    container_ref=\"end-node\",\n",
        "    command=\"curl -s -X POST -H \\\"Content-Type: application/json\\\" -d '{\\\"cmd\\\": \\\"\" + command + \"\\\"}' http://localhost:50505/\",\n",
        ")\n",
        "logger.info(f\"{result}\")"
      ]
    },
    {
      "cell_type": "markdown",
      "metadata": {
        "id": "ywyMFkB2pTOJ"
      },
      "source": [
        "Run downlink bandwidth test"
      ]
    },
    {
      "cell_type": "code",
      "execution_count": null,
      "metadata": {
        "id": "zGzjdiJakaat"
      },
      "outputs": [],
      "source": [
        "command = \"iperf3 -c 172.16.0.96 -u -b 1G --get-server-output > /proc/1/fd/1 2>&1\"\n",
        "result = chi.container.execute(\n",
        "    container_ref=\"edge-node\",\n",
        "    command=\"curl -s -X POST -H \\\"Content-Type: application/json\\\" -d '{\\\"cmd\\\": \\\"\" + command + \"\\\"}' http://localhost:50505/\",\n",
        ")\n",
        "logger.info(f\"{result}\")"
      ]
    },
    {
      "cell_type": "markdown",
      "metadata": {
        "id": "fRL16_YHsjC5"
      },
      "source": [
        "CAUTION: In this cell we tear down all the configurations and release the reserved resources. The project will be clean afterwards."
      ]
    },
    {
      "cell_type": "code",
      "execution_count": null,
      "metadata": {
        "colab": {
          "base_uri": "https://localhost:8080/"
        },
        "id": "Bbme5W7isiQa",
        "outputId": "bfc26b51-cf53-4308-9595-e3b481a5d8ee"
      },
      "outputs": [
        {
          "name": "stderr",
          "output_type": "stream",
          "text": [
            "\u001b[32m2023-11-03 10:40:59.742\u001b[0m | \u001b[1mINFO    \u001b[0m | \u001b[36m__main__\u001b[0m:\u001b[36m<module>\u001b[0m:\u001b[36m12\u001b[0m - \u001b[1mstopped and removed all containers\u001b[0m\n",
            "\u001b[32m2023-11-03 10:41:01.761\u001b[0m | \u001b[32m\u001b[1mSUCCESS \u001b[0m | \u001b[36m__main__\u001b[0m:\u001b[36m<module>\u001b[0m:\u001b[36m24\u001b[0m - \u001b[32m\u001b[1mremoved all routers from router\u001b[0m\n",
            "\u001b[32m2023-11-03 10:41:01.838\u001b[0m | \u001b[1mINFO    \u001b[0m | \u001b[36m__main__\u001b[0m:\u001b[36m<module>\u001b[0m:\u001b[36m28\u001b[0m - \u001b[1mchecking all 4 subnets.\u001b[0m\n",
            "\u001b[32m2023-11-03 10:41:07.164\u001b[0m | \u001b[32m\u001b[1mSUCCESS \u001b[0m | \u001b[36m__main__\u001b[0m:\u001b[36m<module>\u001b[0m:\u001b[36m34\u001b[0m - \u001b[32m\u001b[1mremoved all subnets from router\u001b[0m\n",
            "\u001b[32m2023-11-03 10:41:08.367\u001b[0m | \u001b[32m\u001b[1mSUCCESS \u001b[0m | \u001b[36m__main__\u001b[0m:\u001b[36m<module>\u001b[0m:\u001b[36m37\u001b[0m - \u001b[32m\u001b[1mdeleted the router\u001b[0m\n",
            "\u001b[32m2023-11-03 10:41:13.496\u001b[0m | \u001b[32m\u001b[1mSUCCESS \u001b[0m | \u001b[36m__main__\u001b[0m:\u001b[36m<module>\u001b[0m:\u001b[36m47\u001b[0m - \u001b[32m\u001b[1mdeleted the edge-net\u001b[0m\n"
          ]
        }
      ],
      "source": [
        "status = get_container_status(\"edge-node\")\n",
        "if status:\n",
        "    chi.container.destroy_container(\"edge-node\")\n",
        "    wait_until_container_removed(\"edge-node\")\n",
        "\n",
        "\n",
        "status = get_container_status(\"end-node\")\n",
        "if status:\n",
        "    chi.container.destroy_container(\"end-node\")\n",
        "    wait_until_container_removed(\"end-node\")\n",
        "\n",
        "logger.info(f\"stopped and removed all containers\")\n",
        "\n",
        "# find the router again\n",
        "router = None\n",
        "try:\n",
        "    router = chi.network.get_router(\"ep5g-vip-router\")\n",
        "except Exception as ex:\n",
        "    logger.info(f\"could not find ep5g-vip-router.\")\n",
        "\n",
        "if router:\n",
        "    # remove all routes from the router\n",
        "    chi.network.remove_all_routes_from_router(router[\"id\"])\n",
        "    logger.success(f\"removed all routers from router\")\n",
        "\n",
        "    # remove all subnets from the router\n",
        "    subnets = chi.network.list_subnets()\n",
        "    logger.info(f\"checking all {len(subnets)} subnets.\")\n",
        "    for subnet in subnets:\n",
        "        try:\n",
        "            chi.network.remove_subnet_from_router(router[\"id\"],subnet[\"id\"])\n",
        "        except Exception as ex:\n",
        "            pass\n",
        "    logger.success(f\"removed all subnets from router\")\n",
        "\n",
        "    chi.network.delete_router(router[\"id\"])\n",
        "    logger.success(f\"deleted the router\")\n",
        "\n",
        "edgenet = None\n",
        "try:\n",
        "    edgenet = chi.network.get_network(\"edge-net\")\n",
        "except Exception as ex:\n",
        "    logger.info(f\"could not find edge-net.\")\n",
        "\n",
        "if edgenet:\n",
        "    chi.network.delete_network(edgenet[\"id\"])\n",
        "    logger.success(f\"deleted the edge-net\")\n",
        "\n",
        "# remove the leases\n",
        "# unreserve_byid(ep5g_lease[\"id\"])\n",
        "# unreserve_byid(adv_lease[\"id\"])\n",
        "# unreserve_byid(worker_lease[\"id\"])"
      ]
    },
    {
      "cell_type": "code",
      "execution_count": null,
      "metadata": {
        "colab": {
          "base_uri": "https://localhost:8080/"
        },
        "id": "Ejm5twqBejnd",
        "outputId": "4bab7827-8cb0-431a-a498-cd85d1f62aba"
      },
      "outputs": [
        {
          "name": "stderr",
          "output_type": "stream",
          "text": [
            "\u001b[32m2023-11-03 10:41:22.639\u001b[0m | \u001b[1mINFO    \u001b[0m | \u001b[36mchi.expeca\u001b[0m:\u001b[36mremove_lease\u001b[0m:\u001b[36m84\u001b[0m - \u001b[1mRemoving ep5g-lease reservation with id 13454d25-bfcd-41a0-b387-d28cc1d55880.\u001b[0m\n",
            "\u001b[32m2023-11-03 10:41:23.683\u001b[0m | \u001b[1mINFO    \u001b[0m | \u001b[36mchi.expeca\u001b[0m:\u001b[36mwait_until_lease_status\u001b[0m:\u001b[36m62\u001b[0m - \u001b[1mwaiting 120 seconds for ep5g-lease with id 13454d25-bfcd-41a0-b387-d28cc1d55880 to become \"None\"\u001b[0m\n",
            "\u001b[32m2023-11-03 10:41:28.724\u001b[0m | \u001b[1mINFO    \u001b[0m | \u001b[36mchi.expeca\u001b[0m:\u001b[36mwait_until_lease_status\u001b[0m:\u001b[36m69\u001b[0m - \u001b[1mlease ep5g-lease with id 13454d25-bfcd-41a0-b387-d28cc1d55880 is None.\u001b[0m\n",
            "\u001b[32m2023-11-03 10:41:28.725\u001b[0m | \u001b[32m\u001b[1mSUCCESS \u001b[0m | \u001b[36mchi.expeca\u001b[0m:\u001b[36mtry_to_remove\u001b[0m:\u001b[36m95\u001b[0m - \u001b[32m\u001b[1mdone\u001b[0m\n",
            "\u001b[32m2023-11-03 10:41:28.749\u001b[0m | \u001b[1mINFO    \u001b[0m | \u001b[36mchi.expeca\u001b[0m:\u001b[36mremove_lease\u001b[0m:\u001b[36m84\u001b[0m - \u001b[1mRemoving adv-03-lease reservation with id bc3aac29-52cd-4ef7-85d3-5b0dc59c9ff9.\u001b[0m\n",
            "\u001b[32m2023-11-03 10:41:41.714\u001b[0m | \u001b[1mINFO    \u001b[0m | \u001b[36mchi.expeca\u001b[0m:\u001b[36mwait_until_lease_status\u001b[0m:\u001b[36m62\u001b[0m - \u001b[1mwaiting 120 seconds for adv-03-lease with id bc3aac29-52cd-4ef7-85d3-5b0dc59c9ff9 to become \"None\"\u001b[0m\n",
            "\u001b[32m2023-11-03 10:41:46.756\u001b[0m | \u001b[1mINFO    \u001b[0m | \u001b[36mchi.expeca\u001b[0m:\u001b[36mwait_until_lease_status\u001b[0m:\u001b[36m69\u001b[0m - \u001b[1mlease adv-03-lease with id bc3aac29-52cd-4ef7-85d3-5b0dc59c9ff9 is None.\u001b[0m\n",
            "\u001b[32m2023-11-03 10:41:46.757\u001b[0m | \u001b[32m\u001b[1mSUCCESS \u001b[0m | \u001b[36mchi.expeca\u001b[0m:\u001b[36mtry_to_remove\u001b[0m:\u001b[36m95\u001b[0m - \u001b[32m\u001b[1mdone\u001b[0m\n",
            "\u001b[32m2023-11-03 10:41:46.784\u001b[0m | \u001b[1mINFO    \u001b[0m | \u001b[36mchi.expeca\u001b[0m:\u001b[36mremove_lease\u001b[0m:\u001b[36m84\u001b[0m - \u001b[1mRemoving worker-07-lease reservation with id e374c8e6-a5e2-4a72-bbfb-01bd467c3c28.\u001b[0m\n",
            "\u001b[32m2023-11-03 10:41:47.859\u001b[0m | \u001b[1mINFO    \u001b[0m | \u001b[36mchi.expeca\u001b[0m:\u001b[36mwait_until_lease_status\u001b[0m:\u001b[36m62\u001b[0m - \u001b[1mwaiting 120 seconds for worker-07-lease with id e374c8e6-a5e2-4a72-bbfb-01bd467c3c28 to become \"None\"\u001b[0m\n",
            "\u001b[32m2023-11-03 10:41:52.912\u001b[0m | \u001b[1mINFO    \u001b[0m | \u001b[36mchi.expeca\u001b[0m:\u001b[36mwait_until_lease_status\u001b[0m:\u001b[36m69\u001b[0m - \u001b[1mlease worker-07-lease with id e374c8e6-a5e2-4a72-bbfb-01bd467c3c28 is None.\u001b[0m\n",
            "\u001b[32m2023-11-03 10:41:52.913\u001b[0m | \u001b[32m\u001b[1mSUCCESS \u001b[0m | \u001b[36mchi.expeca\u001b[0m:\u001b[36mtry_to_remove\u001b[0m:\u001b[36m95\u001b[0m - \u001b[32m\u001b[1mdone\u001b[0m\n",
            "\u001b[32m2023-11-03 10:41:52.940\u001b[0m | \u001b[1mINFO    \u001b[0m | \u001b[36mchi.expeca\u001b[0m:\u001b[36mremove_lease\u001b[0m:\u001b[36m84\u001b[0m - \u001b[1mRemoving worker-08-lease reservation with id 19517bd5-cd88-4f38-bc36-942891bfd45c.\u001b[0m\n",
            "\u001b[32m2023-11-03 10:41:54.035\u001b[0m | \u001b[1mINFO    \u001b[0m | \u001b[36mchi.expeca\u001b[0m:\u001b[36mwait_until_lease_status\u001b[0m:\u001b[36m62\u001b[0m - \u001b[1mwaiting 120 seconds for worker-08-lease with id 19517bd5-cd88-4f38-bc36-942891bfd45c to become \"None\"\u001b[0m\n",
            "\u001b[32m2023-11-03 10:41:59.073\u001b[0m | \u001b[1mINFO    \u001b[0m | \u001b[36mchi.expeca\u001b[0m:\u001b[36mwait_until_lease_status\u001b[0m:\u001b[36m69\u001b[0m - \u001b[1mlease worker-08-lease with id 19517bd5-cd88-4f38-bc36-942891bfd45c is None.\u001b[0m\n",
            "\u001b[32m2023-11-03 10:41:59.073\u001b[0m | \u001b[32m\u001b[1mSUCCESS \u001b[0m | \u001b[36mchi.expeca\u001b[0m:\u001b[36mtry_to_remove\u001b[0m:\u001b[36m95\u001b[0m - \u001b[32m\u001b[1mdone\u001b[0m\n"
          ]
        }
      ],
      "source": [
        "unreserve_byid(ep5g_lease[\"id\"])\n",
        "unreserve_byid(adv3_lease[\"id\"])\n",
        "unreserve_byid(worker7_lease[\"id\"])\n",
        "unreserve_byid(worker8_lease[\"id\"])\n"
      ]
    },
    {
      "cell_type": "code",
      "execution_count": null,
      "metadata": {
        "id": "aVPqarA0lzAV",
        "outputId": "a3491146-f125-450d-c49b-d87fe32b2ed4"
      },
      "outputs": [
        {
          "name": "stderr",
          "output_type": "stream",
          "text": [
            "\u001b[32m2023-11-03 10:53:31.013\u001b[0m | \u001b[1mINFO    \u001b[0m | \u001b[36mchi.expeca\u001b[0m:\u001b[36mremove_lease\u001b[0m:\u001b[36m84\u001b[0m - \u001b[1mRemoving ep5g-lease reservation with id a2b46dd0-4d0c-4387-b882-d4ec18fb461d.\u001b[0m\n",
            "\u001b[32m2023-11-03 10:53:51.920\u001b[0m | \u001b[1mINFO    \u001b[0m | \u001b[36mchi.expeca\u001b[0m:\u001b[36mwait_until_lease_status\u001b[0m:\u001b[36m62\u001b[0m - \u001b[1mwaiting 120 seconds for ep5g-lease with id a2b46dd0-4d0c-4387-b882-d4ec18fb461d to become \"None\"\u001b[0m\n",
            "\u001b[32m2023-11-03 10:53:56.958\u001b[0m | \u001b[1mINFO    \u001b[0m | \u001b[36mchi.expeca\u001b[0m:\u001b[36mwait_until_lease_status\u001b[0m:\u001b[36m69\u001b[0m - \u001b[1mlease ep5g-lease with id a2b46dd0-4d0c-4387-b882-d4ec18fb461d is None.\u001b[0m\n",
            "\u001b[32m2023-11-03 10:53:56.959\u001b[0m | \u001b[32m\u001b[1mSUCCESS \u001b[0m | \u001b[36mchi.expeca\u001b[0m:\u001b[36mtry_to_remove\u001b[0m:\u001b[36m95\u001b[0m - \u001b[32m\u001b[1mdone\u001b[0m\n"
          ]
        },
        {
          "name": "stdout",
          "output_type": "stream",
          "text": [
            "{'name': 'ep5g-lease', 'id': 'a2b46dd0-4d0c-4387-b882-d4ec18fb461d', 'reservation_id': 'e257b828-ef18-453c-812d-89de76929130', 'status': 'ACTIVE', 'end_date': '2023-11-09T20:19:00.000000'}\n"
          ]
        }
      ],
      "source": [
        "ep5g_lease = [lease for lease in leaseslist if lease[\"name\"]==\"ep5g-lease\"][0]\n",
        "unreserve_byid(ep5g_lease[\"id\"])\n",
        "print(ep5g_lease)"
      ]
    },
    {
      "cell_type": "code",
      "execution_count": null,
      "metadata": {
        "id": "RNfVrn2UlzAV"
      },
      "outputs": [],
      "source": []
    }
  ],
  "metadata": {
    "colab": {
      "provenance": [],
      "include_colab_link": true
    },
    "kernelspec": {
      "display_name": "Python 3 (ipykernel)",
      "language": "python",
      "name": "python3"
    },
    "language_info": {
      "codemirror_mode": {
        "name": "ipython",
        "version": 3
      },
      "file_extension": ".py",
      "mimetype": "text/x-python",
      "name": "python",
      "nbconvert_exporter": "python",
      "pygments_lexer": "ipython3",
      "version": "3.9.0"
    }
  },
  "nbformat": 4,
  "nbformat_minor": 0
}