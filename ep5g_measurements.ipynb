{
 "cells": [
  {
   "cell_type": "code",
   "execution_count": 6,
   "id": "483cb545-dec1-420e-8553-4734cc3562d8",
   "metadata": {
    "colab": {
     "base_uri": "https://localhost:8080/"
    },
    "executionInfo": {
     "elapsed": 3848,
     "status": "ok",
     "timestamp": 1693984187335,
     "user": {
      "displayName": "Gourav Sharma",
      "userId": "17296464999609832797"
     },
     "user_tz": -120
    },
    "id": "483cb545-dec1-420e-8553-4734cc3562d8",
    "outputId": "90b160be-5187-4da0-8b4e-203c6c184788"
   },
   "outputs": [
    {
     "name": "stdin",
     "output_type": "stream",
     "text": [
      "enter your expeca password: ············\n"
     ]
    }
   ],
   "source": [
    "import os\n",
    "import re\n",
    "from getpass import getpass\n",
    "with open('./sdr-test-project-openrc.sh', 'r') as f:\n",
    "    script_content = f.read()\n",
    "    pattern = r'export\\s+(\\w+)\\s*=\\s*(\"[^\"]+\"|[^\"\\n]+)'\n",
    "    matches = re.findall(pattern, script_content)\n",
    "\n",
    "    for name, value in matches:\n",
    "        os.environ[name] = value.strip('\"')\n",
    "\n",
    "password = getpass('enter your expeca password:')\n",
    "os.environ['OS_PASSWORD'] = password"
   ]
  },
  {
   "cell_type": "code",
   "execution_count": 7,
   "id": "3d930b55-875d-417c-8e5f-ae005b8a7a25",
   "metadata": {},
   "outputs": [],
   "source": [
    "# assuming the ep5g setup is prepared\n",
    "import json\n",
    "import math\n",
    "from loguru import logger\n",
    "import time\n",
    "import chi.network, chi.container, chi.network\n",
    "from chi.expeca import reserve, list_reservations, unreserve_byid, get_container_status, wait_until_container_removed\n"
   ]
  },
  {
   "cell_type": "markdown",
   "id": "8j7v3srpBHm5",
   "metadata": {
    "id": "8j7v3srpBHm5"
   },
   "source": [
    "### Uplink measurements"
   ]
  },
  {
   "cell_type": "code",
   "execution_count": 10,
   "id": "xXnhCPsDxr-a",
   "metadata": {
    "id": "xXnhCPsDxr-a"
   },
   "outputs": [],
   "source": [
    "# set session parameters\n",
    "end_name = \"endnode01\"\n",
    "edge_name = \"edge\"\n",
    "nt_dev = \"adv03\"\n",
    "exp_name = \"2023-11-03-t1\"\n",
    "client_ip = \"172.16.0.40\"\n",
    "server_ip = \"10.70.70.3\"\n",
    "sleep_dur = 10\n",
    "tripm = \"oneway\"\n",
    "total_samples = 1e6\n",
    "interval = \"10\" # in ms\n",
    "offset = \"0\" # ms\n",
    "length = 100 # in B\n",
    "mult = 1 # multiple of packets\n",
    "duration = 30 # in seconds\n",
    "total_session_time = interval # in seconds\n",
    "itnum = 1 #math.ceil(total_session_time/duration)\n",
    "cl_port = \"55500\"\n",
    "nt_sleep = \"300\" # in ms"
   ]
  },
  {
   "cell_type": "code",
   "execution_count": 11,
   "id": "tbLubYKMAQ4b",
   "metadata": {
    "colab": {
     "base_uri": "https://localhost:8080/"
    },
    "executionInfo": {
     "elapsed": 1478,
     "status": "ok",
     "timestamp": 1693947869198,
     "user": {
      "displayName": "Gourav Sharma",
      "userId": "17296464999609832797"
     },
     "user_tz": -120
    },
    "id": "tbLubYKMAQ4b",
    "outputId": "47b20078-ea8c-4f0e-b909-61b272ac0021"
   },
   "outputs": [
    {
     "name": "stderr",
     "output_type": "stream",
     "text": [
      "\u001b[32m2023-11-03 15:32:40.351\u001b[0m | \u001b[1mINFO    \u001b[0m | \u001b[36m__main__\u001b[0m:\u001b[36m<module>\u001b[0m:\u001b[36m7\u001b[0m - \u001b[1m{'output': 'Command received and started in the background.\\n', 'exit_code': 0, 'exec_id': None, 'proxy_url': None}\u001b[0m\n"
     ]
    }
   ],
   "source": [
    "# run measurements at end node\n",
    "command = f\"DOWNLINK=false EDGE_NAME={edge_name} END_NAME={end_name} NT_DEV={nt_dev} EXP_NAME={exp_name} SERVER_IP={server_ip} CLIENT_IP={client_ip} ITNUM={itnum} SLEEP_DUR={sleep_dur} TRIPM={tripm} INTERVAL={interval}ms INTERVAL_OFFSET={offset}ms LENGTH={length} MULT={mult} DUR={duration}s CL_PORT={cl_port} NT_SLEEP={nt_sleep}ms /tmp/measure-upload.sh > /proc/1/fd/1 2>&1\"\n",
    "result = chi.container.execute(\n",
    "    container_ref=\"end-node\",\n",
    "    command=\"curl -s -X POST -H \\\"Content-Type: application/json\\\" -d '{\\\"cmd\\\": \\\"\" + command + \"\\\"}' http://localhost:50505/\",\n",
    ")\n",
    "logger.info(f\"{result}\")"
   ]
  },
  {
   "cell_type": "code",
   "execution_count": 12,
   "id": "KIAwHd25AdW6",
   "metadata": {
    "colab": {
     "base_uri": "https://localhost:8080/"
    },
    "executionInfo": {
     "elapsed": 986,
     "status": "ok",
     "timestamp": 1693984193883,
     "user": {
      "displayName": "Gourav Sharma",
      "userId": "17296464999609832797"
     },
     "user_tz": -120
    },
    "id": "KIAwHd25AdW6",
    "outputId": "81fd1ef6-c180-4347-f4ec-a78d6e4436f3"
   },
   "outputs": [
    {
     "name": "stderr",
     "output_type": "stream",
     "text": [
      "\u001b[32m2023-11-03 15:36:56.135\u001b[0m | \u001b[1mINFO    \u001b[0m | \u001b[36m__main__\u001b[0m:\u001b[36m<module>\u001b[0m:\u001b[36m10\u001b[0m - \u001b[1m{'output': 'Command received and started in the background.\\n', 'exit_code': 0, 'exec_id': None, 'proxy_url': None}\u001b[0m\n"
     ]
    }
   ],
   "source": [
    " # make parquet\n",
    "dev_name = \"endnode01\"\n",
    "trip = \"uplink\"\n",
    "\n",
    "command = f\"python3 /tmp/parquets-from-folders.py /mnt/volume/{exp_name}/results /mnt/volume/{exp_name}/client /mnt/volume/{exp_name}/edge/server /mnt/volume/{exp_name}/networkinfo trip={trip} > /proc/1/fd/1 2>&1\"\n",
    "result = chi.container.execute(\n",
    "    container_ref=\"edge-node\",\n",
    "    command=\"curl -s -X POST -H \\\"Content-Type: application/json\\\" -d '{\\\"cmd\\\": \\\"\" + command + \"\\\"}' http://localhost:50505/\",\n",
    ")\n",
    "logger.info(f\"{result}\")"
   ]
  },
  {
   "cell_type": "code",
   "execution_count": 13,
   "id": "sFeIpb_wAo9D",
   "metadata": {
    "colab": {
     "base_uri": "https://localhost:8080/"
    },
    "executionInfo": {
     "elapsed": 1748,
     "status": "ok",
     "timestamp": 1693984691400,
     "user": {
      "displayName": "Gourav Sharma",
      "userId": "17296464999609832797"
     },
     "user_tz": -120
    },
    "id": "sFeIpb_wAo9D",
    "outputId": "936bb845-0e64-4eec-d667-bd35f4e2b4dc"
   },
   "outputs": [
    {
     "name": "stderr",
     "output_type": "stream",
     "text": [
      "\u001b[32m2023-11-03 15:41:19.388\u001b[0m | \u001b[1mINFO    \u001b[0m | \u001b[36m__main__\u001b[0m:\u001b[36m<module>\u001b[0m:\u001b[36m7\u001b[0m - \u001b[1m{'output': 'Command received and started in the background.\\n', 'exit_code': 0, 'exec_id': None, 'proxy_url': None}\u001b[0m\n"
     ]
    }
   ],
   "source": [
    "# upload parquet files to containers\n",
    "command = \"for f in /mnt/volume/{}/results/*.parquet; do AUTH_SERVER=testbed.expeca.proj.kth.se AUTH_PROJECT_NAME=sdr-test-project AUTH_USERNAME=gourav AUTH_PASSWORD=gouravexpeca python3 /tmp/upload-files.py $f {}; done\".format(exp_name,exp_name)\n",
    "result = chi.container.execute(\n",
    "    container_ref=\"edge-node\",\n",
    "    command=\"curl -s -X POST -H \\\"Content-Type: application/json\\\" -d '{\\\"cmd\\\": \\\"\" + command + \"\\\"}' http://localhost:50505/\",\n",
    ")\n",
    "logger.info(f\"{result}\")"
   ]
  },
  {
   "cell_type": "markdown",
   "id": "27kGCF7cAivM",
   "metadata": {
    "id": "27kGCF7cAivM"
   },
   "source": [
    "### Downlink Measurements"
   ]
  },
  {
   "cell_type": "code",
   "execution_count": 22,
   "id": "h60oq7GAxV2Q",
   "metadata": {
    "id": "h60oq7GAxV2Q"
   },
   "outputs": [],
   "source": [
    "# set session parameters\n",
    "end_name = \"endnode01\"\n",
    "edge_name = \"edge\"\n",
    "nt_dev = \"adv03\"\n",
    "exp_name = \"tstmps-DL\"\n",
    "server_ip = \"172.16.0.40\"\n",
    "client_ip = \"10.70.70.3\"\n",
    "sleep_dur = 60\n",
    "tripm = \"oneway\"\n",
    "total_samples = 1e6\n",
    "interval = 10000 # in us\n",
    "length = 100 # in B\n",
    "mult = 1 # multiple of packets\n",
    "duration = 1667 # in seconds\n",
    "total_session_time = interval # in seconds\n",
    "itnum = 1#math.ceil(total_session_time/duration)\n",
    "cl_port = \"55500\"\n",
    "nt_sleep = \"300\" # in ms"
   ]
  },
  {
   "cell_type": "code",
   "execution_count": null,
   "id": "muNS92adk64f",
   "metadata": {
    "colab": {
     "base_uri": "https://localhost:8080/"
    },
    "executionInfo": {
     "elapsed": 1821,
     "status": "ok",
     "timestamp": 1693860761025,
     "user": {
      "displayName": "Gourav Sharma",
      "userId": "17296464999609832797"
     },
     "user_tz": -120
    },
    "id": "muNS92adk64f",
    "outputId": "6b6b0c10-22a0-4163-c308-5f3d3c2432e4"
   },
   "outputs": [
    {
     "name": "stderr",
     "output_type": "stream",
     "text": [
      "\u001b[32m2023-09-04 20:52:39.887\u001b[0m | \u001b[1mINFO    \u001b[0m | \u001b[36m__main__\u001b[0m:\u001b[36m<cell line: 7>\u001b[0m:\u001b[36m7\u001b[0m - \u001b[1m{'output': 'Command received and started in the background.\\n', 'exit_code': 0, 'exec_id': None, 'proxy_url': None}\u001b[0m\n"
     ]
    }
   ],
   "source": [
    " ###### run measurements at edge node #####\n",
    "command = f\"DOWNLINK=true EDGE_NAME={edge_name} END_NAME={end_name} NT_DEV={nt_dev} EXP_NAME={exp_name} SERVER_IP={server_ip} CLIENT_IP={client_ip} ITNUM={itnum} SLEEP_DUR={sleep_dur} TRIPM={tripm} INTERVAL={interval}us LENGTH={length} MULT={mult} DUR={duration}s CL_PORT={cl_port} NT_SLEEP={nt_sleep}ms /tmp/measure-upload.sh > /proc/1/fd/1 2>&1\"\n",
    "result = chi.container.execute(\n",
    "    container_ref=\"edge-node\",\n",
    "    command=\"curl -s -X POST -H \\\"Content-Type: application/json\\\" -d '{\\\"cmd\\\": \\\"\" + command + \"\\\"}' http://localhost:50505/\",\n",
    ")\n",
    "logger.info(f\"{result}\")"
   ]
  },
  {
   "cell_type": "code",
   "execution_count": null,
   "id": "nIS4ZEu_lHlz",
   "metadata": {
    "colab": {
     "base_uri": "https://localhost:8080/"
    },
    "executionInfo": {
     "elapsed": 1451,
     "status": "ok",
     "timestamp": 1693902676532,
     "user": {
      "displayName": "Gourav Sharma",
      "userId": "17296464999609832797"
     },
     "user_tz": -120
    },
    "id": "nIS4ZEu_lHlz",
    "outputId": "81db98fc-d36d-4098-deae-448222dc3fc1"
   },
   "outputs": [
    {
     "name": "stderr",
     "output_type": "stream",
     "text": [
      "\u001b[32m2023-09-05 08:31:14.630\u001b[0m | \u001b[1mINFO    \u001b[0m | \u001b[36m__main__\u001b[0m:\u001b[36m<cell line: 9>\u001b[0m:\u001b[36m9\u001b[0m - \u001b[1m{'output': 'Command received and started in the background.\\n', 'exit_code': 0, 'exec_id': None, 'proxy_url': None}\u001b[0m\n"
     ]
    }
   ],
   "source": [
    "dev_name = \"endnode01\"\n",
    "trip = \"downlink\"\n",
    " # make parquet\n",
    "command = f\"python3 /tmp/parquets-from-folders.py /mnt/volume/{exp_name}/results /mnt/volume/{exp_name}/edge/client /mnt/volume/{exp_name}/{dev_name}/server /mnt/volume/{exp_name}/{dev_name}/networkinfo trip={trip} > /proc/1/fd/1 2>&1\"\n",
    "result = chi.container.execute(\n",
    "    container_ref=\"edge-node\",\n",
    "    command=\"curl -s -X POST -H \\\"Content-Type: application/json\\\" -d '{\\\"cmd\\\": \\\"\" + command + \"\\\"}' http://localhost:50505/\",\n",
    ")\n",
    "logger.info(f\"{result}\")"
   ]
  },
  {
   "cell_type": "code",
   "execution_count": null,
   "id": "fCa8pL11x8ji",
   "metadata": {
    "colab": {
     "base_uri": "https://localhost:8080/"
    },
    "executionInfo": {
     "elapsed": 1261,
     "status": "ok",
     "timestamp": 1693766159536,
     "user": {
      "displayName": "Gourav Sharma",
      "userId": "17296464999609832797"
     },
     "user_tz": -120
    },
    "id": "fCa8pL11x8ji",
    "outputId": "0c690266-58b5-4ec3-cc54-ffbe83cf2e64"
   },
   "outputs": [
    {
     "name": "stderr",
     "output_type": "stream",
     "text": [
      "\u001b[32m2023-09-03 18:35:59.316\u001b[0m | \u001b[1mINFO    \u001b[0m | \u001b[36m__main__\u001b[0m:\u001b[36m<cell line: 7>\u001b[0m:\u001b[36m7\u001b[0m - \u001b[1m{'output': 'Command received and started in the background.\\n', 'exit_code': 0, 'exec_id': None, 'proxy_url': None}\u001b[0m\n"
     ]
    }
   ],
   "source": [
    "# upload parquet files to containers\n",
    "command = \"for f in /mnt/volume/{}/results/*.parquet; do AUTH_SERVER=testbed.expeca.proj.kth.se AUTH_PROJECT_NAME=sdr-test-project AUTH_USERNAME=gourav AUTH_PASSWORD=gouravexpeca python3 /tmp/upload-files.py $f {}; done\".format(exp_name,exp_name)\n",
    "result = chi.container.execute(\n",
    "    container_ref=\"edge-node\",\n",
    "    command=\"curl -s -X POST -H \\\"Content-Type: application/json\\\" -d '{\\\"cmd\\\": \\\"\" + command + \"\\\"}' http://localhost:50505/\",\n",
    ")\n",
    "logger.info(f\"{result}\")"
   ]
  },
  {
   "cell_type": "code",
   "execution_count": null,
   "id": "ffa71817-bb48-4dc3-9467-a227078f1616",
   "metadata": {},
   "outputs": [],
   "source": []
  }
 ],
 "metadata": {
  "colab": {
   "provenance": []
  },
  "kernelspec": {
   "display_name": "Python 3 (ipykernel)",
   "language": "python",
   "name": "python3"
  },
  "language_info": {
   "codemirror_mode": {
    "name": "ipython",
    "version": 3
   },
   "file_extension": ".py",
   "mimetype": "text/x-python",
   "name": "python",
   "nbconvert_exporter": "python",
   "pygments_lexer": "ipython3",
   "version": "3.9.0"
  }
 },
 "nbformat": 4,
 "nbformat_minor": 5
}
