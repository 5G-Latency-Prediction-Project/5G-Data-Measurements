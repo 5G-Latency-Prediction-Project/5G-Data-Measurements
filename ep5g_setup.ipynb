{
  "cells": [
    {
      "cell_type": "markdown",
      "metadata": {
        "id": "view-in-github",
        "colab_type": "text"
      },
      "source": [
        "<a href=\"https://colab.research.google.com/github/5G-Latency-Prediction-Project/5G-Data-Measurements/blob/main/ep5g_setup.ipynb\" target=\"_parent\"><img src=\"https://colab.research.google.com/assets/colab-badge.svg\" alt=\"Open In Colab\"/></a>"
      ]
    },
    {
      "cell_type": "markdown",
      "source": [
        "### Setup"
      ],
      "metadata": {
        "id": "SdIzeJj_pYON"
      }
    },
    {
      "cell_type": "markdown",
      "metadata": {
        "id": "W9YICZf_mJBy"
      },
      "source": [
        "Login to Chameleon and download openrc.sh file from [here](https://testbed.expeca.proj.kth.se/project/api_access/openrc/). Upload it here next to this notebook and continue.\n",
        "\n",
        "In the next cell, we setup the authentication method to be able to use Openstack clients."
      ]
    },
    {
      "cell_type": "code",
      "execution_count": 1,
      "metadata": {
        "id": "D9KpGVY8eTte"
      },
      "outputs": [],
      "source": [
        "import re\n",
        "import os\n",
        "from getpass import getpass"
      ]
    },
    {
      "cell_type": "code",
      "execution_count": 12,
      "metadata": {
        "id": "YhhPvoT4lzAR",
        "outputId": "12b7ea3e-5d5a-4743-daba-587bd9412971",
        "colab": {
          "base_uri": "https://localhost:8080/"
        }
      },
      "outputs": [
        {
          "name": "stdout",
          "output_type": "stream",
          "text": [
            "enter your expeca password:··········\n"
          ]
        }
      ],
      "source": [
        "with open('./students-project-fall2023-openrc.sh', 'r') as f:\n",
        "    script_content = f.read()\n",
        "    pattern = r'export\\s+(\\w+)\\s*=\\s*(\"[^\"]+\"|[^\"\\n]+)'\n",
        "    matches = re.findall(pattern, script_content)\n",
        "\n",
        "    for name, value in matches:\n",
        "        os.environ[name] = value.strip('\"')\n",
        "\n",
        "password = getpass('enter your expeca password:')\n",
        "os.environ['OS_PASSWORD'] = password"
      ]
    },
    {
      "cell_type": "markdown",
      "metadata": {
        "id": "5bXlipy4m1bs"
      },
      "source": [
        "\n",
        "\n",
        "```\n",
        "# Als Code formatiert\n",
        "```\n",
        "\n",
        "Install required packages and dependencies. Ignore the warnings."
      ]
    },
    {
      "cell_type": "code",
      "source": [
        "!pip install loguru\n",
        "!pip uninstall -q -y moviepy\n",
        "!pip install -q jedi\n",
        "!pip install -q git+https://github.com/KTH-EXPECA/python-chi"
      ],
      "metadata": {
        "id": "o9vXzxhdl9Tx",
        "outputId": "a2a35cd0-b15f-4e08-a5b4-9eb17a48598d",
        "colab": {
          "base_uri": "https://localhost:8080/"
        }
      },
      "execution_count": 20,
      "outputs": [
        {
          "output_type": "stream",
          "name": "stdout",
          "text": [
            "Requirement already satisfied: loguru in /usr/local/lib/python3.10/dist-packages (0.7.2)\n",
            "\u001b[33mWARNING: Skipping moviepy as it is not installed.\u001b[0m\u001b[33m\n",
            "\u001b[0m  Preparing metadata (setup.py) ... \u001b[?25l\u001b[?25hdone\n",
            "  Preparing metadata (setup.py) ... \u001b[?25l\u001b[?25hdone\n"
          ]
        }
      ]
    },
    {
      "cell_type": "markdown",
      "metadata": {
        "id": "VkDR3RsFpKSv"
      },
      "source": [
        "Import packages"
      ]
    },
    {
      "cell_type": "code",
      "execution_count": 4,
      "metadata": {
        "id": "gWqW34Pc7YJp"
      },
      "outputs": [],
      "source": [
        "import json\n",
        "import time\n",
        "from loguru import logger\n",
        "import chi.network, chi.container, chi.network\n",
        "from chi.expeca import reserve, list_reservations, unreserve_byid, get_container_status, wait_until_container_removed"
      ]
    },
    {
      "cell_type": "code",
      "execution_count": 13,
      "metadata": {
        "colab": {
          "base_uri": "https://localhost:8080/"
        },
        "id": "yUj2luPVdpY3",
        "outputId": "2ed0d126-eab4-4888-bb1c-a0516d47b3e5"
      },
      "outputs": [
        {
          "output_type": "stream",
          "name": "stdout",
          "text": [
            "[\n",
            "    {\n",
            "        \"name\": \"ep5g-lease\",\n",
            "        \"id\": \"16dcd7fd-8b91-4f4c-bf4b-7466fd343a63\",\n",
            "        \"reservation_id\": \"166dabc9-6fb4-4518-a65c-1ac1a6fb4aca\",\n",
            "        \"status\": \"ACTIVE\",\n",
            "        \"end_date\": \"2023-11-15T11:29:00.000000\"\n",
            "    },\n",
            "    {\n",
            "        \"name\": \"adv-03-lease\",\n",
            "        \"id\": \"21d16889-27db-434f-a2ae-1a9d2cf07d59\",\n",
            "        \"reservation_id\": \"257e802b-6780-47ca-9c44-3e1dd6da95f6\",\n",
            "        \"status\": \"ACTIVE\",\n",
            "        \"end_date\": \"2023-11-15T11:30:00.000000\"\n",
            "    },\n",
            "    {\n",
            "        \"name\": \"worker-08-lease\",\n",
            "        \"id\": \"aaa95f32-9e6c-4c9a-978a-f541765f3347\",\n",
            "        \"reservation_id\": \"38be06d4-0cac-409d-aeb3-0f993cf6b08f\",\n",
            "        \"status\": \"ACTIVE\",\n",
            "        \"end_date\": \"2023-11-15T11:32:00.000000\"\n",
            "    },\n",
            "    {\n",
            "        \"name\": \"worker-07-lease\",\n",
            "        \"id\": \"f0e6b551-f979-44ab-94c1-36c06443275d\",\n",
            "        \"reservation_id\": \"65bdde56-3c96-422b-81db-cc5bf941a079\",\n",
            "        \"status\": \"ACTIVE\",\n",
            "        \"end_date\": \"2023-11-15T11:31:00.000000\"\n",
            "    }\n",
            "]\n"
          ]
        }
      ],
      "source": [
        "leaseslist = list_reservations(brief=True)\n",
        "print(json.dumps(leaseslist,indent=4))"
      ]
    },
    {
      "cell_type": "markdown",
      "metadata": {
        "id": "Rd4EsDjdqRFU"
      },
      "source": [
        "In the next cell, we reserve the required equipment and resources to form an end to end experiment setup. We reserve EP5G network, one Advantech router and one worker to run the workloads."
      ]
    },
    {
      "cell_type": "code",
      "execution_count": 12,
      "metadata": {
        "colab": {
          "base_uri": "https://localhost:8080/"
        },
        "id": "1pauMnGZ8KSP",
        "outputId": "548d6ae0-e909-47b3-ca9d-8546229c52fd"
      },
      "outputs": [
        {
          "output_type": "stream",
          "name": "stderr",
          "text": [
            "\u001b[32m2023-11-08 11:29:06.050\u001b[0m | \u001b[1mINFO    \u001b[0m | \u001b[36mchi.expeca\u001b[0m:\u001b[36mreserve\u001b[0m:\u001b[36m167\u001b[0m - \u001b[1mreserving ep5g\u001b[0m\n",
            "\u001b[32m2023-11-08 11:29:09.105\u001b[0m | \u001b[1mINFO    \u001b[0m | \u001b[36mchi.expeca\u001b[0m:\u001b[36mwait_until_lease_status\u001b[0m:\u001b[36m62\u001b[0m - \u001b[1mwaiting 120 seconds for ep5g-lease with id 16dcd7fd-8b91-4f4c-bf4b-7466fd343a63 to become \"ACTIVE\"\u001b[0m\n",
            "\u001b[32m2023-11-08 11:29:14.257\u001b[0m | \u001b[1mINFO    \u001b[0m | \u001b[36mchi.expeca\u001b[0m:\u001b[36mwait_until_lease_status\u001b[0m:\u001b[36m69\u001b[0m - \u001b[1mlease ep5g-lease with id 16dcd7fd-8b91-4f4c-bf4b-7466fd343a63 is PENDING.\u001b[0m\n",
            "\u001b[32m2023-11-08 11:29:19.420\u001b[0m | \u001b[1mINFO    \u001b[0m | \u001b[36mchi.expeca\u001b[0m:\u001b[36mwait_until_lease_status\u001b[0m:\u001b[36m69\u001b[0m - \u001b[1mlease ep5g-lease with id 16dcd7fd-8b91-4f4c-bf4b-7466fd343a63 is PENDING.\u001b[0m\n",
            "\u001b[32m2023-11-08 11:29:24.564\u001b[0m | \u001b[1mINFO    \u001b[0m | \u001b[36mchi.expeca\u001b[0m:\u001b[36mwait_until_lease_status\u001b[0m:\u001b[36m69\u001b[0m - \u001b[1mlease ep5g-lease with id 16dcd7fd-8b91-4f4c-bf4b-7466fd343a63 is PENDING.\u001b[0m\n",
            "\u001b[32m2023-11-08 11:29:29.726\u001b[0m | \u001b[1mINFO    \u001b[0m | \u001b[36mchi.expeca\u001b[0m:\u001b[36mwait_until_lease_status\u001b[0m:\u001b[36m69\u001b[0m - \u001b[1mlease ep5g-lease with id 16dcd7fd-8b91-4f4c-bf4b-7466fd343a63 is PENDING.\u001b[0m\n",
            "\u001b[32m2023-11-08 11:29:34.882\u001b[0m | \u001b[1mINFO    \u001b[0m | \u001b[36mchi.expeca\u001b[0m:\u001b[36mwait_until_lease_status\u001b[0m:\u001b[36m69\u001b[0m - \u001b[1mlease ep5g-lease with id 16dcd7fd-8b91-4f4c-bf4b-7466fd343a63 is PENDING.\u001b[0m\n",
            "\u001b[32m2023-11-08 11:29:40.050\u001b[0m | \u001b[1mINFO    \u001b[0m | \u001b[36mchi.expeca\u001b[0m:\u001b[36mwait_until_lease_status\u001b[0m:\u001b[36m69\u001b[0m - \u001b[1mlease ep5g-lease with id 16dcd7fd-8b91-4f4c-bf4b-7466fd343a63 is PENDING.\u001b[0m\n",
            "\u001b[32m2023-11-08 11:29:45.356\u001b[0m | \u001b[1mINFO    \u001b[0m | \u001b[36mchi.expeca\u001b[0m:\u001b[36mwait_until_lease_status\u001b[0m:\u001b[36m69\u001b[0m - \u001b[1mlease ep5g-lease with id 16dcd7fd-8b91-4f4c-bf4b-7466fd343a63 is PENDING.\u001b[0m\n",
            "\u001b[32m2023-11-08 11:29:50.527\u001b[0m | \u001b[1mINFO    \u001b[0m | \u001b[36mchi.expeca\u001b[0m:\u001b[36mwait_until_lease_status\u001b[0m:\u001b[36m69\u001b[0m - \u001b[1mlease ep5g-lease with id 16dcd7fd-8b91-4f4c-bf4b-7466fd343a63 is PENDING.\u001b[0m\n",
            "\u001b[32m2023-11-08 11:29:55.683\u001b[0m | \u001b[1mINFO    \u001b[0m | \u001b[36mchi.expeca\u001b[0m:\u001b[36mwait_until_lease_status\u001b[0m:\u001b[36m69\u001b[0m - \u001b[1mlease ep5g-lease with id 16dcd7fd-8b91-4f4c-bf4b-7466fd343a63 is PENDING.\u001b[0m\n",
            "\u001b[32m2023-11-08 11:30:00.842\u001b[0m | \u001b[1mINFO    \u001b[0m | \u001b[36mchi.expeca\u001b[0m:\u001b[36mwait_until_lease_status\u001b[0m:\u001b[36m69\u001b[0m - \u001b[1mlease ep5g-lease with id 16dcd7fd-8b91-4f4c-bf4b-7466fd343a63 is PENDING.\u001b[0m\n",
            "\u001b[32m2023-11-08 11:30:06.004\u001b[0m | \u001b[1mINFO    \u001b[0m | \u001b[36mchi.expeca\u001b[0m:\u001b[36mwait_until_lease_status\u001b[0m:\u001b[36m69\u001b[0m - \u001b[1mlease ep5g-lease with id 16dcd7fd-8b91-4f4c-bf4b-7466fd343a63 is STARTING.\u001b[0m\n",
            "\u001b[32m2023-11-08 11:30:11.299\u001b[0m | \u001b[1mINFO    \u001b[0m | \u001b[36mchi.expeca\u001b[0m:\u001b[36mwait_until_lease_status\u001b[0m:\u001b[36m69\u001b[0m - \u001b[1mlease ep5g-lease with id 16dcd7fd-8b91-4f4c-bf4b-7466fd343a63 is STARTING.\u001b[0m\n",
            "\u001b[32m2023-11-08 11:30:16.448\u001b[0m | \u001b[1mINFO    \u001b[0m | \u001b[36mchi.expeca\u001b[0m:\u001b[36mwait_until_lease_status\u001b[0m:\u001b[36m69\u001b[0m - \u001b[1mlease ep5g-lease with id 16dcd7fd-8b91-4f4c-bf4b-7466fd343a63 is STARTING.\u001b[0m\n",
            "\u001b[32m2023-11-08 11:30:21.613\u001b[0m | \u001b[1mINFO    \u001b[0m | \u001b[36mchi.expeca\u001b[0m:\u001b[36mwait_until_lease_status\u001b[0m:\u001b[36m69\u001b[0m - \u001b[1mlease ep5g-lease with id 16dcd7fd-8b91-4f4c-bf4b-7466fd343a63 is STARTING.\u001b[0m\n",
            "\u001b[32m2023-11-08 11:30:26.777\u001b[0m | \u001b[1mINFO    \u001b[0m | \u001b[36mchi.expeca\u001b[0m:\u001b[36mwait_until_lease_status\u001b[0m:\u001b[36m69\u001b[0m - \u001b[1mlease ep5g-lease with id 16dcd7fd-8b91-4f4c-bf4b-7466fd343a63 is ACTIVE.\u001b[0m\n",
            "\u001b[32m2023-11-08 11:30:26.779\u001b[0m | \u001b[32m\u001b[1mSUCCESS \u001b[0m | \u001b[36mchi.expeca\u001b[0m:\u001b[36mtry_to_create_lease\u001b[0m:\u001b[36m209\u001b[0m - \u001b[32m\u001b[1mdone\u001b[0m\n",
            "\u001b[32m2023-11-08 11:30:26.782\u001b[0m | \u001b[1mINFO    \u001b[0m | \u001b[36mchi.expeca\u001b[0m:\u001b[36mreserve\u001b[0m:\u001b[36m167\u001b[0m - \u001b[1mreserving adv-03\u001b[0m\n",
            "\u001b[32m2023-11-08 11:30:29.457\u001b[0m | \u001b[1mINFO    \u001b[0m | \u001b[36mchi.expeca\u001b[0m:\u001b[36mwait_until_lease_status\u001b[0m:\u001b[36m62\u001b[0m - \u001b[1mwaiting 120 seconds for adv-03-lease with id 21d16889-27db-434f-a2ae-1a9d2cf07d59 to become \"ACTIVE\"\u001b[0m\n",
            "\u001b[32m2023-11-08 11:30:34.616\u001b[0m | \u001b[1mINFO    \u001b[0m | \u001b[36mchi.expeca\u001b[0m:\u001b[36mwait_until_lease_status\u001b[0m:\u001b[36m69\u001b[0m - \u001b[1mlease adv-03-lease with id 21d16889-27db-434f-a2ae-1a9d2cf07d59 is PENDING.\u001b[0m\n",
            "\u001b[32m2023-11-08 11:30:39.774\u001b[0m | \u001b[1mINFO    \u001b[0m | \u001b[36mchi.expeca\u001b[0m:\u001b[36mwait_until_lease_status\u001b[0m:\u001b[36m69\u001b[0m - \u001b[1mlease adv-03-lease with id 21d16889-27db-434f-a2ae-1a9d2cf07d59 is PENDING.\u001b[0m\n",
            "\u001b[32m2023-11-08 11:30:44.940\u001b[0m | \u001b[1mINFO    \u001b[0m | \u001b[36mchi.expeca\u001b[0m:\u001b[36mwait_until_lease_status\u001b[0m:\u001b[36m69\u001b[0m - \u001b[1mlease adv-03-lease with id 21d16889-27db-434f-a2ae-1a9d2cf07d59 is PENDING.\u001b[0m\n",
            "\u001b[32m2023-11-08 11:30:50.099\u001b[0m | \u001b[1mINFO    \u001b[0m | \u001b[36mchi.expeca\u001b[0m:\u001b[36mwait_until_lease_status\u001b[0m:\u001b[36m69\u001b[0m - \u001b[1mlease adv-03-lease with id 21d16889-27db-434f-a2ae-1a9d2cf07d59 is PENDING.\u001b[0m\n",
            "\u001b[32m2023-11-08 11:30:55.256\u001b[0m | \u001b[1mINFO    \u001b[0m | \u001b[36mchi.expeca\u001b[0m:\u001b[36mwait_until_lease_status\u001b[0m:\u001b[36m69\u001b[0m - \u001b[1mlease adv-03-lease with id 21d16889-27db-434f-a2ae-1a9d2cf07d59 is PENDING.\u001b[0m\n",
            "\u001b[32m2023-11-08 11:31:00.414\u001b[0m | \u001b[1mINFO    \u001b[0m | \u001b[36mchi.expeca\u001b[0m:\u001b[36mwait_until_lease_status\u001b[0m:\u001b[36m69\u001b[0m - \u001b[1mlease adv-03-lease with id 21d16889-27db-434f-a2ae-1a9d2cf07d59 is PENDING.\u001b[0m\n",
            "\u001b[32m2023-11-08 11:31:05.581\u001b[0m | \u001b[1mINFO    \u001b[0m | \u001b[36mchi.expeca\u001b[0m:\u001b[36mwait_until_lease_status\u001b[0m:\u001b[36m69\u001b[0m - \u001b[1mlease adv-03-lease with id 21d16889-27db-434f-a2ae-1a9d2cf07d59 is STARTING.\u001b[0m\n",
            "\u001b[32m2023-11-08 11:31:10.745\u001b[0m | \u001b[1mINFO    \u001b[0m | \u001b[36mchi.expeca\u001b[0m:\u001b[36mwait_until_lease_status\u001b[0m:\u001b[36m69\u001b[0m - \u001b[1mlease adv-03-lease with id 21d16889-27db-434f-a2ae-1a9d2cf07d59 is STARTING.\u001b[0m\n",
            "\u001b[32m2023-11-08 11:31:15.891\u001b[0m | \u001b[1mINFO    \u001b[0m | \u001b[36mchi.expeca\u001b[0m:\u001b[36mwait_until_lease_status\u001b[0m:\u001b[36m69\u001b[0m - \u001b[1mlease adv-03-lease with id 21d16889-27db-434f-a2ae-1a9d2cf07d59 is ACTIVE.\u001b[0m\n",
            "\u001b[32m2023-11-08 11:31:15.893\u001b[0m | \u001b[32m\u001b[1mSUCCESS \u001b[0m | \u001b[36mchi.expeca\u001b[0m:\u001b[36mtry_to_create_lease\u001b[0m:\u001b[36m209\u001b[0m - \u001b[32m\u001b[1mdone\u001b[0m\n",
            "\u001b[32m2023-11-08 11:31:15.896\u001b[0m | \u001b[1mINFO    \u001b[0m | \u001b[36mchi.expeca\u001b[0m:\u001b[36mreserve\u001b[0m:\u001b[36m167\u001b[0m - \u001b[1mreserving worker-07\u001b[0m\n",
            "\u001b[32m2023-11-08 11:31:18.380\u001b[0m | \u001b[1mINFO    \u001b[0m | \u001b[36mchi.expeca\u001b[0m:\u001b[36mwait_until_lease_status\u001b[0m:\u001b[36m62\u001b[0m - \u001b[1mwaiting 120 seconds for worker-07-lease with id f0e6b551-f979-44ab-94c1-36c06443275d to become \"ACTIVE\"\u001b[0m\n",
            "\u001b[32m2023-11-08 11:31:23.542\u001b[0m | \u001b[1mINFO    \u001b[0m | \u001b[36mchi.expeca\u001b[0m:\u001b[36mwait_until_lease_status\u001b[0m:\u001b[36m69\u001b[0m - \u001b[1mlease worker-07-lease with id f0e6b551-f979-44ab-94c1-36c06443275d is PENDING.\u001b[0m\n",
            "\u001b[32m2023-11-08 11:31:28.702\u001b[0m | \u001b[1mINFO    \u001b[0m | \u001b[36mchi.expeca\u001b[0m:\u001b[36mwait_until_lease_status\u001b[0m:\u001b[36m69\u001b[0m - \u001b[1mlease worker-07-lease with id f0e6b551-f979-44ab-94c1-36c06443275d is PENDING.\u001b[0m\n",
            "\u001b[32m2023-11-08 11:31:33.861\u001b[0m | \u001b[1mINFO    \u001b[0m | \u001b[36mchi.expeca\u001b[0m:\u001b[36mwait_until_lease_status\u001b[0m:\u001b[36m69\u001b[0m - \u001b[1mlease worker-07-lease with id f0e6b551-f979-44ab-94c1-36c06443275d is PENDING.\u001b[0m\n",
            "\u001b[32m2023-11-08 11:31:39.026\u001b[0m | \u001b[1mINFO    \u001b[0m | \u001b[36mchi.expeca\u001b[0m:\u001b[36mwait_until_lease_status\u001b[0m:\u001b[36m69\u001b[0m - \u001b[1mlease worker-07-lease with id f0e6b551-f979-44ab-94c1-36c06443275d is PENDING.\u001b[0m\n",
            "\u001b[32m2023-11-08 11:31:44.184\u001b[0m | \u001b[1mINFO    \u001b[0m | \u001b[36mchi.expeca\u001b[0m:\u001b[36mwait_until_lease_status\u001b[0m:\u001b[36m69\u001b[0m - \u001b[1mlease worker-07-lease with id f0e6b551-f979-44ab-94c1-36c06443275d is PENDING.\u001b[0m\n",
            "\u001b[32m2023-11-08 11:31:49.340\u001b[0m | \u001b[1mINFO    \u001b[0m | \u001b[36mchi.expeca\u001b[0m:\u001b[36mwait_until_lease_status\u001b[0m:\u001b[36m69\u001b[0m - \u001b[1mlease worker-07-lease with id f0e6b551-f979-44ab-94c1-36c06443275d is PENDING.\u001b[0m\n",
            "\u001b[32m2023-11-08 11:31:54.511\u001b[0m | \u001b[1mINFO    \u001b[0m | \u001b[36mchi.expeca\u001b[0m:\u001b[36mwait_until_lease_status\u001b[0m:\u001b[36m69\u001b[0m - \u001b[1mlease worker-07-lease with id f0e6b551-f979-44ab-94c1-36c06443275d is PENDING.\u001b[0m\n",
            "\u001b[32m2023-11-08 11:31:59.678\u001b[0m | \u001b[1mINFO    \u001b[0m | \u001b[36mchi.expeca\u001b[0m:\u001b[36mwait_until_lease_status\u001b[0m:\u001b[36m69\u001b[0m - \u001b[1mlease worker-07-lease with id f0e6b551-f979-44ab-94c1-36c06443275d is PENDING.\u001b[0m\n",
            "\u001b[32m2023-11-08 11:32:04.835\u001b[0m | \u001b[1mINFO    \u001b[0m | \u001b[36mchi.expeca\u001b[0m:\u001b[36mwait_until_lease_status\u001b[0m:\u001b[36m69\u001b[0m - \u001b[1mlease worker-07-lease with id f0e6b551-f979-44ab-94c1-36c06443275d is PENDING.\u001b[0m\n",
            "\u001b[32m2023-11-08 11:32:09.987\u001b[0m | \u001b[1mINFO    \u001b[0m | \u001b[36mchi.expeca\u001b[0m:\u001b[36mwait_until_lease_status\u001b[0m:\u001b[36m69\u001b[0m - \u001b[1mlease worker-07-lease with id f0e6b551-f979-44ab-94c1-36c06443275d is ACTIVE.\u001b[0m\n",
            "\u001b[32m2023-11-08 11:32:09.989\u001b[0m | \u001b[32m\u001b[1mSUCCESS \u001b[0m | \u001b[36mchi.expeca\u001b[0m:\u001b[36mtry_to_create_lease\u001b[0m:\u001b[36m209\u001b[0m - \u001b[32m\u001b[1mdone\u001b[0m\n",
            "\u001b[32m2023-11-08 11:32:09.991\u001b[0m | \u001b[1mINFO    \u001b[0m | \u001b[36mchi.expeca\u001b[0m:\u001b[36mreserve\u001b[0m:\u001b[36m167\u001b[0m - \u001b[1mreserving worker-08\u001b[0m\n",
            "\u001b[32m2023-11-08 11:32:12.464\u001b[0m | \u001b[1mINFO    \u001b[0m | \u001b[36mchi.expeca\u001b[0m:\u001b[36mwait_until_lease_status\u001b[0m:\u001b[36m62\u001b[0m - \u001b[1mwaiting 120 seconds for worker-08-lease with id aaa95f32-9e6c-4c9a-978a-f541765f3347 to become \"ACTIVE\"\u001b[0m\n",
            "\u001b[32m2023-11-08 11:32:17.628\u001b[0m | \u001b[1mINFO    \u001b[0m | \u001b[36mchi.expeca\u001b[0m:\u001b[36mwait_until_lease_status\u001b[0m:\u001b[36m69\u001b[0m - \u001b[1mlease worker-08-lease with id aaa95f32-9e6c-4c9a-978a-f541765f3347 is PENDING.\u001b[0m\n",
            "\u001b[32m2023-11-08 11:32:22.796\u001b[0m | \u001b[1mINFO    \u001b[0m | \u001b[36mchi.expeca\u001b[0m:\u001b[36mwait_until_lease_status\u001b[0m:\u001b[36m69\u001b[0m - \u001b[1mlease worker-08-lease with id aaa95f32-9e6c-4c9a-978a-f541765f3347 is PENDING.\u001b[0m\n",
            "\u001b[32m2023-11-08 11:32:27.954\u001b[0m | \u001b[1mINFO    \u001b[0m | \u001b[36mchi.expeca\u001b[0m:\u001b[36mwait_until_lease_status\u001b[0m:\u001b[36m69\u001b[0m - \u001b[1mlease worker-08-lease with id aaa95f32-9e6c-4c9a-978a-f541765f3347 is PENDING.\u001b[0m\n",
            "\u001b[32m2023-11-08 11:32:33.135\u001b[0m | \u001b[1mINFO    \u001b[0m | \u001b[36mchi.expeca\u001b[0m:\u001b[36mwait_until_lease_status\u001b[0m:\u001b[36m69\u001b[0m - \u001b[1mlease worker-08-lease with id aaa95f32-9e6c-4c9a-978a-f541765f3347 is PENDING.\u001b[0m\n",
            "\u001b[32m2023-11-08 11:32:38.289\u001b[0m | \u001b[1mINFO    \u001b[0m | \u001b[36mchi.expeca\u001b[0m:\u001b[36mwait_until_lease_status\u001b[0m:\u001b[36m69\u001b[0m - \u001b[1mlease worker-08-lease with id aaa95f32-9e6c-4c9a-978a-f541765f3347 is PENDING.\u001b[0m\n",
            "\u001b[32m2023-11-08 11:32:43.467\u001b[0m | \u001b[1mINFO    \u001b[0m | \u001b[36mchi.expeca\u001b[0m:\u001b[36mwait_until_lease_status\u001b[0m:\u001b[36m69\u001b[0m - \u001b[1mlease worker-08-lease with id aaa95f32-9e6c-4c9a-978a-f541765f3347 is PENDING.\u001b[0m\n",
            "\u001b[32m2023-11-08 11:32:48.642\u001b[0m | \u001b[1mINFO    \u001b[0m | \u001b[36mchi.expeca\u001b[0m:\u001b[36mwait_until_lease_status\u001b[0m:\u001b[36m69\u001b[0m - \u001b[1mlease worker-08-lease with id aaa95f32-9e6c-4c9a-978a-f541765f3347 is PENDING.\u001b[0m\n",
            "\u001b[32m2023-11-08 11:32:53.818\u001b[0m | \u001b[1mINFO    \u001b[0m | \u001b[36mchi.expeca\u001b[0m:\u001b[36mwait_until_lease_status\u001b[0m:\u001b[36m69\u001b[0m - \u001b[1mlease worker-08-lease with id aaa95f32-9e6c-4c9a-978a-f541765f3347 is PENDING.\u001b[0m\n",
            "\u001b[32m2023-11-08 11:32:58.977\u001b[0m | \u001b[1mINFO    \u001b[0m | \u001b[36mchi.expeca\u001b[0m:\u001b[36mwait_until_lease_status\u001b[0m:\u001b[36m69\u001b[0m - \u001b[1mlease worker-08-lease with id aaa95f32-9e6c-4c9a-978a-f541765f3347 is PENDING.\u001b[0m\n",
            "\u001b[32m2023-11-08 11:33:04.147\u001b[0m | \u001b[1mINFO    \u001b[0m | \u001b[36mchi.expeca\u001b[0m:\u001b[36mwait_until_lease_status\u001b[0m:\u001b[36m69\u001b[0m - \u001b[1mlease worker-08-lease with id aaa95f32-9e6c-4c9a-978a-f541765f3347 is PENDING.\u001b[0m\n",
            "\u001b[32m2023-11-08 11:33:09.312\u001b[0m | \u001b[1mINFO    \u001b[0m | \u001b[36mchi.expeca\u001b[0m:\u001b[36mwait_until_lease_status\u001b[0m:\u001b[36m69\u001b[0m - \u001b[1mlease worker-08-lease with id aaa95f32-9e6c-4c9a-978a-f541765f3347 is ACTIVE.\u001b[0m\n",
            "\u001b[32m2023-11-08 11:33:09.314\u001b[0m | \u001b[32m\u001b[1mSUCCESS \u001b[0m | \u001b[36mchi.expeca\u001b[0m:\u001b[36mtry_to_create_lease\u001b[0m:\u001b[36m209\u001b[0m - \u001b[32m\u001b[1mdone\u001b[0m\n"
          ]
        },
        {
          "output_type": "stream",
          "name": "stdout",
          "text": [
            "[\n",
            "    {\n",
            "        \"name\": \"ep5g-lease\",\n",
            "        \"id\": \"16dcd7fd-8b91-4f4c-bf4b-7466fd343a63\",\n",
            "        \"reservation_id\": \"166dabc9-6fb4-4518-a65c-1ac1a6fb4aca\",\n",
            "        \"status\": \"ACTIVE\",\n",
            "        \"end_date\": \"2023-11-15T11:29:00.000000\"\n",
            "    },\n",
            "    {\n",
            "        \"name\": \"adv-03-lease\",\n",
            "        \"id\": \"21d16889-27db-434f-a2ae-1a9d2cf07d59\",\n",
            "        \"reservation_id\": \"257e802b-6780-47ca-9c44-3e1dd6da95f6\",\n",
            "        \"status\": \"ACTIVE\",\n",
            "        \"end_date\": \"2023-11-15T11:30:00.000000\"\n",
            "    },\n",
            "    {\n",
            "        \"name\": \"worker-08-lease\",\n",
            "        \"id\": \"aaa95f32-9e6c-4c9a-978a-f541765f3347\",\n",
            "        \"reservation_id\": \"38be06d4-0cac-409d-aeb3-0f993cf6b08f\",\n",
            "        \"status\": \"ACTIVE\",\n",
            "        \"end_date\": \"2023-11-15T11:32:00.000000\"\n",
            "    },\n",
            "    {\n",
            "        \"name\": \"worker-07-lease\",\n",
            "        \"id\": \"f0e6b551-f979-44ab-94c1-36c06443275d\",\n",
            "        \"reservation_id\": \"65bdde56-3c96-422b-81db-cc5bf941a079\",\n",
            "        \"status\": \"ACTIVE\",\n",
            "        \"end_date\": \"2023-11-15T11:31:00.000000\"\n",
            "    }\n",
            "]\n"
          ]
        }
      ],
      "source": [
        "# ep5g reservation\n",
        "ep5g_lease = reserve(\n",
        "    { \"type\":\"network\", \"name\": \"ep5g\", \"net_name\": \"ep5g-vip\", \"segment_id\": \"100\", \"duration\": { \"days\":7, \"hours\":0 } }\n",
        ")\n",
        "\n",
        "# advantech router reservation\n",
        "adv3_lease = reserve(\n",
        "    { \"type\":\"network\", \"name\": \"adv-03\", \"net_name\": \"adv-03\", \"segment_id\": \"133\", \"duration\": { \"days\":7, \"hours\":0 } }\n",
        ")\n",
        "\n",
        "# worker reservation\n",
        "worker7_lease = reserve(\n",
        "    { \"type\":\"device\", \"name\":\"worker-07\", \"duration\": { \"days\":7, \"hours\":0 } }\n",
        ")\n",
        "\n",
        "# worker reservation\n",
        "worker8_lease = reserve(\n",
        "    { \"type\":\"device\", \"name\":\"worker-08\", \"duration\": { \"days\":7, \"hours\":0 } }\n",
        ")\n",
        "\n",
        "leaseslist = list_reservations(brief=True)\n",
        "print(json.dumps(leaseslist,indent=4))"
      ]
    },
    {
      "cell_type": "code",
      "execution_count": 6,
      "metadata": {
        "colab": {
          "base_uri": "https://localhost:8080/"
        },
        "id": "-4FICd-CdpY6",
        "outputId": "be91cb7c-5631-440c-c64e-70784cdfd0c4"
      },
      "outputs": [
        {
          "output_type": "stream",
          "name": "stdout",
          "text": [
            "{'name': 'adv-03-lease', 'id': '21d16889-27db-434f-a2ae-1a9d2cf07d59', 'reservation_id': '257e802b-6780-47ca-9c44-3e1dd6da95f6', 'status': 'ACTIVE', 'end_date': '2023-11-15T11:30:00.000000'} {'name': 'ep5g-lease', 'id': '16dcd7fd-8b91-4f4c-bf4b-7466fd343a63', 'reservation_id': '166dabc9-6fb4-4518-a65c-1ac1a6fb4aca', 'status': 'ACTIVE', 'end_date': '2023-11-15T11:29:00.000000'} 65bdde56-3c96-422b-81db-cc5bf941a079 38be06d4-0cac-409d-aeb3-0f993cf6b08f\n"
          ]
        }
      ],
      "source": [
        "leaseslist = list_reservations(brief=True)\n",
        "\n",
        "adv3_lease = [lease for lease in leaseslist if lease[\"name\"]==\"adv-03-lease\"][0]\n",
        "worker7_lease = [lease for lease in leaseslist if lease[\"name\"]==\"worker-07-lease\"][0]\n",
        "worker8_lease = [lease for lease in leaseslist if lease[\"name\"]==\"worker-08-lease\"][0]\n",
        "\n",
        "ep5g_lease = [lease for lease in leaseslist if lease[\"name\"]==\"ep5g-lease\"][0]\n",
        "worker7_reservation_id = worker7_lease[\"reservation_id\"]\n",
        "worker8_reservation_id = worker8_lease[\"reservation_id\"]\n",
        "\n",
        "print(adv3_lease,ep5g_lease, worker7_reservation_id, worker8_reservation_id)"
      ]
    },
    {
      "cell_type": "markdown",
      "metadata": {
        "id": "tNYpBeUgpn15"
      },
      "source": [
        "In the following section we setup the networking equipment for ep5g (refer to [here](https://kth-expeca.gitbook.io/testbedconfig/enroll/enroll-network-segments/ep5g) for more info).\n",
        "It contains creation of an edge-net, a router, and some interfaces on the router and routes."
      ]
    },
    {
      "cell_type": "code",
      "execution_count": 15,
      "metadata": {
        "colab": {
          "base_uri": "https://localhost:8080/"
        },
        "id": "QV7oHbSu7g5F",
        "outputId": "494f02ee-dffb-4fb3-ec5c-3b3c91873a67"
      },
      "outputs": [
        {
          "output_type": "stream",
          "name": "stderr",
          "text": [
            "\u001b[32m2023-11-09 14:51:54.277\u001b[0m | \u001b[32m\u001b[1mSUCCESS \u001b[0m | \u001b[36m__main__\u001b[0m:\u001b[36m<cell line: 4>\u001b[0m:\u001b[36m4\u001b[0m - \u001b[32m\u001b[1medge-net is created.\u001b[0m\n",
            "\u001b[32m2023-11-09 14:51:56.702\u001b[0m | \u001b[32m\u001b[1mSUCCESS \u001b[0m | \u001b[36m__main__\u001b[0m:\u001b[36m<cell line: 8>\u001b[0m:\u001b[36m8\u001b[0m - \u001b[32m\u001b[1mep5g-vip-router router is created.\u001b[0m\n",
            "\u001b[32m2023-11-09 14:51:56.705\u001b[0m | \u001b[1mINFO    \u001b[0m | \u001b[36m__main__\u001b[0m:\u001b[36m<cell line: 9>\u001b[0m:\u001b[36m9\u001b[0m - \u001b[1m{\n",
            "    \"id\": \"11c837d9-a381-4439-963e-17eea9b0ebaf\",\n",
            "    \"name\": \"ep5g-vip-router\",\n",
            "    \"tenant_id\": \"ddf790cc1bb64e0387eff22c1ab19f94\",\n",
            "    \"admin_state_up\": true,\n",
            "    \"status\": \"ACTIVE\",\n",
            "    \"external_gateway_info\": {\n",
            "        \"network_id\": \"717b5f2b-069e-4868-a24d-91a4ae3ad002\",\n",
            "        \"external_fixed_ips\": [\n",
            "            {\n",
            "                \"subnet_id\": \"53d03ffd-0d49-4f9a-88a3-a30d69fe4827\",\n",
            "                \"ip_address\": \"130.237.11.121\"\n",
            "            }\n",
            "        ],\n",
            "        \"enable_snat\": true\n",
            "    },\n",
            "    \"description\": \"\",\n",
            "    \"availability_zones\": [],\n",
            "    \"availability_zone_hints\": [],\n",
            "    \"routes\": [],\n",
            "    \"flavor_id\": null,\n",
            "    \"tags\": [],\n",
            "    \"created_at\": \"2023-11-09T14:51:54Z\",\n",
            "    \"updated_at\": \"2023-11-09T14:51:55Z\",\n",
            "    \"revision_number\": 3,\n",
            "    \"project_id\": \"ddf790cc1bb64e0387eff22c1ab19f94\"\n",
            "}\u001b[0m\n",
            "\u001b[32m2023-11-09 14:52:00.484\u001b[0m | \u001b[32m\u001b[1mSUCCESS \u001b[0m | \u001b[36m__main__\u001b[0m:\u001b[36m<cell line: 14>\u001b[0m:\u001b[36m14\u001b[0m - \u001b[32m\u001b[1mAn interface on ep5g-vip-net is added to the router\u001b[0m\n",
            "\u001b[32m2023-11-09 14:52:04.044\u001b[0m | \u001b[32m\u001b[1mSUCCESS \u001b[0m | \u001b[36m__main__\u001b[0m:\u001b[36m<cell line: 19>\u001b[0m:\u001b[36m19\u001b[0m - \u001b[32m\u001b[1mAn interface on edge-net is added to the router\u001b[0m\n",
            "\u001b[32m2023-11-09 14:52:05.115\u001b[0m | \u001b[32m\u001b[1mSUCCESS \u001b[0m | \u001b[36m__main__\u001b[0m:\u001b[36m<cell line: 23>\u001b[0m:\u001b[36m23\u001b[0m - \u001b[32m\u001b[1mthe route added to the router\u001b[0m\n"
          ]
        }
      ],
      "source": [
        "# create edge-net\n",
        "edgenet = chi.network.create_network(\"edge-net\")\n",
        "chi.network.create_subnet(\"edge-net-subnet\",edgenet[\"id\"],\"10.70.70.0/24\",gateway_ip=\"10.70.70.1\",enable_dhcp=False)\n",
        "logger.success(\"edge-net is created.\")\n",
        "\n",
        "# create ep5g-vip-router\n",
        "router = chi.network.create_router(\"ep5g-vip-router\",\"public\")\n",
        "logger.success(\"ep5g-vip-router router is created.\")\n",
        "logger.info(f\"{json.dumps(router,indent=4)}\")\n",
        "\n",
        "# connect ep5g-vip-net to ep5g-vip-router\n",
        "ep5gnet = chi.network.get_network(\"ep5g-vip-net\")\n",
        "portadd = chi.network.add_subnet_to_router(router[\"id\"],ep5gnet[\"subnets\"][0])\n",
        "logger.success(\"An interface on ep5g-vip-net is added to the router\")\n",
        "\n",
        "# create edge-net to ep5g-vip-router\n",
        "edgenet = chi.network.get_network(\"edge-net\")\n",
        "portadd = chi.network.add_subnet_to_router(router[\"id\"],edgenet[\"subnets\"][0])\n",
        "logger.success(\"An interface on edge-net is added to the router\")\n",
        "\n",
        "# add ep5g route to ep5g-vip-router\n",
        "routeadd = chi.network.add_route_to_router(router[\"id\"],\"172.16.0.0/16\",\"10.30.111.10\")\n",
        "logger.success(\"the route added to the router\")"
      ]
    },
    {
      "cell_type": "markdown",
      "metadata": {
        "id": "qlEedPyQpdZp"
      },
      "source": [
        "Now the network is ready to run the workloads. We start by running the edge-node perf-meas container."
      ]
    },
    {
      "cell_type": "code",
      "execution_count": 16,
      "metadata": {
        "colab": {
          "base_uri": "https://localhost:8080/"
        },
        "id": "KNPWOgj97oDZ",
        "outputId": "68ef4990-9729-4208-aadf-06f8bea946d2"
      },
      "outputs": [
        {
          "output_type": "stream",
          "name": "stderr",
          "text": [
            "\u001b[32m2023-11-09 14:52:50.551\u001b[0m | \u001b[32m\u001b[1mSUCCESS \u001b[0m | \u001b[36m__main__\u001b[0m:\u001b[36m<cell line: 20>\u001b[0m:\u001b[36m20\u001b[0m - \u001b[32m\u001b[1mcreated edge-node container.\u001b[0m\n"
          ]
        }
      ],
      "source": [
        "edgenet = chi.network.get_network(\"edge-net\")\n",
        "chi.container.create_container(\n",
        "    name = \"edge-node\",\n",
        "    image = \"gourav4871/perf-meas-full\",\n",
        "    reservation_id = worker8_reservation_id,\n",
        "    environment = {\"SERVER_DIR\":\"/mnt/volume/\"},\n",
        "    mounts = [\n",
        "        {'source': 'edge-volume', 'destination': '/mnt/volume/'}\n",
        "    ],\n",
        "    nets = [\n",
        "        { \"network\" : edgenet['id'] },\n",
        "    ],\n",
        "    labels = {\n",
        "        \"networks.1.interface\":\"ens1\",\n",
        "        \"networks.1.ip\":\"10.70.70.3/24\",\n",
        "        \"networks.1.routes\":\"172.16.0.0/16-10.70.70.1\",\n",
        "    },\n",
        ")\n",
        "chi.container.wait_for_active(\"edge-node\")\n",
        "logger.success(\"created edge-node container.\")"
      ]
    },
    {
      "cell_type": "markdown",
      "metadata": {
        "id": "0yXjoiAApZ9m"
      },
      "source": [
        "Next, we run the end-node perf-meas container."
      ]
    },
    {
      "cell_type": "code",
      "execution_count": 17,
      "metadata": {
        "colab": {
          "base_uri": "https://localhost:8080/"
        },
        "id": "SiwwlTuX8xUg",
        "outputId": "5e6ceca1-0a31-4ea5-e0cb-bfa086786215"
      },
      "outputs": [
        {
          "output_type": "stream",
          "name": "stderr",
          "text": [
            "\u001b[32m2023-11-09 14:53:38.997\u001b[0m | \u001b[32m\u001b[1mSUCCESS \u001b[0m | \u001b[36m__main__\u001b[0m:\u001b[36m<cell line: 17>\u001b[0m:\u001b[36m17\u001b[0m - \u001b[32m\u001b[1mcreated end-node container.\u001b[0m\n"
          ]
        }
      ],
      "source": [
        "advnet = chi.network.get_network(\"adv-03-net\")\n",
        "chi.container.create_container(\n",
        "    name = \"end-node\",\n",
        "    image = \"gourav4871/perf-meas-full\",\n",
        "    reservation_id = worker7_reservation_id,\n",
        "    environment = {\"SERVER_DIR\":\"/tmp/\"},\n",
        "    nets = [\n",
        "        { \"network\" : advnet['id'] },\n",
        "    ],\n",
        "    labels = {\n",
        "        \"networks.1.interface\":\"ens1\",\n",
        "        \"networks.1.ip\":\"10.42.3.2/24\",\n",
        "        \"networks.1.routes\":\"10.70.70.0/24-10.42.3.1\",\n",
        "    },\n",
        ")\n",
        "chi.container.wait_for_active(\"end-node\")\n",
        "logger.success(\"created end-node container.\")"
      ]
    },
    {
      "cell_type": "markdown",
      "metadata": {
        "id": "hg8GIvvApWgh"
      },
      "source": [
        "Run uplink bandwidth test"
      ]
    },
    {
      "cell_type": "code",
      "execution_count": 18,
      "metadata": {
        "colab": {
          "base_uri": "https://localhost:8080/"
        },
        "id": "h1uyVgDuMvbY",
        "outputId": "fe5f11a4-ddac-4cff-fca0-13fda1adc1e0"
      },
      "outputs": [
        {
          "output_type": "stream",
          "name": "stderr",
          "text": [
            "\u001b[32m2023-11-09 14:53:45.227\u001b[0m | \u001b[1mINFO    \u001b[0m | \u001b[36m__main__\u001b[0m:\u001b[36m<cell line: 6>\u001b[0m:\u001b[36m6\u001b[0m - \u001b[1m{'output': 'Command received and started in the background.\\n', 'exit_code': 0, 'exec_id': None, 'proxy_url': None}\u001b[0m\n"
          ]
        }
      ],
      "source": [
        "command = \"iperf3 -c 10.70.70.3 -u -b 1G --get-server-output > /proc/1/fd/1 2>&1\"\n",
        "result = chi.container.execute(\n",
        "    container_ref=\"end-node\",\n",
        "    command=\"curl -s -X POST -H \\\"Content-Type: application/json\\\" -d '{\\\"cmd\\\": \\\"\" + command + \"\\\"}' http://localhost:50505/\",\n",
        ")\n",
        "logger.info(f\"{result}\")"
      ]
    },
    {
      "cell_type": "markdown",
      "metadata": {
        "id": "ywyMFkB2pTOJ"
      },
      "source": [
        "Run downlink bandwidth test"
      ]
    },
    {
      "cell_type": "code",
      "execution_count": 19,
      "metadata": {
        "id": "zGzjdiJakaat",
        "outputId": "c166631e-b274-4ccb-894e-e2cf8152233b",
        "colab": {
          "base_uri": "https://localhost:8080/"
        }
      },
      "outputs": [
        {
          "output_type": "stream",
          "name": "stderr",
          "text": [
            "\u001b[32m2023-11-09 14:53:49.839\u001b[0m | \u001b[1mINFO    \u001b[0m | \u001b[36m__main__\u001b[0m:\u001b[36m<cell line: 6>\u001b[0m:\u001b[36m6\u001b[0m - \u001b[1m{'output': 'Command received and started in the background.\\n', 'exit_code': 0, 'exec_id': None, 'proxy_url': None}\u001b[0m\n"
          ]
        }
      ],
      "source": [
        "command = \"iperf3 -c 172.16.0.96 -u -b 1G --get-server-output > /proc/1/fd/1 2>&1\"\n",
        "result = chi.container.execute(\n",
        "    container_ref=\"edge-node\",\n",
        "    command=\"curl -s -X POST -H \\\"Content-Type: application/json\\\" -d '{\\\"cmd\\\": \\\"\" + command + \"\\\"}' http://localhost:50505/\",\n",
        ")\n",
        "logger.info(f\"{result}\")"
      ]
    },
    {
      "cell_type": "markdown",
      "metadata": {
        "id": "fRL16_YHsjC5"
      },
      "source": [
        "CAUTION: In this cell we tear down all the configurations and release the reserved resources. The project will be clean afterwards."
      ]
    },
    {
      "cell_type": "markdown",
      "metadata": {
        "id": "8j7v3srpBHm5"
      },
      "source": [
        "### Uplink measurements"
      ]
    },
    {
      "cell_type": "code",
      "execution_count": 21,
      "metadata": {
        "id": "xXnhCPsDxr-a"
      },
      "outputs": [],
      "source": [
        "# set session parameters\n",
        "end_name = \"endnode01\"\n",
        "edge_name = \"edge\"\n",
        "nt_dev = \"adv03\"\n",
        "exp_name = \"2023-11-03-t1\"\n",
        "client_ip = \"172.16.0.40\"\n",
        "server_ip = \"10.70.70.3\"\n",
        "sleep_dur = 10\n",
        "tripm = \"oneway\"\n",
        "total_samples = 1e6\n",
        "interval = \"10\" # in ms\n",
        "offset = \"0\" # ms\n",
        "length = 100 # in B\n",
        "mult = 1 # multiple of packets\n",
        "duration = 30 # in seconds\n",
        "total_session_time = interval # in seconds\n",
        "itnum = 1 #math.ceil(total_session_time/duration)\n",
        "cl_port = \"55500\"\n",
        "nt_sleep = \"300\" # in ms"
      ]
    },
    {
      "cell_type": "code",
      "execution_count": 22,
      "metadata": {
        "colab": {
          "base_uri": "https://localhost:8080/"
        },
        "id": "tbLubYKMAQ4b",
        "outputId": "7c1b5521-d3e7-4f94-df03-f63024138e48"
      },
      "outputs": [
        {
          "output_type": "stream",
          "name": "stderr",
          "text": [
            "\u001b[32m2023-11-09 15:14:13.570\u001b[0m | \u001b[1mINFO    \u001b[0m | \u001b[36m__main__\u001b[0m:\u001b[36m<cell line: 7>\u001b[0m:\u001b[36m7\u001b[0m - \u001b[1m{'output': 'Command received and started in the background.\\n', 'exit_code': 0, 'exec_id': None, 'proxy_url': None}\u001b[0m\n"
          ]
        }
      ],
      "source": [
        "# run measurements at end node\n",
        "command = f\"DOWNLINK=false EDGE_NAME={edge_name} END_NAME={end_name} NT_DEV={nt_dev} EXP_NAME={exp_name} SERVER_IP={server_ip} CLIENT_IP={client_ip} ITNUM={itnum} SLEEP_DUR={sleep_dur} TRIPM={tripm} INTERVAL={interval}ms INTERVAL_OFFSET={offset}ms LENGTH={length} MULT={mult} DUR={duration}s CL_PORT={cl_port} NT_SLEEP={nt_sleep}ms /tmp/measure-upload.sh > /proc/1/fd/1 2>&1\"\n",
        "result = chi.container.execute(\n",
        "    container_ref=\"end-node\",\n",
        "    command=\"curl -s -X POST -H \\\"Content-Type: application/json\\\" -d '{\\\"cmd\\\": \\\"\" + command + \"\\\"}' http://localhost:50505/\",\n",
        ")\n",
        "logger.info(f\"{result}\")"
      ]
    },
    {
      "cell_type": "code",
      "execution_count": null,
      "metadata": {
        "colab": {
          "base_uri": "https://localhost:8080/"
        },
        "id": "KIAwHd25AdW6",
        "outputId": "81fd1ef6-c180-4347-f4ec-a78d6e4436f3"
      },
      "outputs": [
        {
          "name": "stderr",
          "output_type": "stream",
          "text": [
            "\u001b[32m2023-11-03 15:36:56.135\u001b[0m | \u001b[1mINFO    \u001b[0m | \u001b[36m__main__\u001b[0m:\u001b[36m<module>\u001b[0m:\u001b[36m10\u001b[0m - \u001b[1m{'output': 'Command received and started in the background.\\n', 'exit_code': 0, 'exec_id': None, 'proxy_url': None}\u001b[0m\n"
          ]
        }
      ],
      "source": [
        " # make parquet\n",
        "dev_name = \"endnode01\"\n",
        "trip = \"uplink\"\n",
        "\n",
        "command = f\"python3 /tmp/parquets-from-folders.py /mnt/volume/{exp_name}/results /mnt/volume/{exp_name}/client /mnt/volume/{exp_name}/edge/server /mnt/volume/{exp_name}/networkinfo trip={trip} > /proc/1/fd/1 2>&1\"\n",
        "result = chi.container.execute(\n",
        "    container_ref=\"edge-node\",\n",
        "    command=\"curl -s -X POST -H \\\"Content-Type: application/json\\\" -d '{\\\"cmd\\\": \\\"\" + command + \"\\\"}' http://localhost:50505/\",\n",
        ")\n",
        "logger.info(f\"{result}\")"
      ]
    },
    {
      "cell_type": "code",
      "execution_count": null,
      "metadata": {
        "colab": {
          "base_uri": "https://localhost:8080/"
        },
        "id": "sFeIpb_wAo9D",
        "outputId": "936bb845-0e64-4eec-d667-bd35f4e2b4dc"
      },
      "outputs": [
        {
          "name": "stderr",
          "output_type": "stream",
          "text": [
            "\u001b[32m2023-11-03 15:41:19.388\u001b[0m | \u001b[1mINFO    \u001b[0m | \u001b[36m__main__\u001b[0m:\u001b[36m<module>\u001b[0m:\u001b[36m7\u001b[0m - \u001b[1m{'output': 'Command received and started in the background.\\n', 'exit_code': 0, 'exec_id': None, 'proxy_url': None}\u001b[0m\n"
          ]
        }
      ],
      "source": [
        "# upload parquet files to containers\n",
        "command = \"for f in /mnt/volume/{}/results/*.parquet; do AUTH_SERVER=testbed.expeca.proj.kth.se AUTH_PROJECT_NAME=sdr-test-project AUTH_USERNAME=gourav AUTH_PASSWORD=gouravexpeca python3 /tmp/upload-files.py $f {}; done\".format(exp_name,exp_name)\n",
        "result = chi.container.execute(\n",
        "    container_ref=\"edge-node\",\n",
        "    command=\"curl -s -X POST -H \\\"Content-Type: application/json\\\" -d '{\\\"cmd\\\": \\\"\" + command + \"\\\"}' http://localhost:50505/\",\n",
        ")\n",
        "logger.info(f\"{result}\")"
      ]
    },
    {
      "cell_type": "markdown",
      "source": [
        "### Downlink Measurement"
      ],
      "metadata": {
        "id": "_bS3bBLepSZU"
      }
    },
    {
      "cell_type": "code",
      "execution_count": null,
      "metadata": {
        "id": "h60oq7GAxV2Q"
      },
      "outputs": [],
      "source": [
        "# set session parameters\n",
        "end_name = \"endnode01\"\n",
        "edge_name = \"edge\"\n",
        "nt_dev = \"adv03\"\n",
        "exp_name = \"tstmps-DL\"\n",
        "server_ip = \"172.16.0.40\"\n",
        "client_ip = \"10.70.70.3\"\n",
        "sleep_dur = 60\n",
        "tripm = \"oneway\"\n",
        "total_samples = 1e6\n",
        "interval = 10000 # in us\n",
        "length = 100 # in B\n",
        "mult = 1 # multiple of packets\n",
        "duration = 1667 # in seconds\n",
        "total_session_time = interval # in seconds\n",
        "itnum = 1#math.ceil(total_session_time/duration)\n",
        "cl_port = \"55500\"\n",
        "nt_sleep = \"300\" # in ms"
      ]
    },
    {
      "cell_type": "code",
      "execution_count": null,
      "metadata": {
        "colab": {
          "base_uri": "https://localhost:8080/"
        },
        "id": "muNS92adk64f",
        "outputId": "6b6b0c10-22a0-4163-c308-5f3d3c2432e4"
      },
      "outputs": [
        {
          "name": "stderr",
          "output_type": "stream",
          "text": [
            "\u001b[32m2023-09-04 20:52:39.887\u001b[0m | \u001b[1mINFO    \u001b[0m | \u001b[36m__main__\u001b[0m:\u001b[36m<cell line: 7>\u001b[0m:\u001b[36m7\u001b[0m - \u001b[1m{'output': 'Command received and started in the background.\\n', 'exit_code': 0, 'exec_id': None, 'proxy_url': None}\u001b[0m\n"
          ]
        }
      ],
      "source": [
        " ###### run measurements at edge node #####\n",
        "command = f\"DOWNLINK=true EDGE_NAME={edge_name} END_NAME={end_name} NT_DEV={nt_dev} EXP_NAME={exp_name} SERVER_IP={server_ip} CLIENT_IP={client_ip} ITNUM={itnum} SLEEP_DUR={sleep_dur} TRIPM={tripm} INTERVAL={interval}us LENGTH={length} MULT={mult} DUR={duration}s CL_PORT={cl_port} NT_SLEEP={nt_sleep}ms /tmp/measure-upload.sh > /proc/1/fd/1 2>&1\"\n",
        "result = chi.container.execute(\n",
        "    container_ref=\"edge-node\",\n",
        "    command=\"curl -s -X POST -H \\\"Content-Type: application/json\\\" -d '{\\\"cmd\\\": \\\"\" + command + \"\\\"}' http://localhost:50505/\",\n",
        ")\n",
        "logger.info(f\"{result}\")"
      ]
    },
    {
      "cell_type": "code",
      "execution_count": null,
      "metadata": {
        "colab": {
          "base_uri": "https://localhost:8080/"
        },
        "id": "nIS4ZEu_lHlz",
        "outputId": "81db98fc-d36d-4098-deae-448222dc3fc1"
      },
      "outputs": [
        {
          "name": "stderr",
          "output_type": "stream",
          "text": [
            "\u001b[32m2023-09-05 08:31:14.630\u001b[0m | \u001b[1mINFO    \u001b[0m | \u001b[36m__main__\u001b[0m:\u001b[36m<cell line: 9>\u001b[0m:\u001b[36m9\u001b[0m - \u001b[1m{'output': 'Command received and started in the background.\\n', 'exit_code': 0, 'exec_id': None, 'proxy_url': None}\u001b[0m\n"
          ]
        }
      ],
      "source": [
        "dev_name = \"endnode01\"\n",
        "trip = \"downlink\"\n",
        " # make parquet\n",
        "command = f\"python3 /tmp/parquets-from-folders.py /mnt/volume/{exp_name}/results /mnt/volume/{exp_name}/edge/client /mnt/volume/{exp_name}/{dev_name}/server /mnt/volume/{exp_name}/{dev_name}/networkinfo trip={trip} > /proc/1/fd/1 2>&1\"\n",
        "result = chi.container.execute(\n",
        "    container_ref=\"edge-node\",\n",
        "    command=\"curl -s -X POST -H \\\"Content-Type: application/json\\\" -d '{\\\"cmd\\\": \\\"\" + command + \"\\\"}' http://localhost:50505/\",\n",
        ")\n",
        "logger.info(f\"{result}\")"
      ]
    },
    {
      "cell_type": "code",
      "execution_count": null,
      "metadata": {
        "colab": {
          "base_uri": "https://localhost:8080/"
        },
        "id": "fCa8pL11x8ji",
        "outputId": "0c690266-58b5-4ec3-cc54-ffbe83cf2e64"
      },
      "outputs": [
        {
          "name": "stderr",
          "output_type": "stream",
          "text": [
            "\u001b[32m2023-09-03 18:35:59.316\u001b[0m | \u001b[1mINFO    \u001b[0m | \u001b[36m__main__\u001b[0m:\u001b[36m<cell line: 7>\u001b[0m:\u001b[36m7\u001b[0m - \u001b[1m{'output': 'Command received and started in the background.\\n', 'exit_code': 0, 'exec_id': None, 'proxy_url': None}\u001b[0m\n"
          ]
        }
      ],
      "source": [
        "# upload parquet files to containers\n",
        "command = \"for f in /mnt/volume/{}/results/*.parquet; do AUTH_SERVER=testbed.expeca.proj.kth.se AUTH_PROJECT_NAME=sdr-test-project AUTH_USERNAME=gourav AUTH_PASSWORD=gouravexpeca python3 /tmp/upload-files.py $f {}; done\".format(exp_name,exp_name)\n",
        "result = chi.container.execute(\n",
        "    container_ref=\"edge-node\",\n",
        "    command=\"curl -s -X POST -H \\\"Content-Type: application/json\\\" -d '{\\\"cmd\\\": \\\"\" + command + \"\\\"}' http://localhost:50505/\",\n",
        ")\n",
        "logger.info(f\"{result}\")"
      ]
    },
    {
      "cell_type": "markdown",
      "source": [
        "### Reset Setup"
      ],
      "metadata": {
        "id": "6mUByDjYozWr"
      }
    },
    {
      "cell_type": "code",
      "execution_count": null,
      "metadata": {
        "colab": {
          "base_uri": "https://localhost:8080/"
        },
        "id": "Bbme5W7isiQa",
        "outputId": "30fc75e0-e057-473f-eafe-5da4c4c67e52"
      },
      "outputs": [
        {
          "output_type": "stream",
          "name": "stderr",
          "text": [
            "\u001b[32m2023-11-09 14:50:28.278\u001b[0m | \u001b[1mINFO    \u001b[0m | \u001b[36m__main__\u001b[0m:\u001b[36m<cell line: 12>\u001b[0m:\u001b[36m12\u001b[0m - \u001b[1mstopped and removed all containers\u001b[0m\n",
            "\u001b[32m2023-11-09 14:50:30.732\u001b[0m | \u001b[32m\u001b[1mSUCCESS \u001b[0m | \u001b[36m__main__\u001b[0m:\u001b[36m<cell line: 21>\u001b[0m:\u001b[36m24\u001b[0m - \u001b[32m\u001b[1mremoved all routers from router\u001b[0m\n",
            "\u001b[32m2023-11-09 14:50:31.355\u001b[0m | \u001b[1mINFO    \u001b[0m | \u001b[36m__main__\u001b[0m:\u001b[36m<cell line: 21>\u001b[0m:\u001b[36m28\u001b[0m - \u001b[1mchecking all 3 subnets.\u001b[0m\n",
            "\u001b[32m2023-11-09 14:50:32.846\u001b[0m | \u001b[32m\u001b[1mSUCCESS \u001b[0m | \u001b[36m__main__\u001b[0m:\u001b[36m<cell line: 21>\u001b[0m:\u001b[36m34\u001b[0m - \u001b[32m\u001b[1mremoved all subnets from router\u001b[0m\n",
            "\u001b[32m2023-11-09 14:50:34.006\u001b[0m | \u001b[32m\u001b[1mSUCCESS \u001b[0m | \u001b[36m__main__\u001b[0m:\u001b[36m<cell line: 21>\u001b[0m:\u001b[36m37\u001b[0m - \u001b[32m\u001b[1mdeleted the router\u001b[0m\n",
            "\u001b[32m2023-11-09 14:50:34.402\u001b[0m | \u001b[1mINFO    \u001b[0m | \u001b[36m__main__\u001b[0m:\u001b[36m<cell line: 40>\u001b[0m:\u001b[36m43\u001b[0m - \u001b[1mcould not find edge-net.\u001b[0m\n"
          ]
        }
      ],
      "source": [
        "status = get_container_status(\"edge-node\")\n",
        "if status:\n",
        "    chi.container.destroy_container(\"edge-node\")\n",
        "    wait_until_container_removed(\"edge-node\")\n",
        "\n",
        "\n",
        "status = get_container_status(\"end-node\")\n",
        "if status:\n",
        "    chi.container.destroy_container(\"end-node\")\n",
        "    wait_until_container_removed(\"end-node\")\n",
        "\n",
        "logger.info(f\"stopped and removed all containers\")\n",
        "\n",
        "# find the router again\n",
        "router = None\n",
        "try:\n",
        "    router = chi.network.get_router(\"ep5g-vip-router\")\n",
        "except Exception as ex:\n",
        "    logger.info(f\"could not find ep5g-vip-router.\")\n",
        "\n",
        "if router:\n",
        "    # remove all routes from the router\n",
        "    chi.network.remove_all_routes_from_router(router[\"id\"])\n",
        "    logger.success(f\"removed all routers from router\")\n",
        "\n",
        "    # remove all subnets from the router\n",
        "    subnets = chi.network.list_subnets()\n",
        "    logger.info(f\"checking all {len(subnets)} subnets.\")\n",
        "    for subnet in subnets:\n",
        "        try:\n",
        "            chi.network.remove_subnet_from_router(router[\"id\"],subnet[\"id\"])\n",
        "        except Exception as ex:\n",
        "            pass\n",
        "    logger.success(f\"removed all subnets from router\")\n",
        "\n",
        "    chi.network.delete_router(router[\"id\"])\n",
        "    logger.success(f\"deleted the router\")\n",
        "\n",
        "edgenet = None\n",
        "try:\n",
        "    edgenet = chi.network.get_network(\"edge-net\")\n",
        "except Exception as ex:\n",
        "    logger.info(f\"could not find edge-net.\")\n",
        "\n",
        "if edgenet:\n",
        "    chi.network.delete_network(edgenet[\"id\"])\n",
        "    logger.success(f\"deleted the edge-net\")\n",
        "\n",
        "# remove the leases\n",
        "# unreserve_byid(ep5g_lease[\"id\"])\n",
        "# unreserve_byid(adv_lease[\"id\"])\n",
        "# unreserve_byid(worker_lease[\"id\"])"
      ]
    },
    {
      "cell_type": "code",
      "execution_count": null,
      "metadata": {
        "colab": {
          "base_uri": "https://localhost:8080/"
        },
        "id": "Ejm5twqBejnd",
        "outputId": "4bab7827-8cb0-431a-a498-cd85d1f62aba"
      },
      "outputs": [
        {
          "name": "stderr",
          "output_type": "stream",
          "text": [
            "\u001b[32m2023-11-03 10:41:22.639\u001b[0m | \u001b[1mINFO    \u001b[0m | \u001b[36mchi.expeca\u001b[0m:\u001b[36mremove_lease\u001b[0m:\u001b[36m84\u001b[0m - \u001b[1mRemoving ep5g-lease reservation with id 13454d25-bfcd-41a0-b387-d28cc1d55880.\u001b[0m\n",
            "\u001b[32m2023-11-03 10:41:23.683\u001b[0m | \u001b[1mINFO    \u001b[0m | \u001b[36mchi.expeca\u001b[0m:\u001b[36mwait_until_lease_status\u001b[0m:\u001b[36m62\u001b[0m - \u001b[1mwaiting 120 seconds for ep5g-lease with id 13454d25-bfcd-41a0-b387-d28cc1d55880 to become \"None\"\u001b[0m\n",
            "\u001b[32m2023-11-03 10:41:28.724\u001b[0m | \u001b[1mINFO    \u001b[0m | \u001b[36mchi.expeca\u001b[0m:\u001b[36mwait_until_lease_status\u001b[0m:\u001b[36m69\u001b[0m - \u001b[1mlease ep5g-lease with id 13454d25-bfcd-41a0-b387-d28cc1d55880 is None.\u001b[0m\n",
            "\u001b[32m2023-11-03 10:41:28.725\u001b[0m | \u001b[32m\u001b[1mSUCCESS \u001b[0m | \u001b[36mchi.expeca\u001b[0m:\u001b[36mtry_to_remove\u001b[0m:\u001b[36m95\u001b[0m - \u001b[32m\u001b[1mdone\u001b[0m\n",
            "\u001b[32m2023-11-03 10:41:28.749\u001b[0m | \u001b[1mINFO    \u001b[0m | \u001b[36mchi.expeca\u001b[0m:\u001b[36mremove_lease\u001b[0m:\u001b[36m84\u001b[0m - \u001b[1mRemoving adv-03-lease reservation with id bc3aac29-52cd-4ef7-85d3-5b0dc59c9ff9.\u001b[0m\n",
            "\u001b[32m2023-11-03 10:41:41.714\u001b[0m | \u001b[1mINFO    \u001b[0m | \u001b[36mchi.expeca\u001b[0m:\u001b[36mwait_until_lease_status\u001b[0m:\u001b[36m62\u001b[0m - \u001b[1mwaiting 120 seconds for adv-03-lease with id bc3aac29-52cd-4ef7-85d3-5b0dc59c9ff9 to become \"None\"\u001b[0m\n",
            "\u001b[32m2023-11-03 10:41:46.756\u001b[0m | \u001b[1mINFO    \u001b[0m | \u001b[36mchi.expeca\u001b[0m:\u001b[36mwait_until_lease_status\u001b[0m:\u001b[36m69\u001b[0m - \u001b[1mlease adv-03-lease with id bc3aac29-52cd-4ef7-85d3-5b0dc59c9ff9 is None.\u001b[0m\n",
            "\u001b[32m2023-11-03 10:41:46.757\u001b[0m | \u001b[32m\u001b[1mSUCCESS \u001b[0m | \u001b[36mchi.expeca\u001b[0m:\u001b[36mtry_to_remove\u001b[0m:\u001b[36m95\u001b[0m - \u001b[32m\u001b[1mdone\u001b[0m\n",
            "\u001b[32m2023-11-03 10:41:46.784\u001b[0m | \u001b[1mINFO    \u001b[0m | \u001b[36mchi.expeca\u001b[0m:\u001b[36mremove_lease\u001b[0m:\u001b[36m84\u001b[0m - \u001b[1mRemoving worker-07-lease reservation with id e374c8e6-a5e2-4a72-bbfb-01bd467c3c28.\u001b[0m\n",
            "\u001b[32m2023-11-03 10:41:47.859\u001b[0m | \u001b[1mINFO    \u001b[0m | \u001b[36mchi.expeca\u001b[0m:\u001b[36mwait_until_lease_status\u001b[0m:\u001b[36m62\u001b[0m - \u001b[1mwaiting 120 seconds for worker-07-lease with id e374c8e6-a5e2-4a72-bbfb-01bd467c3c28 to become \"None\"\u001b[0m\n",
            "\u001b[32m2023-11-03 10:41:52.912\u001b[0m | \u001b[1mINFO    \u001b[0m | \u001b[36mchi.expeca\u001b[0m:\u001b[36mwait_until_lease_status\u001b[0m:\u001b[36m69\u001b[0m - \u001b[1mlease worker-07-lease with id e374c8e6-a5e2-4a72-bbfb-01bd467c3c28 is None.\u001b[0m\n",
            "\u001b[32m2023-11-03 10:41:52.913\u001b[0m | \u001b[32m\u001b[1mSUCCESS \u001b[0m | \u001b[36mchi.expeca\u001b[0m:\u001b[36mtry_to_remove\u001b[0m:\u001b[36m95\u001b[0m - \u001b[32m\u001b[1mdone\u001b[0m\n",
            "\u001b[32m2023-11-03 10:41:52.940\u001b[0m | \u001b[1mINFO    \u001b[0m | \u001b[36mchi.expeca\u001b[0m:\u001b[36mremove_lease\u001b[0m:\u001b[36m84\u001b[0m - \u001b[1mRemoving worker-08-lease reservation with id 19517bd5-cd88-4f38-bc36-942891bfd45c.\u001b[0m\n",
            "\u001b[32m2023-11-03 10:41:54.035\u001b[0m | \u001b[1mINFO    \u001b[0m | \u001b[36mchi.expeca\u001b[0m:\u001b[36mwait_until_lease_status\u001b[0m:\u001b[36m62\u001b[0m - \u001b[1mwaiting 120 seconds for worker-08-lease with id 19517bd5-cd88-4f38-bc36-942891bfd45c to become \"None\"\u001b[0m\n",
            "\u001b[32m2023-11-03 10:41:59.073\u001b[0m | \u001b[1mINFO    \u001b[0m | \u001b[36mchi.expeca\u001b[0m:\u001b[36mwait_until_lease_status\u001b[0m:\u001b[36m69\u001b[0m - \u001b[1mlease worker-08-lease with id 19517bd5-cd88-4f38-bc36-942891bfd45c is None.\u001b[0m\n",
            "\u001b[32m2023-11-03 10:41:59.073\u001b[0m | \u001b[32m\u001b[1mSUCCESS \u001b[0m | \u001b[36mchi.expeca\u001b[0m:\u001b[36mtry_to_remove\u001b[0m:\u001b[36m95\u001b[0m - \u001b[32m\u001b[1mdone\u001b[0m\n"
          ]
        }
      ],
      "source": [
        "unreserve_byid(ep5g_lease[\"id\"])\n",
        "unreserve_byid(adv3_lease[\"id\"])\n",
        "unreserve_byid(worker7_lease[\"id\"])\n",
        "unreserve_byid(worker8_lease[\"id\"])\n"
      ]
    },
    {
      "cell_type": "code",
      "execution_count": null,
      "metadata": {
        "id": "aVPqarA0lzAV",
        "outputId": "af23536f-6464-40c8-ad5f-71f1581c21b2",
        "colab": {
          "base_uri": "https://localhost:8080/",
          "height": 212
        }
      },
      "outputs": [
        {
          "output_type": "error",
          "ename": "IndexError",
          "evalue": "ignored",
          "traceback": [
            "\u001b[0;31m---------------------------------------------------------------------------\u001b[0m",
            "\u001b[0;31mIndexError\u001b[0m                                Traceback (most recent call last)",
            "\u001b[0;32m<ipython-input-11-79965d9c48b5>\u001b[0m in \u001b[0;36m<cell line: 1>\u001b[0;34m()\u001b[0m\n\u001b[0;32m----> 1\u001b[0;31m \u001b[0mep5g_lease\u001b[0m \u001b[0;34m=\u001b[0m \u001b[0;34m[\u001b[0m\u001b[0mlease\u001b[0m \u001b[0;32mfor\u001b[0m \u001b[0mlease\u001b[0m \u001b[0;32min\u001b[0m \u001b[0mleaseslist\u001b[0m \u001b[0;32mif\u001b[0m \u001b[0mlease\u001b[0m\u001b[0;34m[\u001b[0m\u001b[0;34m\"name\"\u001b[0m\u001b[0;34m]\u001b[0m\u001b[0;34m==\u001b[0m\u001b[0;34m\"ep5g-lease\"\u001b[0m\u001b[0;34m]\u001b[0m\u001b[0;34m[\u001b[0m\u001b[0;36m0\u001b[0m\u001b[0;34m]\u001b[0m\u001b[0;34m\u001b[0m\u001b[0;34m\u001b[0m\u001b[0m\n\u001b[0m\u001b[1;32m      2\u001b[0m \u001b[0munreserve_byid\u001b[0m\u001b[0;34m(\u001b[0m\u001b[0mep5g_lease\u001b[0m\u001b[0;34m[\u001b[0m\u001b[0;34m\"id\"\u001b[0m\u001b[0;34m]\u001b[0m\u001b[0;34m)\u001b[0m\u001b[0;34m\u001b[0m\u001b[0;34m\u001b[0m\u001b[0m\n\u001b[1;32m      3\u001b[0m \u001b[0mprint\u001b[0m\u001b[0;34m(\u001b[0m\u001b[0mep5g_lease\u001b[0m\u001b[0;34m)\u001b[0m\u001b[0;34m\u001b[0m\u001b[0;34m\u001b[0m\u001b[0m\n",
            "\u001b[0;31mIndexError\u001b[0m: list index out of range"
          ]
        }
      ],
      "source": [
        "ep5g_lease = [lease for lease in leaseslist if lease[\"name\"]==\"ep5g-lease\"][0]\n",
        "unreserve_byid(ep5g_lease[\"id\"])\n",
        "print(ep5g_lease)"
      ]
    }
  ],
  "metadata": {
    "colab": {
      "provenance": [],
      "include_colab_link": true
    },
    "kernelspec": {
      "display_name": "Python 3 (ipykernel)",
      "language": "python",
      "name": "python3"
    },
    "language_info": {
      "codemirror_mode": {
        "name": "ipython",
        "version": 3
      },
      "file_extension": ".py",
      "mimetype": "text/x-python",
      "name": "python",
      "nbconvert_exporter": "python",
      "pygments_lexer": "ipython3",
      "version": "3.9.0"
    }
  },
  "nbformat": 4,
  "nbformat_minor": 0
}