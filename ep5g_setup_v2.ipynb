{
  "cells": [
    {
      "cell_type": "markdown",
      "source": [
        "### Setup"
      ],
      "metadata": {
        "id": "SdIzeJj_pYON"
      }
    },
    {
      "cell_type": "markdown",
      "metadata": {
        "id": "W9YICZf_mJBy"
      },
      "source": [
        "Login to Chameleon and download openrc.sh file from [here](https://testbed.expeca.proj.kth.se/project/api_access/openrc/). Upload it here next to this notebook and continue.\n",
        "\n",
        "In the next cell, we setup the authentication method to be able to use Openstack clients."
      ]
    },
    {
      "cell_type": "code",
      "execution_count": 1,
      "metadata": {
        "id": "D9KpGVY8eTte"
      },
      "outputs": [],
      "source": [
        "import re\n",
        "import os\n",
        "from getpass import getpass"
      ]
    },
    {
      "cell_type": "code",
      "execution_count": 2,
      "metadata": {
        "id": "YhhPvoT4lzAR",
        "outputId": "6e4c9a82-d7e4-4411-ec4d-beb431a3c9eb",
        "colab": {
          "base_uri": "https://localhost:8080/"
        }
      },
      "outputs": [
        {
          "name": "stdout",
          "output_type": "stream",
          "text": [
            "enter your expeca password:··········\n"
          ]
        }
      ],
      "source": [
        "with open('./students-project-fall2023-openrc.sh', 'r') as f:\n",
        "    script_content = f.read()\n",
        "    pattern = r'export\\s+(\\w+)\\s*=\\s*(\"[^\"]+\"|[^\"\\n]+)'\n",
        "    matches = re.findall(pattern, script_content)\n",
        "\n",
        "    for name, value in matches:\n",
        "        os.environ[name] = value.strip('\"')\n",
        "\n",
        "password = getpass('enter your expeca password:')\n",
        "os.environ['OS_PASSWORD'] = password"
      ]
    },
    {
      "cell_type": "markdown",
      "metadata": {
        "id": "5bXlipy4m1bs"
      },
      "source": [
        "\n",
        "\n",
        "```\n",
        "# Als Code formatiert\n",
        "```\n",
        "\n",
        "Install required packages and dependencies. Ignore the warnings."
      ]
    },
    {
      "cell_type": "code",
      "source": [
        "!pip install loguru\n",
        "!pip uninstall -q -y moviepy\n",
        "!pip install -q jedi\n",
        "!pip install -q git+https://github.com/KTH-EXPECA/python-chi"
      ],
      "metadata": {
        "id": "o9vXzxhdl9Tx",
        "outputId": "a539591f-efad-4440-9bee-67c1fec3cc1b",
        "colab": {
          "base_uri": "https://localhost:8080/"
        }
      },
      "execution_count": 3,
      "outputs": [
        {
          "output_type": "stream",
          "name": "stdout",
          "text": [
            "Collecting loguru\n",
            "  Downloading loguru-0.7.2-py3-none-any.whl (62 kB)\n",
            "\u001b[2K     \u001b[90m━━━━━━━━━━━━━━━━━━━━━━━━━━━━━━━━━━━━━━━━\u001b[0m \u001b[32m62.5/62.5 kB\u001b[0m \u001b[31m862.7 kB/s\u001b[0m eta \u001b[36m0:00:00\u001b[0m\n",
            "\u001b[?25hInstalling collected packages: loguru\n",
            "Successfully installed loguru-0.7.2\n",
            "\u001b[2K     \u001b[90m━━━━━━━━━━━━━━━━━━━━━━━━━━━━━━━━━━━━━━━━\u001b[0m \u001b[32m1.6/1.6 MB\u001b[0m \u001b[31m17.7 MB/s\u001b[0m eta \u001b[36m0:00:00\u001b[0m\n",
            "\u001b[?25h  Preparing metadata (setup.py) ... \u001b[?25l\u001b[?25hdone\n",
            "  Preparing metadata (setup.py) ... \u001b[?25l\u001b[?25hdone\n",
            "\u001b[2K     \u001b[90m━━━━━━━━━━━━━━━━━━━━━━━━━━━━━━━━━━━━━━━━\u001b[0m \u001b[32m59.4/59.4 kB\u001b[0m \u001b[31m1.6 MB/s\u001b[0m eta \u001b[36m0:00:00\u001b[0m\n",
            "\u001b[2K     \u001b[90m━━━━━━━━━━━━━━━━━━━━━━━━━━━━━━━━━━━━━━━━\u001b[0m \u001b[32m66.5/66.5 kB\u001b[0m \u001b[31m5.5 MB/s\u001b[0m eta \u001b[36m0:00:00\u001b[0m\n",
            "\u001b[2K     \u001b[90m━━━━━━━━━━━━━━━━━━━━━━━━━━━━━━━━━━━━━━━━\u001b[0m \u001b[32m323.1/323.1 kB\u001b[0m \u001b[31m15.7 MB/s\u001b[0m eta \u001b[36m0:00:00\u001b[0m\n",
            "\u001b[2K     \u001b[90m━━━━━━━━━━━━━━━━━━━━━━━━━━━━━━━━━━━━━━━━\u001b[0m \u001b[32m1.7/1.7 MB\u001b[0m \u001b[31m45.4 MB/s\u001b[0m eta \u001b[36m0:00:00\u001b[0m\n",
            "\u001b[2K     \u001b[90m━━━━━━━━━━━━━━━━━━━━━━━━━━━━━━━━━━━━━━━━\u001b[0m \u001b[32m224.8/224.8 kB\u001b[0m \u001b[31m15.7 MB/s\u001b[0m eta \u001b[36m0:00:00\u001b[0m\n",
            "\u001b[2K     \u001b[90m━━━━━━━━━━━━━━━━━━━━━━━━━━━━━━━━━━━━━━━━\u001b[0m \u001b[32m255.9/255.9 kB\u001b[0m \u001b[31m23.8 MB/s\u001b[0m eta \u001b[36m0:00:00\u001b[0m\n",
            "\u001b[2K     \u001b[90m━━━━━━━━━━━━━━━━━━━━━━━━━━━━━━━━━━━━━━━━\u001b[0m \u001b[32m205.4/205.4 kB\u001b[0m \u001b[31m20.9 MB/s\u001b[0m eta \u001b[36m0:00:00\u001b[0m\n",
            "\u001b[2K     \u001b[90m━━━━━━━━━━━━━━━━━━━━━━━━━━━━━━━━━━━━━━━━\u001b[0m \u001b[32m252.6/252.6 kB\u001b[0m \u001b[31m22.4 MB/s\u001b[0m eta \u001b[36m0:00:00\u001b[0m\n",
            "\u001b[2K     \u001b[90m━━━━━━━━━━━━━━━━━━━━━━━━━━━━━━━━━━━━━━━━\u001b[0m \u001b[32m512.5/512.5 kB\u001b[0m \u001b[31m38.9 MB/s\u001b[0m eta \u001b[36m0:00:00\u001b[0m\n",
            "\u001b[2K     \u001b[90m━━━━━━━━━━━━━━━━━━━━━━━━━━━━━━━━━━━━━━━━\u001b[0m \u001b[32m293.6/293.6 kB\u001b[0m \u001b[31m23.4 MB/s\u001b[0m eta \u001b[36m0:00:00\u001b[0m\n",
            "\u001b[2K     \u001b[90m━━━━━━━━━━━━━━━━━━━━━━━━━━━━━━━━━━━━━━━━\u001b[0m \u001b[32m335.9/335.9 kB\u001b[0m \u001b[31m29.1 MB/s\u001b[0m eta \u001b[36m0:00:00\u001b[0m\n",
            "\u001b[2K     \u001b[90m━━━━━━━━━━━━━━━━━━━━━━━━━━━━━━━━━━━━━━━━\u001b[0m \u001b[32m155.1/155.1 kB\u001b[0m \u001b[31m15.1 MB/s\u001b[0m eta \u001b[36m0:00:00\u001b[0m\n",
            "\u001b[2K     \u001b[90m━━━━━━━━━━━━━━━━━━━━━━━━━━━━━━━━━━━━━━━━\u001b[0m \u001b[32m160.3/160.3 kB\u001b[0m \u001b[31m14.9 MB/s\u001b[0m eta \u001b[36m0:00:00\u001b[0m\n",
            "\u001b[2K     \u001b[90m━━━━━━━━━━━━━━━━━━━━━━━━━━━━━━━━━━━━━━━━\u001b[0m \u001b[32m593.7/593.7 kB\u001b[0m \u001b[31m37.6 MB/s\u001b[0m eta \u001b[36m0:00:00\u001b[0m\n",
            "\u001b[2K     \u001b[90m━━━━━━━━━━━━━━━━━━━━━━━━━━━━━━━━━━━━━━━━\u001b[0m \u001b[32m856.7/856.7 kB\u001b[0m \u001b[31m33.2 MB/s\u001b[0m eta \u001b[36m0:00:00\u001b[0m\n",
            "\u001b[2K     \u001b[90m━━━━━━━━━━━━━━━━━━━━━━━━━━━━━━━━━━━━━━━━\u001b[0m \u001b[32m81.0/81.0 kB\u001b[0m \u001b[31m7.8 MB/s\u001b[0m eta \u001b[36m0:00:00\u001b[0m\n",
            "\u001b[2K     \u001b[90m━━━━━━━━━━━━━━━━━━━━━━━━━━━━━━━━━━━━━━━━\u001b[0m \u001b[32m53.9/53.9 kB\u001b[0m \u001b[31m5.7 MB/s\u001b[0m eta \u001b[36m0:00:00\u001b[0m\n",
            "\u001b[2K     \u001b[90m━━━━━━━━━━━━━━━━━━━━━━━━━━━━━━━━━━━━━━━━\u001b[0m \u001b[32m49.6/49.6 kB\u001b[0m \u001b[31m5.3 MB/s\u001b[0m eta \u001b[36m0:00:00\u001b[0m\n",
            "\u001b[2K     \u001b[90m━━━━━━━━━━━━━━━━━━━━━━━━━━━━━━━━━━━━━━━━\u001b[0m \u001b[32m52.2/52.2 kB\u001b[0m \u001b[31m3.5 MB/s\u001b[0m eta \u001b[36m0:00:00\u001b[0m\n",
            "\u001b[?25h  Preparing metadata (setup.py) ... \u001b[?25l\u001b[?25hdone\n",
            "\u001b[2K     \u001b[90m━━━━━━━━━━━━━━━━━━━━━━━━━━━━━━━━━━━━━━━━\u001b[0m \u001b[32m46.8/46.8 kB\u001b[0m \u001b[31m4.2 MB/s\u001b[0m eta \u001b[36m0:00:00\u001b[0m\n",
            "\u001b[2K     \u001b[90m━━━━━━━━━━━━━━━━━━━━━━━━━━━━━━━━━━━━━━━━\u001b[0m \u001b[32m76.4/76.4 kB\u001b[0m \u001b[31m7.0 MB/s\u001b[0m eta \u001b[36m0:00:00\u001b[0m\n",
            "\u001b[2K     \u001b[90m━━━━━━━━━━━━━━━━━━━━━━━━━━━━━━━━━━━━━━━━\u001b[0m \u001b[32m101.2/101.2 kB\u001b[0m \u001b[31m7.2 MB/s\u001b[0m eta \u001b[36m0:00:00\u001b[0m\n",
            "\u001b[2K     \u001b[90m━━━━━━━━━━━━━━━━━━━━━━━━━━━━━━━━━━━━━━━━\u001b[0m \u001b[32m89.4/89.4 kB\u001b[0m \u001b[31m5.2 MB/s\u001b[0m eta \u001b[36m0:00:00\u001b[0m\n",
            "\u001b[2K     \u001b[90m━━━━━━━━━━━━━━━━━━━━━━━━━━━━━━━━━━━━━━━━\u001b[0m \u001b[32m128.6/128.6 kB\u001b[0m \u001b[31m13.4 MB/s\u001b[0m eta \u001b[36m0:00:00\u001b[0m\n",
            "\u001b[2K     \u001b[90m━━━━━━━━━━━━━━━━━━━━━━━━━━━━━━━━━━━━━━━━\u001b[0m \u001b[32m397.9/397.9 kB\u001b[0m \u001b[31m32.3 MB/s\u001b[0m eta \u001b[36m0:00:00\u001b[0m\n",
            "\u001b[2K     \u001b[90m━━━━━━━━━━━━━━━━━━━━━━━━━━━━━━━━━━━━━━━━\u001b[0m \u001b[32m137.9/137.9 kB\u001b[0m \u001b[31m12.9 MB/s\u001b[0m eta \u001b[36m0:00:00\u001b[0m\n",
            "\u001b[2K     \u001b[90m━━━━━━━━━━━━━━━━━━━━━━━━━━━━━━━━━━━━━━━━\u001b[0m \u001b[32m2.2/2.2 MB\u001b[0m \u001b[31m72.0 MB/s\u001b[0m eta \u001b[36m0:00:00\u001b[0m\n",
            "\u001b[2K     \u001b[90m━━━━━━━━━━━━━━━━━━━━━━━━━━━━━━━━━━━━━━━━\u001b[0m \u001b[32m148.1/148.1 kB\u001b[0m \u001b[31m15.9 MB/s\u001b[0m eta \u001b[36m0:00:00\u001b[0m\n",
            "\u001b[2K     \u001b[90m━━━━━━━━━━━━━━━━━━━━━━━━━━━━━━━━━━━━━━━━\u001b[0m \u001b[32m1.1/1.1 MB\u001b[0m \u001b[31m57.6 MB/s\u001b[0m eta \u001b[36m0:00:00\u001b[0m\n",
            "\u001b[2K     \u001b[90m━━━━━━━━━━━━━━━━━━━━━━━━━━━━━━━━━━━━━━━━\u001b[0m \u001b[32m147.2/147.2 kB\u001b[0m \u001b[31m14.5 MB/s\u001b[0m eta \u001b[36m0:00:00\u001b[0m\n",
            "\u001b[2K     \u001b[90m━━━━━━━━━━━━━━━━━━━━━━━━━━━━━━━━━━━━━━━━\u001b[0m \u001b[32m61.0/61.0 kB\u001b[0m \u001b[31m6.4 MB/s\u001b[0m eta \u001b[36m0:00:00\u001b[0m\n",
            "\u001b[?25h  Preparing metadata (setup.py) ... \u001b[?25l\u001b[?25hdone\n",
            "\u001b[2K     \u001b[90m━━━━━━━━━━━━━━━━━━━━━━━━━━━━━━━━━━━━━━━━\u001b[0m \u001b[32m341.8/341.8 kB\u001b[0m \u001b[31m32.0 MB/s\u001b[0m eta \u001b[36m0:00:00\u001b[0m\n",
            "\u001b[?25h  Building wheel for python-chi (setup.py) ... \u001b[?25l\u001b[?25hdone\n",
            "  Building wheel for python-blazarclient (setup.py) ... \u001b[?25l\u001b[?25hdone\n",
            "  Building wheel for netifaces (setup.py) ... \u001b[?25l\u001b[?25hdone\n",
            "  Building wheel for pyinotify (setup.py) ... \u001b[?25l\u001b[?25hdone\n"
          ]
        }
      ]
    },
    {
      "cell_type": "markdown",
      "metadata": {
        "id": "VkDR3RsFpKSv"
      },
      "source": [
        "Import packages"
      ]
    },
    {
      "cell_type": "code",
      "execution_count": 4,
      "metadata": {
        "id": "gWqW34Pc7YJp"
      },
      "outputs": [],
      "source": [
        "import json\n",
        "import time\n",
        "from loguru import logger\n",
        "import chi.network, chi.container, chi.network\n",
        "from chi.expeca import reserve, list_reservations, unreserve_byid, get_container_status, wait_until_container_removed"
      ]
    },
    {
      "cell_type": "code",
      "execution_count": 5,
      "metadata": {
        "colab": {
          "base_uri": "https://localhost:8080/"
        },
        "id": "yUj2luPVdpY3",
        "outputId": "89994f70-f4d1-4a52-ba04-667f5f2e6289"
      },
      "outputs": [
        {
          "output_type": "stream",
          "name": "stdout",
          "text": [
            "[\n",
            "    {\n",
            "        \"name\": \"worker-07-lease\",\n",
            "        \"id\": \"6e8d7ca8-4488-4712-a1b8-a3eb205264b9\",\n",
            "        \"reservation_id\": \"38c7f405-ad3a-4f5d-a232-72338301d3d9\",\n",
            "        \"status\": \"ACTIVE\",\n",
            "        \"end_date\": \"2023-11-19T10:16:00.000000\"\n",
            "    },\n",
            "    {\n",
            "        \"name\": \"worker-08-lease\",\n",
            "        \"id\": \"7a10d77b-6f58-418e-8545-e91dc708a7f0\",\n",
            "        \"reservation_id\": \"dda72c1c-d5be-48b2-a916-c42f83a94019\",\n",
            "        \"status\": \"ACTIVE\",\n",
            "        \"end_date\": \"2023-11-19T10:17:00.000000\"\n",
            "    },\n",
            "    {\n",
            "        \"name\": \"ep5g-lease\",\n",
            "        \"id\": \"80375624-08ad-4542-9e10-43368dcce2ac\",\n",
            "        \"reservation_id\": \"5986aa6b-b034-4728-b526-294eb2e88ee4\",\n",
            "        \"status\": \"ACTIVE\",\n",
            "        \"end_date\": \"2023-11-19T10:14:00.000000\"\n",
            "    },\n",
            "    {\n",
            "        \"name\": \"adv-03-lease\",\n",
            "        \"id\": \"efb168f7-aaf4-4569-964e-97114f73a49c\",\n",
            "        \"reservation_id\": \"8da6e1b5-6d8a-4898-9ac3-6063999f6cb9\",\n",
            "        \"status\": \"ACTIVE\",\n",
            "        \"end_date\": \"2023-11-19T10:15:00.000000\"\n",
            "    }\n",
            "]\n"
          ]
        }
      ],
      "source": [
        "leaseslist = list_reservations(brief=True)\n",
        "print(json.dumps(leaseslist,indent=4))"
      ]
    },
    {
      "cell_type": "markdown",
      "metadata": {
        "id": "Rd4EsDjdqRFU"
      },
      "source": [
        "In the next cell, we reserve the required equipment and resources to form an end to end experiment setup. We reserve EP5G network, one Advantech router and one worker to run the workloads."
      ]
    },
    {
      "cell_type": "code",
      "execution_count": 6,
      "metadata": {
        "colab": {
          "base_uri": "https://localhost:8080/"
        },
        "id": "1pauMnGZ8KSP",
        "outputId": "75a2e131-7932-42a6-9eb5-70e5ce57ead1"
      },
      "outputs": [
        {
          "output_type": "stream",
          "name": "stderr",
          "text": [
            "\u001b[32m2023-11-12 10:14:13.543\u001b[0m | \u001b[1mINFO    \u001b[0m | \u001b[36mchi.expeca\u001b[0m:\u001b[36mreserve\u001b[0m:\u001b[36m167\u001b[0m - \u001b[1mreserving ep5g\u001b[0m\n",
            "\u001b[32m2023-11-12 10:14:16.070\u001b[0m | \u001b[1mINFO    \u001b[0m | \u001b[36mchi.expeca\u001b[0m:\u001b[36mwait_until_lease_status\u001b[0m:\u001b[36m62\u001b[0m - \u001b[1mwaiting 120 seconds for ep5g-lease with id 80375624-08ad-4542-9e10-43368dcce2ac to become \"ACTIVE\"\u001b[0m\n",
            "\u001b[32m2023-11-12 10:14:21.236\u001b[0m | \u001b[1mINFO    \u001b[0m | \u001b[36mchi.expeca\u001b[0m:\u001b[36mwait_until_lease_status\u001b[0m:\u001b[36m69\u001b[0m - \u001b[1mlease ep5g-lease with id 80375624-08ad-4542-9e10-43368dcce2ac is PENDING.\u001b[0m\n",
            "\u001b[32m2023-11-12 10:14:26.403\u001b[0m | \u001b[1mINFO    \u001b[0m | \u001b[36mchi.expeca\u001b[0m:\u001b[36mwait_until_lease_status\u001b[0m:\u001b[36m69\u001b[0m - \u001b[1mlease ep5g-lease with id 80375624-08ad-4542-9e10-43368dcce2ac is PENDING.\u001b[0m\n",
            "\u001b[32m2023-11-12 10:14:31.564\u001b[0m | \u001b[1mINFO    \u001b[0m | \u001b[36mchi.expeca\u001b[0m:\u001b[36mwait_until_lease_status\u001b[0m:\u001b[36m69\u001b[0m - \u001b[1mlease ep5g-lease with id 80375624-08ad-4542-9e10-43368dcce2ac is PENDING.\u001b[0m\n",
            "\u001b[32m2023-11-12 10:14:36.732\u001b[0m | \u001b[1mINFO    \u001b[0m | \u001b[36mchi.expeca\u001b[0m:\u001b[36mwait_until_lease_status\u001b[0m:\u001b[36m69\u001b[0m - \u001b[1mlease ep5g-lease with id 80375624-08ad-4542-9e10-43368dcce2ac is PENDING.\u001b[0m\n",
            "\u001b[32m2023-11-12 10:14:41.897\u001b[0m | \u001b[1mINFO    \u001b[0m | \u001b[36mchi.expeca\u001b[0m:\u001b[36mwait_until_lease_status\u001b[0m:\u001b[36m69\u001b[0m - \u001b[1mlease ep5g-lease with id 80375624-08ad-4542-9e10-43368dcce2ac is PENDING.\u001b[0m\n",
            "\u001b[32m2023-11-12 10:14:47.067\u001b[0m | \u001b[1mINFO    \u001b[0m | \u001b[36mchi.expeca\u001b[0m:\u001b[36mwait_until_lease_status\u001b[0m:\u001b[36m69\u001b[0m - \u001b[1mlease ep5g-lease with id 80375624-08ad-4542-9e10-43368dcce2ac is PENDING.\u001b[0m\n",
            "\u001b[32m2023-11-12 10:14:52.219\u001b[0m | \u001b[1mINFO    \u001b[0m | \u001b[36mchi.expeca\u001b[0m:\u001b[36mwait_until_lease_status\u001b[0m:\u001b[36m69\u001b[0m - \u001b[1mlease ep5g-lease with id 80375624-08ad-4542-9e10-43368dcce2ac is PENDING.\u001b[0m\n",
            "\u001b[32m2023-11-12 10:14:57.392\u001b[0m | \u001b[1mINFO    \u001b[0m | \u001b[36mchi.expeca\u001b[0m:\u001b[36mwait_until_lease_status\u001b[0m:\u001b[36m69\u001b[0m - \u001b[1mlease ep5g-lease with id 80375624-08ad-4542-9e10-43368dcce2ac is PENDING.\u001b[0m\n",
            "\u001b[32m2023-11-12 10:15:02.557\u001b[0m | \u001b[1mINFO    \u001b[0m | \u001b[36mchi.expeca\u001b[0m:\u001b[36mwait_until_lease_status\u001b[0m:\u001b[36m69\u001b[0m - \u001b[1mlease ep5g-lease with id 80375624-08ad-4542-9e10-43368dcce2ac is PENDING.\u001b[0m\n",
            "\u001b[32m2023-11-12 10:15:07.731\u001b[0m | \u001b[1mINFO    \u001b[0m | \u001b[36mchi.expeca\u001b[0m:\u001b[36mwait_until_lease_status\u001b[0m:\u001b[36m69\u001b[0m - \u001b[1mlease ep5g-lease with id 80375624-08ad-4542-9e10-43368dcce2ac is PENDING.\u001b[0m\n",
            "\u001b[32m2023-11-12 10:15:12.896\u001b[0m | \u001b[1mINFO    \u001b[0m | \u001b[36mchi.expeca\u001b[0m:\u001b[36mwait_until_lease_status\u001b[0m:\u001b[36m69\u001b[0m - \u001b[1mlease ep5g-lease with id 80375624-08ad-4542-9e10-43368dcce2ac is STARTING.\u001b[0m\n",
            "\u001b[32m2023-11-12 10:15:18.078\u001b[0m | \u001b[1mINFO    \u001b[0m | \u001b[36mchi.expeca\u001b[0m:\u001b[36mwait_until_lease_status\u001b[0m:\u001b[36m69\u001b[0m - \u001b[1mlease ep5g-lease with id 80375624-08ad-4542-9e10-43368dcce2ac is STARTING.\u001b[0m\n",
            "\u001b[32m2023-11-12 10:15:23.246\u001b[0m | \u001b[1mINFO    \u001b[0m | \u001b[36mchi.expeca\u001b[0m:\u001b[36mwait_until_lease_status\u001b[0m:\u001b[36m69\u001b[0m - \u001b[1mlease ep5g-lease with id 80375624-08ad-4542-9e10-43368dcce2ac is STARTING.\u001b[0m\n",
            "\u001b[32m2023-11-12 10:15:28.403\u001b[0m | \u001b[1mINFO    \u001b[0m | \u001b[36mchi.expeca\u001b[0m:\u001b[36mwait_until_lease_status\u001b[0m:\u001b[36m69\u001b[0m - \u001b[1mlease ep5g-lease with id 80375624-08ad-4542-9e10-43368dcce2ac is STARTING.\u001b[0m\n",
            "\u001b[32m2023-11-12 10:15:33.570\u001b[0m | \u001b[1mINFO    \u001b[0m | \u001b[36mchi.expeca\u001b[0m:\u001b[36mwait_until_lease_status\u001b[0m:\u001b[36m69\u001b[0m - \u001b[1mlease ep5g-lease with id 80375624-08ad-4542-9e10-43368dcce2ac is ACTIVE.\u001b[0m\n",
            "\u001b[32m2023-11-12 10:15:33.574\u001b[0m | \u001b[32m\u001b[1mSUCCESS \u001b[0m | \u001b[36mchi.expeca\u001b[0m:\u001b[36mtry_to_create_lease\u001b[0m:\u001b[36m209\u001b[0m - \u001b[32m\u001b[1mdone\u001b[0m\n",
            "\u001b[32m2023-11-12 10:15:33.580\u001b[0m | \u001b[1mINFO    \u001b[0m | \u001b[36mchi.expeca\u001b[0m:\u001b[36mreserve\u001b[0m:\u001b[36m167\u001b[0m - \u001b[1mreserving adv-03\u001b[0m\n",
            "\u001b[32m2023-11-12 10:15:35.897\u001b[0m | \u001b[1mINFO    \u001b[0m | \u001b[36mchi.expeca\u001b[0m:\u001b[36mwait_until_lease_status\u001b[0m:\u001b[36m62\u001b[0m - \u001b[1mwaiting 120 seconds for adv-03-lease with id efb168f7-aaf4-4569-964e-97114f73a49c to become \"ACTIVE\"\u001b[0m\n",
            "\u001b[32m2023-11-12 10:15:41.068\u001b[0m | \u001b[1mINFO    \u001b[0m | \u001b[36mchi.expeca\u001b[0m:\u001b[36mwait_until_lease_status\u001b[0m:\u001b[36m69\u001b[0m - \u001b[1mlease adv-03-lease with id efb168f7-aaf4-4569-964e-97114f73a49c is PENDING.\u001b[0m\n",
            "\u001b[32m2023-11-12 10:15:46.234\u001b[0m | \u001b[1mINFO    \u001b[0m | \u001b[36mchi.expeca\u001b[0m:\u001b[36mwait_until_lease_status\u001b[0m:\u001b[36m69\u001b[0m - \u001b[1mlease adv-03-lease with id efb168f7-aaf4-4569-964e-97114f73a49c is PENDING.\u001b[0m\n",
            "\u001b[32m2023-11-12 10:15:51.411\u001b[0m | \u001b[1mINFO    \u001b[0m | \u001b[36mchi.expeca\u001b[0m:\u001b[36mwait_until_lease_status\u001b[0m:\u001b[36m69\u001b[0m - \u001b[1mlease adv-03-lease with id efb168f7-aaf4-4569-964e-97114f73a49c is PENDING.\u001b[0m\n",
            "\u001b[32m2023-11-12 10:15:56.572\u001b[0m | \u001b[1mINFO    \u001b[0m | \u001b[36mchi.expeca\u001b[0m:\u001b[36mwait_until_lease_status\u001b[0m:\u001b[36m69\u001b[0m - \u001b[1mlease adv-03-lease with id efb168f7-aaf4-4569-964e-97114f73a49c is PENDING.\u001b[0m\n",
            "\u001b[32m2023-11-12 10:16:01.738\u001b[0m | \u001b[1mINFO    \u001b[0m | \u001b[36mchi.expeca\u001b[0m:\u001b[36mwait_until_lease_status\u001b[0m:\u001b[36m69\u001b[0m - \u001b[1mlease adv-03-lease with id efb168f7-aaf4-4569-964e-97114f73a49c is STARTING.\u001b[0m\n",
            "\u001b[32m2023-11-12 10:16:06.897\u001b[0m | \u001b[1mINFO    \u001b[0m | \u001b[36mchi.expeca\u001b[0m:\u001b[36mwait_until_lease_status\u001b[0m:\u001b[36m69\u001b[0m - \u001b[1mlease adv-03-lease with id efb168f7-aaf4-4569-964e-97114f73a49c is STARTING.\u001b[0m\n",
            "\u001b[32m2023-11-12 10:16:12.067\u001b[0m | \u001b[1mINFO    \u001b[0m | \u001b[36mchi.expeca\u001b[0m:\u001b[36mwait_until_lease_status\u001b[0m:\u001b[36m69\u001b[0m - \u001b[1mlease adv-03-lease with id efb168f7-aaf4-4569-964e-97114f73a49c is STARTING.\u001b[0m\n",
            "\u001b[32m2023-11-12 10:16:17.232\u001b[0m | \u001b[1mINFO    \u001b[0m | \u001b[36mchi.expeca\u001b[0m:\u001b[36mwait_until_lease_status\u001b[0m:\u001b[36m69\u001b[0m - \u001b[1mlease adv-03-lease with id efb168f7-aaf4-4569-964e-97114f73a49c is ACTIVE.\u001b[0m\n",
            "\u001b[32m2023-11-12 10:16:17.234\u001b[0m | \u001b[32m\u001b[1mSUCCESS \u001b[0m | \u001b[36mchi.expeca\u001b[0m:\u001b[36mtry_to_create_lease\u001b[0m:\u001b[36m209\u001b[0m - \u001b[32m\u001b[1mdone\u001b[0m\n",
            "\u001b[32m2023-11-12 10:16:17.237\u001b[0m | \u001b[1mINFO    \u001b[0m | \u001b[36mchi.expeca\u001b[0m:\u001b[36mreserve\u001b[0m:\u001b[36m167\u001b[0m - \u001b[1mreserving worker-07\u001b[0m\n",
            "\u001b[32m2023-11-12 10:16:19.494\u001b[0m | \u001b[1mINFO    \u001b[0m | \u001b[36mchi.expeca\u001b[0m:\u001b[36mwait_until_lease_status\u001b[0m:\u001b[36m62\u001b[0m - \u001b[1mwaiting 120 seconds for worker-07-lease with id 6e8d7ca8-4488-4712-a1b8-a3eb205264b9 to become \"ACTIVE\"\u001b[0m\n",
            "\u001b[32m2023-11-12 10:16:24.674\u001b[0m | \u001b[1mINFO    \u001b[0m | \u001b[36mchi.expeca\u001b[0m:\u001b[36mwait_until_lease_status\u001b[0m:\u001b[36m69\u001b[0m - \u001b[1mlease worker-07-lease with id 6e8d7ca8-4488-4712-a1b8-a3eb205264b9 is PENDING.\u001b[0m\n",
            "\u001b[32m2023-11-12 10:16:29.836\u001b[0m | \u001b[1mINFO    \u001b[0m | \u001b[36mchi.expeca\u001b[0m:\u001b[36mwait_until_lease_status\u001b[0m:\u001b[36m69\u001b[0m - \u001b[1mlease worker-07-lease with id 6e8d7ca8-4488-4712-a1b8-a3eb205264b9 is PENDING.\u001b[0m\n",
            "\u001b[32m2023-11-12 10:16:35.025\u001b[0m | \u001b[1mINFO    \u001b[0m | \u001b[36mchi.expeca\u001b[0m:\u001b[36mwait_until_lease_status\u001b[0m:\u001b[36m69\u001b[0m - \u001b[1mlease worker-07-lease with id 6e8d7ca8-4488-4712-a1b8-a3eb205264b9 is PENDING.\u001b[0m\n",
            "\u001b[32m2023-11-12 10:16:40.177\u001b[0m | \u001b[1mINFO    \u001b[0m | \u001b[36mchi.expeca\u001b[0m:\u001b[36mwait_until_lease_status\u001b[0m:\u001b[36m69\u001b[0m - \u001b[1mlease worker-07-lease with id 6e8d7ca8-4488-4712-a1b8-a3eb205264b9 is PENDING.\u001b[0m\n",
            "\u001b[32m2023-11-12 10:16:45.361\u001b[0m | \u001b[1mINFO    \u001b[0m | \u001b[36mchi.expeca\u001b[0m:\u001b[36mwait_until_lease_status\u001b[0m:\u001b[36m69\u001b[0m - \u001b[1mlease worker-07-lease with id 6e8d7ca8-4488-4712-a1b8-a3eb205264b9 is PENDING.\u001b[0m\n",
            "\u001b[32m2023-11-12 10:16:50.530\u001b[0m | \u001b[1mINFO    \u001b[0m | \u001b[36mchi.expeca\u001b[0m:\u001b[36mwait_until_lease_status\u001b[0m:\u001b[36m69\u001b[0m - \u001b[1mlease worker-07-lease with id 6e8d7ca8-4488-4712-a1b8-a3eb205264b9 is PENDING.\u001b[0m\n",
            "\u001b[32m2023-11-12 10:16:55.709\u001b[0m | \u001b[1mINFO    \u001b[0m | \u001b[36mchi.expeca\u001b[0m:\u001b[36mwait_until_lease_status\u001b[0m:\u001b[36m69\u001b[0m - \u001b[1mlease worker-07-lease with id 6e8d7ca8-4488-4712-a1b8-a3eb205264b9 is PENDING.\u001b[0m\n",
            "\u001b[32m2023-11-12 10:17:00.863\u001b[0m | \u001b[1mINFO    \u001b[0m | \u001b[36mchi.expeca\u001b[0m:\u001b[36mwait_until_lease_status\u001b[0m:\u001b[36m69\u001b[0m - \u001b[1mlease worker-07-lease with id 6e8d7ca8-4488-4712-a1b8-a3eb205264b9 is PENDING.\u001b[0m\n",
            "\u001b[32m2023-11-12 10:17:06.035\u001b[0m | \u001b[1mINFO    \u001b[0m | \u001b[36mchi.expeca\u001b[0m:\u001b[36mwait_until_lease_status\u001b[0m:\u001b[36m69\u001b[0m - \u001b[1mlease worker-07-lease with id 6e8d7ca8-4488-4712-a1b8-a3eb205264b9 is ACTIVE.\u001b[0m\n",
            "\u001b[32m2023-11-12 10:17:06.037\u001b[0m | \u001b[32m\u001b[1mSUCCESS \u001b[0m | \u001b[36mchi.expeca\u001b[0m:\u001b[36mtry_to_create_lease\u001b[0m:\u001b[36m209\u001b[0m - \u001b[32m\u001b[1mdone\u001b[0m\n",
            "\u001b[32m2023-11-12 10:17:06.039\u001b[0m | \u001b[1mINFO    \u001b[0m | \u001b[36mchi.expeca\u001b[0m:\u001b[36mreserve\u001b[0m:\u001b[36m167\u001b[0m - \u001b[1mreserving worker-08\u001b[0m\n",
            "\u001b[32m2023-11-12 10:17:08.552\u001b[0m | \u001b[1mINFO    \u001b[0m | \u001b[36mchi.expeca\u001b[0m:\u001b[36mwait_until_lease_status\u001b[0m:\u001b[36m62\u001b[0m - \u001b[1mwaiting 120 seconds for worker-08-lease with id 7a10d77b-6f58-418e-8545-e91dc708a7f0 to become \"ACTIVE\"\u001b[0m\n",
            "\u001b[32m2023-11-12 10:17:13.721\u001b[0m | \u001b[1mINFO    \u001b[0m | \u001b[36mchi.expeca\u001b[0m:\u001b[36mwait_until_lease_status\u001b[0m:\u001b[36m69\u001b[0m - \u001b[1mlease worker-08-lease with id 7a10d77b-6f58-418e-8545-e91dc708a7f0 is PENDING.\u001b[0m\n",
            "\u001b[32m2023-11-12 10:17:18.896\u001b[0m | \u001b[1mINFO    \u001b[0m | \u001b[36mchi.expeca\u001b[0m:\u001b[36mwait_until_lease_status\u001b[0m:\u001b[36m69\u001b[0m - \u001b[1mlease worker-08-lease with id 7a10d77b-6f58-418e-8545-e91dc708a7f0 is PENDING.\u001b[0m\n",
            "\u001b[32m2023-11-12 10:17:24.067\u001b[0m | \u001b[1mINFO    \u001b[0m | \u001b[36mchi.expeca\u001b[0m:\u001b[36mwait_until_lease_status\u001b[0m:\u001b[36m69\u001b[0m - \u001b[1mlease worker-08-lease with id 7a10d77b-6f58-418e-8545-e91dc708a7f0 is PENDING.\u001b[0m\n",
            "\u001b[32m2023-11-12 10:17:29.248\u001b[0m | \u001b[1mINFO    \u001b[0m | \u001b[36mchi.expeca\u001b[0m:\u001b[36mwait_until_lease_status\u001b[0m:\u001b[36m69\u001b[0m - \u001b[1mlease worker-08-lease with id 7a10d77b-6f58-418e-8545-e91dc708a7f0 is PENDING.\u001b[0m\n",
            "\u001b[32m2023-11-12 10:17:34.417\u001b[0m | \u001b[1mINFO    \u001b[0m | \u001b[36mchi.expeca\u001b[0m:\u001b[36mwait_until_lease_status\u001b[0m:\u001b[36m69\u001b[0m - \u001b[1mlease worker-08-lease with id 7a10d77b-6f58-418e-8545-e91dc708a7f0 is PENDING.\u001b[0m\n",
            "\u001b[32m2023-11-12 10:17:39.591\u001b[0m | \u001b[1mINFO    \u001b[0m | \u001b[36mchi.expeca\u001b[0m:\u001b[36mwait_until_lease_status\u001b[0m:\u001b[36m69\u001b[0m - \u001b[1mlease worker-08-lease with id 7a10d77b-6f58-418e-8545-e91dc708a7f0 is PENDING.\u001b[0m\n",
            "\u001b[32m2023-11-12 10:17:44.762\u001b[0m | \u001b[1mINFO    \u001b[0m | \u001b[36mchi.expeca\u001b[0m:\u001b[36mwait_until_lease_status\u001b[0m:\u001b[36m69\u001b[0m - \u001b[1mlease worker-08-lease with id 7a10d77b-6f58-418e-8545-e91dc708a7f0 is PENDING.\u001b[0m\n",
            "\u001b[32m2023-11-12 10:17:49.945\u001b[0m | \u001b[1mINFO    \u001b[0m | \u001b[36mchi.expeca\u001b[0m:\u001b[36mwait_until_lease_status\u001b[0m:\u001b[36m69\u001b[0m - \u001b[1mlease worker-08-lease with id 7a10d77b-6f58-418e-8545-e91dc708a7f0 is PENDING.\u001b[0m\n",
            "\u001b[32m2023-11-12 10:17:55.114\u001b[0m | \u001b[1mINFO    \u001b[0m | \u001b[36mchi.expeca\u001b[0m:\u001b[36mwait_until_lease_status\u001b[0m:\u001b[36m69\u001b[0m - \u001b[1mlease worker-08-lease with id 7a10d77b-6f58-418e-8545-e91dc708a7f0 is PENDING.\u001b[0m\n",
            "\u001b[32m2023-11-12 10:18:00.304\u001b[0m | \u001b[1mINFO    \u001b[0m | \u001b[36mchi.expeca\u001b[0m:\u001b[36mwait_until_lease_status\u001b[0m:\u001b[36m69\u001b[0m - \u001b[1mlease worker-08-lease with id 7a10d77b-6f58-418e-8545-e91dc708a7f0 is PENDING.\u001b[0m\n",
            "\u001b[32m2023-11-12 10:18:05.467\u001b[0m | \u001b[1mINFO    \u001b[0m | \u001b[36mchi.expeca\u001b[0m:\u001b[36mwait_until_lease_status\u001b[0m:\u001b[36m69\u001b[0m - \u001b[1mlease worker-08-lease with id 7a10d77b-6f58-418e-8545-e91dc708a7f0 is ACTIVE.\u001b[0m\n",
            "\u001b[32m2023-11-12 10:18:05.469\u001b[0m | \u001b[32m\u001b[1mSUCCESS \u001b[0m | \u001b[36mchi.expeca\u001b[0m:\u001b[36mtry_to_create_lease\u001b[0m:\u001b[36m209\u001b[0m - \u001b[32m\u001b[1mdone\u001b[0m\n"
          ]
        },
        {
          "output_type": "stream",
          "name": "stdout",
          "text": [
            "[\n",
            "    {\n",
            "        \"name\": \"worker-07-lease\",\n",
            "        \"id\": \"6e8d7ca8-4488-4712-a1b8-a3eb205264b9\",\n",
            "        \"reservation_id\": \"38c7f405-ad3a-4f5d-a232-72338301d3d9\",\n",
            "        \"status\": \"ACTIVE\",\n",
            "        \"end_date\": \"2023-11-19T10:16:00.000000\"\n",
            "    },\n",
            "    {\n",
            "        \"name\": \"worker-08-lease\",\n",
            "        \"id\": \"7a10d77b-6f58-418e-8545-e91dc708a7f0\",\n",
            "        \"reservation_id\": \"dda72c1c-d5be-48b2-a916-c42f83a94019\",\n",
            "        \"status\": \"ACTIVE\",\n",
            "        \"end_date\": \"2023-11-19T10:17:00.000000\"\n",
            "    },\n",
            "    {\n",
            "        \"name\": \"ep5g-lease\",\n",
            "        \"id\": \"80375624-08ad-4542-9e10-43368dcce2ac\",\n",
            "        \"reservation_id\": \"5986aa6b-b034-4728-b526-294eb2e88ee4\",\n",
            "        \"status\": \"ACTIVE\",\n",
            "        \"end_date\": \"2023-11-19T10:14:00.000000\"\n",
            "    },\n",
            "    {\n",
            "        \"name\": \"adv-03-lease\",\n",
            "        \"id\": \"efb168f7-aaf4-4569-964e-97114f73a49c\",\n",
            "        \"reservation_id\": \"8da6e1b5-6d8a-4898-9ac3-6063999f6cb9\",\n",
            "        \"status\": \"ACTIVE\",\n",
            "        \"end_date\": \"2023-11-19T10:15:00.000000\"\n",
            "    }\n",
            "]\n"
          ]
        }
      ],
      "source": [
        "# ep5g reservation\n",
        "ep5g_lease = reserve(\n",
        "    { \"type\":\"network\", \"name\": \"ep5g\", \"net_name\": \"ep5g-vip\", \"segment_id\": \"100\", \"duration\": { \"days\":7, \"hours\":0 } }\n",
        ")\n",
        "\n",
        "# advantech router reservation\n",
        "adv3_lease = reserve(\n",
        "    { \"type\":\"network\", \"name\": \"adv-03\", \"net_name\": \"adv-03\", \"segment_id\": \"133\", \"duration\": { \"days\":7, \"hours\":0 } }\n",
        ")\n",
        "\n",
        "# worker reservation\n",
        "worker7_lease = reserve(\n",
        "    { \"type\":\"device\", \"name\":\"worker-07\", \"duration\": { \"days\":7, \"hours\":0 } }\n",
        ")\n",
        "\n",
        "# worker reservation\n",
        "worker8_lease = reserve(\n",
        "    { \"type\":\"device\", \"name\":\"worker-08\", \"duration\": { \"days\":7, \"hours\":0 } }\n",
        ")\n",
        "\n",
        "leaseslist = list_reservations(brief=True)\n",
        "print(json.dumps(leaseslist,indent=4))"
      ]
    },
    {
      "cell_type": "code",
      "execution_count": 6,
      "metadata": {
        "colab": {
          "base_uri": "https://localhost:8080/"
        },
        "id": "-4FICd-CdpY6",
        "outputId": "6d86f023-c1b1-4ad9-86a9-ee4f2689f7fd"
      },
      "outputs": [
        {
          "output_type": "stream",
          "name": "stdout",
          "text": [
            "{'name': 'adv-03-lease', 'id': 'efb168f7-aaf4-4569-964e-97114f73a49c', 'reservation_id': '8da6e1b5-6d8a-4898-9ac3-6063999f6cb9', 'status': 'ACTIVE', 'end_date': '2023-11-19T10:15:00.000000'} {'name': 'ep5g-lease', 'id': '80375624-08ad-4542-9e10-43368dcce2ac', 'reservation_id': '5986aa6b-b034-4728-b526-294eb2e88ee4', 'status': 'ACTIVE', 'end_date': '2023-11-19T10:14:00.000000'} 38c7f405-ad3a-4f5d-a232-72338301d3d9 dda72c1c-d5be-48b2-a916-c42f83a94019\n"
          ]
        }
      ],
      "source": [
        "leaseslist = list_reservations(brief=True)\n",
        "\n",
        "adv3_lease = [lease for lease in leaseslist if lease[\"name\"]==\"adv-03-lease\"][0]\n",
        "worker7_lease = [lease for lease in leaseslist if lease[\"name\"]==\"worker-07-lease\"][0]\n",
        "worker8_lease = [lease for lease in leaseslist if lease[\"name\"]==\"worker-08-lease\"][0]\n",
        "\n",
        "ep5g_lease = [lease for lease in leaseslist if lease[\"name\"]==\"ep5g-lease\"][0]\n",
        "worker7_reservation_id = worker7_lease[\"reservation_id\"]\n",
        "worker8_reservation_id = worker8_lease[\"reservation_id\"]\n",
        "\n",
        "print(adv3_lease,ep5g_lease, worker7_reservation_id, worker8_reservation_id)"
      ]
    },
    {
      "cell_type": "markdown",
      "metadata": {
        "id": "tNYpBeUgpn15"
      },
      "source": [
        "In the following section we setup the networking equipment for ep5g (refer to [here](https://kth-expeca.gitbook.io/testbedconfig/enroll/enroll-network-segments/ep5g) for more info).\n",
        "It contains creation of an edge-net, a router, and some interfaces on the router and routes."
      ]
    },
    {
      "cell_type": "code",
      "execution_count": 8,
      "metadata": {
        "colab": {
          "base_uri": "https://localhost:8080/"
        },
        "id": "QV7oHbSu7g5F",
        "outputId": "3945f5c2-7d58-4a06-8a03-9e160d35c92f"
      },
      "outputs": [
        {
          "output_type": "stream",
          "name": "stderr",
          "text": [
            "\u001b[32m2023-11-12 10:18:48.829\u001b[0m | \u001b[32m\u001b[1mSUCCESS \u001b[0m | \u001b[36m__main__\u001b[0m:\u001b[36m<cell line: 4>\u001b[0m:\u001b[36m4\u001b[0m - \u001b[32m\u001b[1medge-net is created.\u001b[0m\n",
            "\u001b[32m2023-11-12 10:18:51.114\u001b[0m | \u001b[32m\u001b[1mSUCCESS \u001b[0m | \u001b[36m__main__\u001b[0m:\u001b[36m<cell line: 8>\u001b[0m:\u001b[36m8\u001b[0m - \u001b[32m\u001b[1mep5g-vip-router router is created.\u001b[0m\n",
            "\u001b[32m2023-11-12 10:18:51.117\u001b[0m | \u001b[1mINFO    \u001b[0m | \u001b[36m__main__\u001b[0m:\u001b[36m<cell line: 9>\u001b[0m:\u001b[36m9\u001b[0m - \u001b[1m{\n",
            "    \"id\": \"74fe06df-3255-4fff-a894-484f946073d3\",\n",
            "    \"name\": \"ep5g-vip-router\",\n",
            "    \"tenant_id\": \"ddf790cc1bb64e0387eff22c1ab19f94\",\n",
            "    \"admin_state_up\": true,\n",
            "    \"status\": \"ACTIVE\",\n",
            "    \"external_gateway_info\": {\n",
            "        \"network_id\": \"717b5f2b-069e-4868-a24d-91a4ae3ad002\",\n",
            "        \"external_fixed_ips\": [\n",
            "            {\n",
            "                \"subnet_id\": \"53d03ffd-0d49-4f9a-88a3-a30d69fe4827\",\n",
            "                \"ip_address\": \"130.237.11.126\"\n",
            "            }\n",
            "        ],\n",
            "        \"enable_snat\": true\n",
            "    },\n",
            "    \"description\": \"\",\n",
            "    \"availability_zones\": [],\n",
            "    \"availability_zone_hints\": [],\n",
            "    \"routes\": [],\n",
            "    \"flavor_id\": null,\n",
            "    \"tags\": [],\n",
            "    \"created_at\": \"2023-11-12T10:18:49Z\",\n",
            "    \"updated_at\": \"2023-11-12T10:18:50Z\",\n",
            "    \"revision_number\": 3,\n",
            "    \"project_id\": \"ddf790cc1bb64e0387eff22c1ab19f94\"\n",
            "}\u001b[0m\n",
            "\u001b[32m2023-11-12 10:18:54.931\u001b[0m | \u001b[32m\u001b[1mSUCCESS \u001b[0m | \u001b[36m__main__\u001b[0m:\u001b[36m<cell line: 14>\u001b[0m:\u001b[36m14\u001b[0m - \u001b[32m\u001b[1mAn interface on ep5g-vip-net is added to the router\u001b[0m\n",
            "\u001b[32m2023-11-12 10:18:58.341\u001b[0m | \u001b[32m\u001b[1mSUCCESS \u001b[0m | \u001b[36m__main__\u001b[0m:\u001b[36m<cell line: 19>\u001b[0m:\u001b[36m19\u001b[0m - \u001b[32m\u001b[1mAn interface on edge-net is added to the router\u001b[0m\n",
            "\u001b[32m2023-11-12 10:19:00.173\u001b[0m | \u001b[32m\u001b[1mSUCCESS \u001b[0m | \u001b[36m__main__\u001b[0m:\u001b[36m<cell line: 23>\u001b[0m:\u001b[36m23\u001b[0m - \u001b[32m\u001b[1mthe route added to the router\u001b[0m\n"
          ]
        }
      ],
      "source": [
        "# create edge-net\n",
        "edgenet = chi.network.create_network(\"edge-net\")\n",
        "chi.network.create_subnet(\"edge-net-subnet\",edgenet[\"id\"],\"10.70.70.0/24\",gateway_ip=\"10.70.70.1\",enable_dhcp=False)\n",
        "logger.success(\"edge-net is created.\")\n",
        "\n",
        "# create ep5g-vip-router\n",
        "router = chi.network.create_router(\"ep5g-vip-router\",\"public\")\n",
        "logger.success(\"ep5g-vip-router router is created.\")\n",
        "logger.info(f\"{json.dumps(router,indent=4)}\")\n",
        "\n",
        "# connect ep5g-vip-net to ep5g-vip-router\n",
        "ep5gnet = chi.network.get_network(\"ep5g-vip-net\")\n",
        "portadd = chi.network.add_subnet_to_router(router[\"id\"],ep5gnet[\"subnets\"][0])\n",
        "logger.success(\"An interface on ep5g-vip-net is added to the router\")\n",
        "\n",
        "# create edge-net to ep5g-vip-router\n",
        "edgenet = chi.network.get_network(\"edge-net\")\n",
        "portadd = chi.network.add_subnet_to_router(router[\"id\"],edgenet[\"subnets\"][0])\n",
        "logger.success(\"An interface on edge-net is added to the router\")\n",
        "\n",
        "# add ep5g route to ep5g-vip-router\n",
        "routeadd = chi.network.add_route_to_router(router[\"id\"],\"172.16.0.0/16\",\"10.30.111.10\")\n",
        "logger.success(\"the route added to the router\")"
      ]
    },
    {
      "cell_type": "markdown",
      "metadata": {
        "id": "qlEedPyQpdZp"
      },
      "source": [
        "Now the network is ready to run the workloads. We start by running the edge-node perf-meas container."
      ]
    },
    {
      "cell_type": "code",
      "execution_count": 9,
      "metadata": {
        "colab": {
          "base_uri": "https://localhost:8080/"
        },
        "id": "KNPWOgj97oDZ",
        "outputId": "a917c815-5ef2-408d-c18c-71b237909c55"
      },
      "outputs": [
        {
          "output_type": "stream",
          "name": "stderr",
          "text": [
            "\u001b[32m2023-11-12 10:20:25.494\u001b[0m | \u001b[32m\u001b[1mSUCCESS \u001b[0m | \u001b[36m__main__\u001b[0m:\u001b[36m<cell line: 20>\u001b[0m:\u001b[36m20\u001b[0m - \u001b[32m\u001b[1mcreated edge-node container.\u001b[0m\n"
          ]
        }
      ],
      "source": [
        "edgenet = chi.network.get_network(\"edge-net\")\n",
        "chi.container.create_container(\n",
        "    name = \"edge-node\",\n",
        "    image = \"gourav4871/perf-meas-full\",\n",
        "    reservation_id = worker8_reservation_id,\n",
        "    environment = {\"SERVER_DIR\":\"/mnt/volume/\"},\n",
        "    mounts = [\n",
        "        {'source': 'edge-volume', 'destination': '/mnt/volume/'}\n",
        "    ],\n",
        "    nets = [\n",
        "        { \"network\" : edgenet['id'] },\n",
        "    ],\n",
        "    labels = {\n",
        "        \"networks.1.interface\":\"ens1\",\n",
        "        \"networks.1.ip\":\"10.70.70.3/24\",\n",
        "        \"networks.1.routes\":\"172.16.0.0/16-10.70.70.1\",\n",
        "    },\n",
        ")\n",
        "chi.container.wait_for_active(\"edge-node\")\n",
        "logger.success(\"created edge-node container.\")"
      ]
    },
    {
      "cell_type": "markdown",
      "metadata": {
        "id": "0yXjoiAApZ9m"
      },
      "source": [
        "Next, we run the end-node perf-meas container."
      ]
    },
    {
      "cell_type": "code",
      "execution_count": 10,
      "metadata": {
        "colab": {
          "base_uri": "https://localhost:8080/"
        },
        "id": "SiwwlTuX8xUg",
        "outputId": "4a943aaf-c40e-456b-fe1e-36efce6a7d6b"
      },
      "outputs": [
        {
          "output_type": "stream",
          "name": "stderr",
          "text": [
            "\u001b[32m2023-11-12 10:21:18.873\u001b[0m | \u001b[32m\u001b[1mSUCCESS \u001b[0m | \u001b[36m__main__\u001b[0m:\u001b[36m<cell line: 17>\u001b[0m:\u001b[36m17\u001b[0m - \u001b[32m\u001b[1mcreated end-node container.\u001b[0m\n"
          ]
        }
      ],
      "source": [
        "advnet = chi.network.get_network(\"adv-03-net\")\n",
        "chi.container.create_container(\n",
        "    name = \"end-node\",\n",
        "    image = \"gourav4871/perf-meas-full\",\n",
        "    reservation_id = worker7_reservation_id,\n",
        "    environment = {\"SERVER_DIR\":\"/tmp/\"},\n",
        "    nets = [\n",
        "        { \"network\" : advnet['id'] },\n",
        "    ],\n",
        "    labels = {\n",
        "        \"networks.1.interface\":\"ens1\",\n",
        "        \"networks.1.ip\":\"10.42.3.2/24\",\n",
        "        \"networks.1.routes\":\"10.70.70.0/24-10.42.3.1\",\n",
        "    },\n",
        ")\n",
        "chi.container.wait_for_active(\"end-node\")\n",
        "logger.success(\"created end-node container.\")"
      ]
    },
    {
      "cell_type": "markdown",
      "metadata": {
        "id": "hg8GIvvApWgh"
      },
      "source": [
        "Run uplink bandwidth test"
      ]
    },
    {
      "cell_type": "code",
      "execution_count": 12,
      "metadata": {
        "colab": {
          "base_uri": "https://localhost:8080/"
        },
        "id": "h1uyVgDuMvbY",
        "outputId": "c29bb330-098f-4cae-dee5-393cc35cb3c9"
      },
      "outputs": [
        {
          "output_type": "stream",
          "name": "stderr",
          "text": [
            "\u001b[32m2023-11-14 14:47:41.895\u001b[0m | \u001b[1mINFO    \u001b[0m | \u001b[36m__main__\u001b[0m:\u001b[36m<cell line: 6>\u001b[0m:\u001b[36m6\u001b[0m - \u001b[1m{'output': 'Command received and started in the background.\\n', 'exit_code': 0, 'exec_id': None, 'proxy_url': None}\u001b[0m\n"
          ]
        }
      ],
      "source": [
        "command = \"iperf3 -c 10.70.70.3 -u -b 1G --get-server-output > /proc/1/fd/1 2>&1\"\n",
        "result = chi.container.execute(\n",
        "    container_ref=\"end-node\",\n",
        "    command=\"curl -s -X POST -H \\\"Content-Type: application/json\\\" -d '{\\\"cmd\\\": \\\"\" + command + \"\\\"}' http://localhost:50505/\",\n",
        ")\n",
        "logger.info(f\"{result}\")"
      ]
    },
    {
      "cell_type": "markdown",
      "metadata": {
        "id": "ywyMFkB2pTOJ"
      },
      "source": [
        "Run downlink bandwidth test"
      ]
    },
    {
      "cell_type": "code",
      "execution_count": 23,
      "metadata": {
        "id": "zGzjdiJakaat",
        "outputId": "a0286833-0212-4fa1-bd62-c9b72b665be2",
        "colab": {
          "base_uri": "https://localhost:8080/"
        }
      },
      "outputs": [
        {
          "output_type": "stream",
          "name": "stderr",
          "text": [
            "\u001b[32m2023-11-14 12:33:06.239\u001b[0m | \u001b[1mINFO    \u001b[0m | \u001b[36m__main__\u001b[0m:\u001b[36m<cell line: 6>\u001b[0m:\u001b[36m6\u001b[0m - \u001b[1m{'output': 'Command received and started in the background.\\n', 'exit_code': 0, 'exec_id': None, 'proxy_url': None}\u001b[0m\n"
          ]
        }
      ],
      "source": [
        "command = \"iperf3 -c 172.16.0.96 -u -b 1G --get-server-output > /proc/1/fd/1 2>&1\"\n",
        "result = chi.container.execute(\n",
        "    container_ref=\"edge-node\",\n",
        "    command=\"curl -s -X POST -H \\\"Content-Type: application/json\\\" -d '{\\\"cmd\\\": \\\"\" + command + \"\\\"}' http://localhost:50505/\",\n",
        ")\n",
        "logger.info(f\"{result}\")"
      ]
    },
    {
      "cell_type": "markdown",
      "metadata": {
        "id": "8j7v3srpBHm5"
      },
      "source": [
        "### Uplink measurements"
      ]
    },
    {
      "cell_type": "code",
      "execution_count": 13,
      "metadata": {
        "id": "xXnhCPsDxr-a"
      },
      "outputs": [],
      "source": [
        "# set session parameters\n",
        "end_name = \"endnode01\"\n",
        "edge_name = \"edge\"\n",
        "nt_dev = \"adv03\"\n",
        "exp_name = \"prova\"\n",
        "client_ip = \"172.16.0.40\"\n",
        "server_ip = \"10.70.70.3\"\n",
        "sleep_dur = 10\n",
        "tripm = \"oneway\"\n",
        "total_samples = 1e6\n",
        "interval = \"10.5\" # in ms\n",
        "offset = \"0\" # ms\n",
        "length = 23520 # in B\n",
        "mult = 4 # multiple of packets\n",
        "duration = 10 # in seconds\n",
        "total_session_time = interval # in seconds\n",
        "itnum = 2 #math.ceil(total_session_time/duration)\n",
        "cl_port = \"55500\"\n",
        "nt_sleep = \"300\" # in ms"
      ]
    },
    {
      "cell_type": "code",
      "execution_count": 14,
      "metadata": {
        "colab": {
          "base_uri": "https://localhost:8080/"
        },
        "id": "tbLubYKMAQ4b",
        "outputId": "9cafcabe-386b-40a2-a3ea-691a9e944dd3"
      },
      "outputs": [
        {
          "output_type": "stream",
          "name": "stderr",
          "text": [
            "\u001b[32m2023-11-14 14:49:33.145\u001b[0m | \u001b[1mINFO    \u001b[0m | \u001b[36m__main__\u001b[0m:\u001b[36m<cell line: 7>\u001b[0m:\u001b[36m7\u001b[0m - \u001b[1m{'output': 'Command received and started in the background.\\n', 'exit_code': 0, 'exec_id': None, 'proxy_url': None}\u001b[0m\n"
          ]
        }
      ],
      "source": [
        "# run measurements at end node\n",
        "command = f\"DOWNLINK=false EDGE_NAME={edge_name} END_NAME={end_name} NT_DEV={nt_dev} EXP_NAME={exp_name} SERVER_IP={server_ip} CLIENT_IP={client_ip} ITNUM={itnum} SLEEP_DUR={sleep_dur} TRIPM={tripm} INTERVAL={interval}ms INTERVAL_OFFSET={offset}ms LENGTH={length} MULT={mult} DUR={duration}s CL_PORT={cl_port} NT_SLEEP={nt_sleep}ms /tmp/measure-upload.sh > /proc/1/fd/1 2>&1\"\n",
        "result = chi.container.execute(\n",
        "    container_ref=\"end-node\",\n",
        "    command=\"curl -s -X POST -H \\\"Content-Type: application/json\\\" -d '{\\\"cmd\\\": \\\"\" + command + \"\\\"}' http://localhost:50505/\",\n",
        ")\n",
        "logger.info(f\"{result}\")"
      ]
    },
    {
      "cell_type": "code",
      "execution_count": 13,
      "metadata": {
        "colab": {
          "base_uri": "https://localhost:8080/"
        },
        "id": "KIAwHd25AdW6",
        "outputId": "b627ebe2-756a-4d91-d869-abc149e33b47"
      },
      "outputs": [
        {
          "output_type": "stream",
          "name": "stderr",
          "text": [
            "\u001b[32m2023-11-14 10:40:39.976\u001b[0m | \u001b[1mINFO    \u001b[0m | \u001b[36m__main__\u001b[0m:\u001b[36m<cell line: 10>\u001b[0m:\u001b[36m10\u001b[0m - \u001b[1m{'output': 'Command received and started in the background.\\n', 'exit_code': 0, 'exec_id': None, 'proxy_url': None}\u001b[0m\n"
          ]
        }
      ],
      "source": [
        " # make parquet\n",
        "dev_name = \"endnode01\"\n",
        "trip = \"uplink\"\n",
        "\n",
        "command = f\"python3 /tmp/parquets-from-folders.py /mnt/volume/{exp_name}/results /mnt/volume/{exp_name}/client /mnt/volume/{exp_name}/edge/server /mnt/volume/{exp_name}/networkinfo trip={trip} > /proc/1/fd/1 2>&1\"\n",
        "result = chi.container.execute(\n",
        "    container_ref=\"edge-node\",\n",
        "    command=\"curl -s -X POST -H \\\"Content-Type: application/json\\\" -d '{\\\"cmd\\\": \\\"\" + command + \"\\\"}' http://localhost:50505/\",\n",
        ")\n",
        "logger.info(f\"{result}\")"
      ]
    },
    {
      "cell_type": "code",
      "execution_count": 14,
      "metadata": {
        "colab": {
          "base_uri": "https://localhost:8080/"
        },
        "id": "sFeIpb_wAo9D",
        "outputId": "fd9c0de2-3fa8-40bb-c767-10186349be86"
      },
      "outputs": [
        {
          "output_type": "stream",
          "name": "stderr",
          "text": [
            "\u001b[32m2023-11-14 10:43:28.589\u001b[0m | \u001b[1mINFO    \u001b[0m | \u001b[36m__main__\u001b[0m:\u001b[36m<cell line: 7>\u001b[0m:\u001b[36m7\u001b[0m - \u001b[1m{'output': 'Command received and started in the background.\\n', 'exit_code': 0, 'exec_id': None, 'proxy_url': None}\u001b[0m\n"
          ]
        }
      ],
      "source": [
        "# upload parquet files to containers\n",
        "command = \"for f in /mnt/volume/{}/results/*.parquet; do AUTH_SERVER=testbed.expeca.proj.kth.se AUTH_PROJECT_NAME=students-project-fall2023 AUTH_USERNAME=ata AUTH_PASSWORD=TEOKIDNCP3UrmIEqu6tLwSXAU2zRZXM0xlpwtQGo python3 /tmp/upload-files.py $f {}; done\".format(exp_name,exp_name)\n",
        "result = chi.container.execute(\n",
        "    container_ref=\"edge-node\",\n",
        "    command=\"curl -s -X POST -H \\\"Content-Type: application/json\\\" -d '{\\\"cmd\\\": \\\"\" + command + \"\\\"}' http://localhost:50505/\",\n",
        ")\n",
        "logger.info(f\"{result}\")"
      ]
    },
    {
      "cell_type": "markdown",
      "source": [
        "### Downlink Measurement"
      ],
      "metadata": {
        "id": "_bS3bBLepSZU"
      }
    },
    {
      "cell_type": "code",
      "execution_count": 10,
      "metadata": {
        "id": "h60oq7GAxV2Q"
      },
      "outputs": [],
      "source": [
        "# set session parameters\n",
        "end_name = \"endnode01\"\n",
        "edge_name = \"edge\"\n",
        "nt_dev = \"adv03\"\n",
        "exp_name = \"session19-DL\"\n",
        "server_ip = \"172.16.0.40\"\n",
        "client_ip = \"10.70.70.3\"\n",
        "sleep_dur = 30\n",
        "tripm = \"oneway\"\n",
        "total_samples = 1e6\n",
        "interval = 5500 # in us\n",
        "offset = \"0\" # ms\n",
        "length = 22220 # in B\n",
        "mult = 8 # multiple of packets\n",
        "duration = 1810 # in seconds\n",
        "total_session_time = interval # in seconds\n",
        "itnum = 1 #math.ceil(total_session_time/duration)\n",
        "cl_port = \"55500\"\n",
        "nt_sleep = \"300\" # in ms"
      ]
    },
    {
      "cell_type": "code",
      "execution_count": 11,
      "metadata": {
        "colab": {
          "base_uri": "https://localhost:8080/"
        },
        "id": "muNS92adk64f",
        "outputId": "52805432-4c24-473b-e412-d30841897c14"
      },
      "outputs": [
        {
          "output_type": "stream",
          "name": "stderr",
          "text": [
            "\u001b[32m2023-11-14 14:43:39.149\u001b[0m | \u001b[1mINFO    \u001b[0m | \u001b[36m__main__\u001b[0m:\u001b[36m<cell line: 7>\u001b[0m:\u001b[36m7\u001b[0m - \u001b[1m{'output': 'Command received and started in the background.\\n', 'exit_code': 0, 'exec_id': None, 'proxy_url': None}\u001b[0m\n"
          ]
        }
      ],
      "source": [
        " ###### run measurements at edge node #####\n",
        "command = f\"DOWNLINK=true EDGE_NAME={edge_name} END_NAME={end_name} NT_DEV={nt_dev} EXP_NAME={exp_name} SERVER_IP={server_ip} CLIENT_IP={client_ip} ITNUM={itnum} SLEEP_DUR={sleep_dur} TRIPM={tripm} INTERVAL={interval}us INTERVAL_OFFSET={offset}ms LENGTH={length} MULT={mult} DUR={duration}s CL_PORT={cl_port} NT_SLEEP={nt_sleep}ms /tmp/measure-upload.sh > /proc/1/fd/1 2>&1\"\n",
        "result = chi.container.execute(\n",
        "    container_ref=\"edge-node\",\n",
        "    command=\"curl -s -X POST -H \\\"Content-Type: application/json\\\" -d '{\\\"cmd\\\": \\\"\" + command + \"\\\"}' http://localhost:50505/\",\n",
        ")\n",
        "logger.info(f\"{result}\")"
      ]
    },
    {
      "cell_type": "code",
      "execution_count": 8,
      "metadata": {
        "colab": {
          "base_uri": "https://localhost:8080/"
        },
        "id": "nIS4ZEu_lHlz",
        "outputId": "d246c8dd-eafe-4343-e716-3ef0f737b5fc"
      },
      "outputs": [
        {
          "output_type": "stream",
          "name": "stderr",
          "text": [
            "\u001b[32m2023-11-14 14:30:27.106\u001b[0m | \u001b[1mINFO    \u001b[0m | \u001b[36m__main__\u001b[0m:\u001b[36m<cell line: 9>\u001b[0m:\u001b[36m9\u001b[0m - \u001b[1m{'output': 'Command received and started in the background.\\n', 'exit_code': 0, 'exec_id': None, 'proxy_url': None}\u001b[0m\n"
          ]
        }
      ],
      "source": [
        "dev_name = \"endnode01\"\n",
        "trip = \"downlink\"\n",
        " # make parquet\n",
        "command = f\"python3 /tmp/parquets-from-folders.py /mnt/volume/{exp_name}/results /mnt/volume/{exp_name}/edge/client /mnt/volume/{exp_name}/{dev_name}/server /mnt/volume/{exp_name}/{dev_name}/networkinfo trip={trip} > /proc/1/fd/1 2>&1\"\n",
        "result = chi.container.execute(\n",
        "    container_ref=\"edge-node\",\n",
        "    command=\"curl -s -X POST -H \\\"Content-Type: application/json\\\" -d '{\\\"cmd\\\": \\\"\" + command + \"\\\"}' http://localhost:50505/\",\n",
        ")\n",
        "logger.info(f\"{result}\")"
      ]
    },
    {
      "cell_type": "code",
      "execution_count": 9,
      "metadata": {
        "colab": {
          "base_uri": "https://localhost:8080/"
        },
        "id": "fCa8pL11x8ji",
        "outputId": "91b1eab6-5704-49a5-e67b-5916e41a8cca"
      },
      "outputs": [
        {
          "output_type": "stream",
          "name": "stderr",
          "text": [
            "\u001b[32m2023-11-14 14:33:55.911\u001b[0m | \u001b[1mINFO    \u001b[0m | \u001b[36m__main__\u001b[0m:\u001b[36m<cell line: 7>\u001b[0m:\u001b[36m7\u001b[0m - \u001b[1m{'output': 'Command received and started in the background.\\n', 'exit_code': 0, 'exec_id': None, 'proxy_url': None}\u001b[0m\n"
          ]
        }
      ],
      "source": [
        "# upload parquet files to containers\n",
        "command = \"for f in /mnt/volume/{}/results/*.parquet; do AUTH_SERVER=testbed.expeca.proj.kth.se AUTH_PROJECT_NAME=students-project-fall2023 AUTH_USERNAME=ata AUTH_PASSWORD=TEOKIDNCP3UrmIEqu6tLwSXAU2zRZXM0xlpwtQGo python3 /tmp/upload-files.py $f {}; done\".format(exp_name,exp_name)\n",
        "result = chi.container.execute(\n",
        "    container_ref=\"edge-node\",\n",
        "    command=\"curl -s -X POST -H \\\"Content-Type: application/json\\\" -d '{\\\"cmd\\\": \\\"\" + command + \"\\\"}' http://localhost:50505/\",\n",
        ")\n",
        "logger.info(f\"{result}\")"
      ]
    },
    {
      "cell_type": "markdown",
      "source": [
        "### Reset Setup"
      ],
      "metadata": {
        "id": "6mUByDjYozWr"
      }
    },
    {
      "cell_type": "markdown",
      "metadata": {
        "id": "fRL16_YHsjC5"
      },
      "source": [
        "CAUTION: In this cell we tear down all the configurations and release the reserved resources. The project will be clean afterwards."
      ]
    },
    {
      "cell_type": "code",
      "execution_count": 17,
      "metadata": {
        "colab": {
          "base_uri": "https://localhost:8080/"
        },
        "id": "Bbme5W7isiQa",
        "outputId": "33492d0b-64d6-44de-9fdd-6671a3bf641a"
      },
      "outputs": [
        {
          "output_type": "stream",
          "name": "stderr",
          "text": [
            "\u001b[32m2023-11-12 10:09:29.738\u001b[0m | \u001b[1mINFO    \u001b[0m | \u001b[36mchi.expeca\u001b[0m:\u001b[36mwait_until_container_removed\u001b[0m:\u001b[36m30\u001b[0m - \u001b[1mwaiting 30 seconds for edge-node container to be removed\u001b[0m\n",
            "\u001b[32m2023-11-12 10:09:35.052\u001b[0m | \u001b[1mINFO    \u001b[0m | \u001b[36mchi.expeca\u001b[0m:\u001b[36mwait_until_container_removed\u001b[0m:\u001b[36m37\u001b[0m - \u001b[1mcontainer edge-node is in Running state.\u001b[0m\n",
            "\u001b[32m2023-11-12 10:09:40.370\u001b[0m | \u001b[1mINFO    \u001b[0m | \u001b[36mchi.expeca\u001b[0m:\u001b[36mwait_until_container_removed\u001b[0m:\u001b[36m37\u001b[0m - \u001b[1mcontainer edge-node is in None state.\u001b[0m\n",
            "\u001b[32m2023-11-12 10:09:41.000\u001b[0m | \u001b[1mINFO    \u001b[0m | \u001b[36mchi.expeca\u001b[0m:\u001b[36mwait_until_container_removed\u001b[0m:\u001b[36m30\u001b[0m - \u001b[1mwaiting 30 seconds for end-node container to be removed\u001b[0m\n",
            "\u001b[32m2023-11-12 10:09:46.300\u001b[0m | \u001b[1mINFO    \u001b[0m | \u001b[36mchi.expeca\u001b[0m:\u001b[36mwait_until_container_removed\u001b[0m:\u001b[36m37\u001b[0m - \u001b[1mcontainer end-node is in Running state.\u001b[0m\n",
            "\u001b[32m2023-11-12 10:09:51.605\u001b[0m | \u001b[1mINFO    \u001b[0m | \u001b[36mchi.expeca\u001b[0m:\u001b[36mwait_until_container_removed\u001b[0m:\u001b[36m37\u001b[0m - \u001b[1mcontainer end-node is in None state.\u001b[0m\n",
            "\u001b[32m2023-11-12 10:09:51.608\u001b[0m | \u001b[1mINFO    \u001b[0m | \u001b[36m__main__\u001b[0m:\u001b[36m<cell line: 12>\u001b[0m:\u001b[36m12\u001b[0m - \u001b[1mstopped and removed all containers\u001b[0m\n",
            "\u001b[32m2023-11-12 10:09:55.554\u001b[0m | \u001b[32m\u001b[1mSUCCESS \u001b[0m | \u001b[36m__main__\u001b[0m:\u001b[36m<cell line: 21>\u001b[0m:\u001b[36m24\u001b[0m - \u001b[32m\u001b[1mremoved all routers from router\u001b[0m\n",
            "\u001b[32m2023-11-12 10:09:55.884\u001b[0m | \u001b[1mINFO    \u001b[0m | \u001b[36m__main__\u001b[0m:\u001b[36m<cell line: 21>\u001b[0m:\u001b[36m28\u001b[0m - \u001b[1mchecking all 4 subnets.\u001b[0m\n",
            "\u001b[32m2023-11-12 10:10:02.238\u001b[0m | \u001b[32m\u001b[1mSUCCESS \u001b[0m | \u001b[36m__main__\u001b[0m:\u001b[36m<cell line: 21>\u001b[0m:\u001b[36m34\u001b[0m - \u001b[32m\u001b[1mremoved all subnets from router\u001b[0m\n",
            "\u001b[32m2023-11-12 10:10:03.545\u001b[0m | \u001b[32m\u001b[1mSUCCESS \u001b[0m | \u001b[36m__main__\u001b[0m:\u001b[36m<cell line: 21>\u001b[0m:\u001b[36m37\u001b[0m - \u001b[32m\u001b[1mdeleted the router\u001b[0m\n",
            "\u001b[32m2023-11-12 10:10:10.091\u001b[0m | \u001b[32m\u001b[1mSUCCESS \u001b[0m | \u001b[36m__main__\u001b[0m:\u001b[36m<cell line: 45>\u001b[0m:\u001b[36m47\u001b[0m - \u001b[32m\u001b[1mdeleted the edge-net\u001b[0m\n"
          ]
        }
      ],
      "source": [
        "status = get_container_status(\"edge-node\")\n",
        "if status:\n",
        "    chi.container.destroy_container(\"edge-node\")\n",
        "    wait_until_container_removed(\"edge-node\")\n",
        "\n",
        "\n",
        "status = get_container_status(\"end-node\")\n",
        "if status:\n",
        "    chi.container.destroy_container(\"end-node\")\n",
        "    wait_until_container_removed(\"end-node\")\n",
        "\n",
        "logger.info(f\"stopped and removed all containers\")\n",
        "\n",
        "# find the router again\n",
        "router = None\n",
        "try:\n",
        "    router = chi.network.get_router(\"ep5g-vip-router\")\n",
        "except Exception as ex:\n",
        "    logger.info(f\"could not find ep5g-vip-router.\")\n",
        "\n",
        "if router:\n",
        "    # remove all routes from the router\n",
        "    chi.network.remove_all_routes_from_router(router[\"id\"])\n",
        "    logger.success(f\"removed all routers from router\")\n",
        "\n",
        "    # remove all subnets from the router\n",
        "    subnets = chi.network.list_subnets()\n",
        "    logger.info(f\"checking all {len(subnets)} subnets.\")\n",
        "    for subnet in subnets:\n",
        "        try:\n",
        "            chi.network.remove_subnet_from_router(router[\"id\"],subnet[\"id\"])\n",
        "        except Exception as ex:\n",
        "            pass\n",
        "    logger.success(f\"removed all subnets from router\")\n",
        "\n",
        "    chi.network.delete_router(router[\"id\"])\n",
        "    logger.success(f\"deleted the router\")\n",
        "\n",
        "edgenet = None\n",
        "try:\n",
        "    edgenet = chi.network.get_network(\"edge-net\")\n",
        "except Exception as ex:\n",
        "    logger.info(f\"could not find edge-net.\")\n",
        "\n",
        "if edgenet:\n",
        "    chi.network.delete_network(edgenet[\"id\"])\n",
        "    logger.success(f\"deleted the edge-net\")\n",
        "\n",
        "# remove the leases\n",
        "# unreserve_byid(ep5g_lease[\"id\"])\n",
        "# unreserve_byid(adv_lease[\"id\"])\n",
        "# unreserve_byid(worker_lease[\"id\"])"
      ]
    },
    {
      "cell_type": "code",
      "execution_count": 18,
      "metadata": {
        "colab": {
          "base_uri": "https://localhost:8080/"
        },
        "id": "Ejm5twqBejnd",
        "outputId": "3a2514b1-aa5d-4043-ec8e-fc24398170af"
      },
      "outputs": [
        {
          "output_type": "stream",
          "name": "stderr",
          "text": [
            "\u001b[32m2023-11-12 10:10:15.764\u001b[0m | \u001b[1mINFO    \u001b[0m | \u001b[36mchi.expeca\u001b[0m:\u001b[36mremove_lease\u001b[0m:\u001b[36m84\u001b[0m - \u001b[1mRemoving ep5g-lease reservation with id 01167fc2-b7d8-4099-985b-72990e6c16c6.\u001b[0m\n",
            "\u001b[32m2023-11-12 10:10:36.346\u001b[0m | \u001b[1mINFO    \u001b[0m | \u001b[36mchi.expeca\u001b[0m:\u001b[36mwait_until_lease_status\u001b[0m:\u001b[36m62\u001b[0m - \u001b[1mwaiting 120 seconds for ep5g-lease with id 01167fc2-b7d8-4099-985b-72990e6c16c6 to become \"None\"\u001b[0m\n",
            "\u001b[32m2023-11-12 10:10:41.623\u001b[0m | \u001b[1mINFO    \u001b[0m | \u001b[36mchi.expeca\u001b[0m:\u001b[36mwait_until_lease_status\u001b[0m:\u001b[36m69\u001b[0m - \u001b[1mlease ep5g-lease with id 01167fc2-b7d8-4099-985b-72990e6c16c6 is None.\u001b[0m\n",
            "\u001b[32m2023-11-12 10:10:41.625\u001b[0m | \u001b[32m\u001b[1mSUCCESS \u001b[0m | \u001b[36mchi.expeca\u001b[0m:\u001b[36mtry_to_remove\u001b[0m:\u001b[36m95\u001b[0m - \u001b[32m\u001b[1mdone\u001b[0m\n",
            "\u001b[32m2023-11-12 10:10:41.896\u001b[0m | \u001b[1mINFO    \u001b[0m | \u001b[36mchi.expeca\u001b[0m:\u001b[36mremove_lease\u001b[0m:\u001b[36m84\u001b[0m - \u001b[1mRemoving adv-03-lease reservation with id 1f501e89-5afb-4278-b4e1-1f23bb95e3f4.\u001b[0m\n",
            "\u001b[32m2023-11-12 10:10:56.018\u001b[0m | \u001b[1mINFO    \u001b[0m | \u001b[36mchi.expeca\u001b[0m:\u001b[36mwait_until_lease_status\u001b[0m:\u001b[36m62\u001b[0m - \u001b[1mwaiting 120 seconds for adv-03-lease with id 1f501e89-5afb-4278-b4e1-1f23bb95e3f4 to become \"None\"\u001b[0m\n",
            "\u001b[32m2023-11-12 10:11:01.290\u001b[0m | \u001b[1mINFO    \u001b[0m | \u001b[36mchi.expeca\u001b[0m:\u001b[36mwait_until_lease_status\u001b[0m:\u001b[36m69\u001b[0m - \u001b[1mlease adv-03-lease with id 1f501e89-5afb-4278-b4e1-1f23bb95e3f4 is None.\u001b[0m\n",
            "\u001b[32m2023-11-12 10:11:01.292\u001b[0m | \u001b[32m\u001b[1mSUCCESS \u001b[0m | \u001b[36mchi.expeca\u001b[0m:\u001b[36mtry_to_remove\u001b[0m:\u001b[36m95\u001b[0m - \u001b[32m\u001b[1mdone\u001b[0m\n",
            "\u001b[32m2023-11-12 10:11:01.550\u001b[0m | \u001b[1mINFO    \u001b[0m | \u001b[36mchi.expeca\u001b[0m:\u001b[36mremove_lease\u001b[0m:\u001b[36m84\u001b[0m - \u001b[1mRemoving worker-07-lease reservation with id 01d4e9a1-71e2-483f-b9f5-0316783335e1.\u001b[0m\n",
            "\u001b[32m2023-11-12 10:11:03.269\u001b[0m | \u001b[1mINFO    \u001b[0m | \u001b[36mchi.expeca\u001b[0m:\u001b[36mwait_until_lease_status\u001b[0m:\u001b[36m62\u001b[0m - \u001b[1mwaiting 120 seconds for worker-07-lease with id 01d4e9a1-71e2-483f-b9f5-0316783335e1 to become \"None\"\u001b[0m\n",
            "\u001b[32m2023-11-12 10:11:08.549\u001b[0m | \u001b[1mINFO    \u001b[0m | \u001b[36mchi.expeca\u001b[0m:\u001b[36mwait_until_lease_status\u001b[0m:\u001b[36m69\u001b[0m - \u001b[1mlease worker-07-lease with id 01d4e9a1-71e2-483f-b9f5-0316783335e1 is None.\u001b[0m\n",
            "\u001b[32m2023-11-12 10:11:08.551\u001b[0m | \u001b[32m\u001b[1mSUCCESS \u001b[0m | \u001b[36mchi.expeca\u001b[0m:\u001b[36mtry_to_remove\u001b[0m:\u001b[36m95\u001b[0m - \u001b[32m\u001b[1mdone\u001b[0m\n",
            "\u001b[32m2023-11-12 10:11:08.827\u001b[0m | \u001b[1mINFO    \u001b[0m | \u001b[36mchi.expeca\u001b[0m:\u001b[36mremove_lease\u001b[0m:\u001b[36m84\u001b[0m - \u001b[1mRemoving worker-08-lease reservation with id 77f64a37-26cf-4aa4-9620-c3aead971c38.\u001b[0m\n",
            "\u001b[32m2023-11-12 10:11:10.263\u001b[0m | \u001b[1mINFO    \u001b[0m | \u001b[36mchi.expeca\u001b[0m:\u001b[36mwait_until_lease_status\u001b[0m:\u001b[36m62\u001b[0m - \u001b[1mwaiting 120 seconds for worker-08-lease with id 77f64a37-26cf-4aa4-9620-c3aead971c38 to become \"None\"\u001b[0m\n",
            "\u001b[32m2023-11-12 10:11:15.537\u001b[0m | \u001b[1mINFO    \u001b[0m | \u001b[36mchi.expeca\u001b[0m:\u001b[36mwait_until_lease_status\u001b[0m:\u001b[36m69\u001b[0m - \u001b[1mlease worker-08-lease with id 77f64a37-26cf-4aa4-9620-c3aead971c38 is None.\u001b[0m\n",
            "\u001b[32m2023-11-12 10:11:15.538\u001b[0m | \u001b[32m\u001b[1mSUCCESS \u001b[0m | \u001b[36mchi.expeca\u001b[0m:\u001b[36mtry_to_remove\u001b[0m:\u001b[36m95\u001b[0m - \u001b[32m\u001b[1mdone\u001b[0m\n"
          ]
        }
      ],
      "source": [
        "unreserve_byid(ep5g_lease[\"id\"])\n",
        "unreserve_byid(adv3_lease[\"id\"])\n",
        "unreserve_byid(worker7_lease[\"id\"])\n",
        "unreserve_byid(worker8_lease[\"id\"])\n"
      ]
    },
    {
      "cell_type": "code",
      "execution_count": 19,
      "metadata": {
        "id": "aVPqarA0lzAV",
        "outputId": "d62e3f08-bd41-4a95-ef23-a1054dd92f4d",
        "colab": {
          "base_uri": "https://localhost:8080/"
        }
      },
      "outputs": [
        {
          "output_type": "stream",
          "name": "stderr",
          "text": [
            "\u001b[32m2023-11-12 10:11:20.747\u001b[0m | \u001b[31m\u001b[1mERROR   \u001b[0m | \u001b[36mchi.expeca\u001b[0m:\u001b[36munreserve_byid\u001b[0m:\u001b[36m164\u001b[0m - \u001b[31m\u001b[1mno reservation found with id 01167fc2-b7d8-4099-985b-72990e6c16c6\u001b[0m\n"
          ]
        },
        {
          "output_type": "stream",
          "name": "stdout",
          "text": [
            "{'name': 'ep5g-lease', 'id': '01167fc2-b7d8-4099-985b-72990e6c16c6', 'reservation_id': 'dfc027d9-750d-453e-8c19-104fd60ba97e', 'status': 'ACTIVE', 'end_date': '2023-11-17T13:36:00.000000'}\n"
          ]
        }
      ],
      "source": [
        "ep5g_lease = [lease for lease in leaseslist if lease[\"name\"]==\"ep5g-lease\"][0]\n",
        "unreserve_byid(ep5g_lease[\"id\"])\n",
        "print(ep5g_lease)"
      ]
    }
  ],
  "metadata": {
    "colab": {
      "provenance": []
    },
    "kernelspec": {
      "display_name": "Python 3 (ipykernel)",
      "language": "python",
      "name": "python3"
    },
    "language_info": {
      "codemirror_mode": {
        "name": "ipython",
        "version": 3
      },
      "file_extension": ".py",
      "mimetype": "text/x-python",
      "name": "python",
      "nbconvert_exporter": "python",
      "pygments_lexer": "ipython3",
      "version": "3.9.0"
    }
  },
  "nbformat": 4,
  "nbformat_minor": 0
}